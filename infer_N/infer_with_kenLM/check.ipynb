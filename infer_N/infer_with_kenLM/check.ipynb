{
 "cells": [
  {
   "cell_type": "code",
   "execution_count": 1,
   "metadata": {},
   "outputs": [],
   "source": [
    "from pydub import AudioSegment\n",
    "import numpy as np\n",
    "\n",
    "# Hàm đọc file audio và cắt theo danh sách segment\n",
    "def split_audio_by_segments(audio_file, vad_segments):\n",
    "    # Load file âm thanh\n",
    "    audio = AudioSegment.from_file(audio_file)\n",
    "    \n",
    "    # Mảng chứa các đoạn audio đã cắt\n",
    "    audio_segments = []\n",
    "    \n",
    "    # Lặp qua từng đoạn thời gian và cắt audio\n",
    "    for segment in vad_segments:\n",
    "        start_time = segment[0] * 1000  # Chuyển giây thành milliseconds\n",
    "        end_time = segment[1] * 1000\n",
    "        audio_segment = audio[start_time:end_time]\n",
    "        audio_segments.append(audio_segment)\n",
    "    \n",
    "    return audio_segments\n",
    "\n",
    "# Thông tin VAD segments: (start_time, end_time)\n",
    "vad_segments = [\n",
    "    (1.646, 3.986), (4.24, 17.54), (17.54, 29.91), \n",
    "    (30.062, 46.962), (49.294, 50.386), (50.574, 52.114), \n",
    "    (52.238, 54.45), (54.574, 64.786), (65.006, 67.314), \n",
    "    (67.63, 86.962), (90.09, 98.19), (98.19, 103.79), \n",
    "    (103.79, 113.59), (113.59, 127.69), (127.69, 140.29), \n",
    "    (140.29, 149.39), (149.39, 162.59), (162.59, 169.58), \n",
    "    (169.87, 179.378), (179.79, 184.89), (184.89, 196.29), \n",
    "    (196.29, 210.29), (210.29, 216.59), (216.59, 225.69), \n",
    "    (225.69, 233.09), (233.09, 245.39), (245.39, 252.19), \n",
    "    (252.19, 260.89), (260.89, 267.31), (270.798, 283.154), \n",
    "    (283.28, 290.48), (290.48, 296.38), (296.38, 304.78), \n",
    "    (304.78, 315.78), (315.78, 327.58), (327.58, 340.28), \n",
    "    (340.28, 352.31), (352.942, 366.144)\n",
    "]\n",
    "\n",
    "# Đường dẫn tới file âm thanh\n",
    "audio_file = \"/home/lmnguyen/Projects/Speech-To-Text/ai_services/__service__speaker-diarization/resources/media/[Lỗi 11.10] File 4.wav\"\n",
    "\n",
    "# Cắt audio thành các đoạn và lưu vào mảng\n",
    "audio_segments = split_audio_by_segments(audio_file, vad_segments)\n",
    "\n",
    "# Xuất thử một đoạn audio để kiểm tra\n",
    "for index, audio in enumerate(audio_segments):\n",
    "    audio.export(f\"/home/pdnguyen/Format_repo/asr-training/Fastconformer/Train_kenLM/infer_with_kenLM/wavs/output_segment_{index}.wav\", format=\"wav\")\n"
   ]
  }
 ],
 "metadata": {
  "kernelspec": {
   "display_name": "install_beam",
   "language": "python",
   "name": "python3"
  },
  "language_info": {
   "codemirror_mode": {
    "name": "ipython",
    "version": 3
   },
   "file_extension": ".py",
   "mimetype": "text/x-python",
   "name": "python",
   "nbconvert_exporter": "python",
   "pygments_lexer": "ipython3",
   "version": "3.10.15"
  }
 },
 "nbformat": 4,
 "nbformat_minor": 2
}
