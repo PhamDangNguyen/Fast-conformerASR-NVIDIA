{
 "cells": [
  {
   "cell_type": "code",
   "execution_count": 14,
   "metadata": {},
   "outputs": [
    {
     "name": "stdout",
     "output_type": "stream",
     "text": [
      "2591.4794978243635\n"
     ]
    }
   ],
   "source": [
    "#data more\n",
    "import pandas as pd\n",
    "from pathlib import Path\n",
    "import os\n",
    "data_augment = pd.read_csv(\"/home/pdnguyen/fast_confomer_finetun/finetune-fast-conformer/notebooks/results_csv/augment_0_2_all_0_7_lound_speed.csv\")\n",
    "data_augment = data_augment.sample(frac=0.5, random_state=1).reset_index(drop=True)\n",
    "augment_lound_speed = pd.read_csv(\"/home/pdnguyen/fast_confomer_finetun/finetune-fast-conformer/notebooks/results_csv/augment_0_2_all_0_7_lound_speed_train_2k1hours.csv\")\n",
    "augment_lound_speed = augment_lound_speed.sample(frac=0.25, random_state=1).reset_index(drop=True)\n",
    "\n",
    "data_medical = pd.read_csv(\"/mnt/driver/STT_data/STT_dataset/64.VietMed/metadata_normalize_final.csv\")\n",
    "data_clean = pd.read_csv(\"/home/pdnguyen/fast_confomer_finetun/finetune-fast-conformer/notebooks/results_csv/2023_2024_origin_data_clean.csv\")\n",
    "data_tele_sale = pd.read_csv(\"/mnt/driver/STT_data/STT_dataset/62.Tele_extra_augment/metadata.csv\")\n",
    "data_augment_10_dir = pd.read_csv(\"/mnt/driver/pdnguyen/studen_annoted/csv/check_to_remove/augment_tele_10dir.csv\")\n",
    "\n",
    "data_augment_tele_add = pd.read_csv(\"/home/pdnguyen/fast_confomer_finetun/finetune-fast-conformer/notebooks/results_csv/metadata_train_tele_them_7_5_2024.csv\")\n",
    "\n",
    "dir_62_tele = pd.read_csv(\"/mnt/driver/STT_data/STT_dataset/62.Tele_extra_augment/metadata.csv\")\n",
    "\n",
    "train_data = pd.concat([data_augment,augment_lound_speed,data_medical,data_clean,data_tele_sale,data_augment_10_dir,data_augment_tele_add,dir_62_tele])\n",
    "\n",
    "total_time_minutes = train_data['duration'].sum()\n",
    "print(total_time_minutes/3600)"
   ]
  },
  {
   "cell_type": "code",
   "execution_count": 15,
   "metadata": {},
   "outputs": [],
   "source": [
    "train_data_exists = train_data[train_data['file'].apply(os.path.exists)]"
   ]
  },
  {
   "cell_type": "code",
   "execution_count": 16,
   "metadata": {},
   "outputs": [],
   "source": [
    "\n",
    "train_data_exists.to_csv('/home/pdnguyen/fast_confomer_finetun/finetune-fast-conformer/notebooks/results_csv/demo_2.csv', index=False, encoding='utf-8')"
   ]
  },
  {
   "cell_type": "code",
   "execution_count": null,
   "metadata": {},
   "outputs": [],
   "source": [
    "columns_to_save =columns_to_save =  [\"file\", \"text\", \"duration\"]\n",
    "train_data = train_data.sample(frac=1,random_state=1).reset_index(drop=True)\n",
    "train_data.to_csv('/home/pdnguyen/fast_confomer_finetun/finetune-fast-conformer/notebooks/results_csv/augment_0_2_all_0_7_lound_speed_train_2k1hours.csv', columns=columns_to_save, index=False, encoding='utf-8')"
   ]
  },
  {
   "cell_type": "code",
   "execution_count": null,
   "metadata": {},
   "outputs": [],
   "source": [
    "# columns_to_save = [\"file\", \"text\", \"duration\"]\n",
    "# total_data_train.to_csv('/home/pdnguyen/fast_confomer_finetun/finetune-fast-conformer/notebooks/results_csv/train_2023_2024.csv', columns=columns_to_save, index=False, encoding='utf-8')\n",
    "# total_data_val.to_csv('/home/pdnguyen/fast_confomer_finetun/finetune-fast-conformer/notebooks/results_csv/val_2023_2024.csv', columns=columns_to_save, index=False, encoding='utf-8')"
   ]
  },
  {
   "cell_type": "markdown",
   "metadata": {},
   "source": [
    "# Check Telesale Augment"
   ]
  },
  {
   "cell_type": "code",
   "execution_count": null,
   "metadata": {},
   "outputs": [],
   "source": [
    "import pandas as pd\n",
    "from pathlib import Path\n",
    "import os"
   ]
  },
  {
   "cell_type": "code",
   "execution_count": null,
   "metadata": {},
   "outputs": [],
   "source": [
    "# folder_path = \"/mnt/driver/STT_data/STT_dataset/62.Tele_extra_augment\"\n",
    "\n",
    "# data_frames = []\n",
    "\n",
    "# for root, dirs, files in os.walk(folder_path):\n",
    "#     for file in files:\n",
    "#         if file.endswith(\".csv\"):\n",
    "#             file_path = os.path.join(root, file)\n",
    "#             try:\n",
    "#                 df = pd.read_csv(file_path)\n",
    "#                 data_frames.append(df)\n",
    "#             except Exception as e:\n",
    "#                 print(f\"Không thể đọc file {file_path}: {e}\")\n",
    "\n",
    "# combined_data = pd.concat(data_frames, ignore_index=True)\n",
    "# print(combined_data.shape)\n",
    "\n",
    "combined_data = pd.read_csv(\"/home/lmnguyen/lmnguyen-stt/datasets/telesale/data.csv\")"
   ]
  },
  {
   "cell_type": "code",
   "execution_count": null,
   "metadata": {},
   "outputs": [],
   "source": [
    "combined_data[\"path\"] = combined_data[\"path\"].apply(lambda x: x.replace(\"/home/ndanh/STT_dataset\",\"/mnt/driver/STT_data/STT_dataset\"))"
   ]
  },
  {
   "cell_type": "code",
   "execution_count": null,
   "metadata": {},
   "outputs": [],
   "source": [
    "filtered_data_62 = combined_data[combined_data[\"path\"].str.contains(\"62.Tele_extra_augment\")]\n",
    "\n",
    "filtered_data_62.to_csv(\"/home/pdnguyen/fast_confomer_finetun/finetune-fast-conformer/filtered_data_62.csv\", index=False)"
   ]
  },
  {
   "cell_type": "code",
   "execution_count": null,
   "metadata": {},
   "outputs": [],
   "source": [
    "def get_wav(path_folder):\n",
    "    arr_wav = []\n",
    "    for root, dirs, files in os.walk(path_folder):\n",
    "        for file in files:\n",
    "            if file.endswith(\".wav\"):\n",
    "                file_path = os.path.join(root, file)\n",
    "                arr_wav.append(file_path)\n",
    "    return arr_wav"
   ]
  },
  {
   "cell_type": "code",
   "execution_count": null,
   "metadata": {},
   "outputs": [],
   "source": [
    "folder_wav_62 = \"/home/lmnguyen/lmnguyen-stt/datasets/telesale\"\n",
    "arr_62 = get_wav(folder_wav_62)\n",
    "print(len(arr_62))\n"
   ]
  },
  {
   "cell_type": "code",
   "execution_count": null,
   "metadata": {},
   "outputs": [],
   "source": [
    "arr_62_set = set(arr_62)\n",
    "\n",
    "rows_in_arr_62 = filtered_data_62[filtered_data_62[\"file\"].isin(arr_62_set)]\n",
    "\n",
    "files_not_in_filtered_data_62 = [file for file in arr_62 if file not in set(filtered_data_62[\"file\"])]"
   ]
  },
  {
   "cell_type": "code",
   "execution_count": null,
   "metadata": {},
   "outputs": [],
   "source": [
    "print(rows_in_arr_62.shape)\n",
    "print(len(files_not_in_filtered_data_62))"
   ]
  },
  {
   "cell_type": "code",
   "execution_count": null,
   "metadata": {},
   "outputs": [],
   "source": [
    "rows_in_arr_62.to_csv(\"/home/pdnguyen/fast_confomer_finetun/finetune-fast-conformer/check_to_remove/file_da_train_62.csv\", index=False)\n",
    "\n",
    "files_not_in_filtered_data_62 = pd.DataFrame(files_not_in_filtered_data_62, columns=[\"file\"])\n",
    "\n",
    "files_not_in_filtered_data_62.to_csv(\"/home/pdnguyen/fast_confomer_finetun/finetune-fast-conformer/check_to_remove/file_new_62.csv\", index=False)\n"
   ]
  },
  {
   "cell_type": "markdown",
   "metadata": {},
   "source": [
    "# Chia data vào từng folder"
   ]
  },
  {
   "cell_type": "code",
   "execution_count": 6,
   "metadata": {},
   "outputs": [],
   "source": [
    "import pandas as pd\n",
    "from pathlib import Path\n",
    "import os\n",
    "import shutil\n",
    "from concurrent.futures import ThreadPoolExecutor\n",
    "import tqdm\n",
    "from pathlib import Path\n",
    "from pydub import AudioSegment\n",
    "from pydub.utils import mediainfo"
   ]
  },
  {
   "cell_type": "code",
   "execution_count": 7,
   "metadata": {},
   "outputs": [
    {
     "name": "stdout",
     "output_type": "stream",
     "text": [
      "(37281, 1)\n"
     ]
    }
   ],
   "source": [
    "data_move = pd.read_csv(\"/home/pdnguyen/fast_confomer_finetun/finetune-fast-conformer/check_to_remove/file_new_10.csv\")\n",
    "print(data_move.shape)"
   ]
  },
  {
   "cell_type": "code",
   "execution_count": 7,
   "metadata": {},
   "outputs": [],
   "source": [
    "def copy_file(file_path, destination_folder):\n",
    "    try:\n",
    "        # Tạo đường dẫn đầy đủ tới file đích\n",
    "        dest_path = os.path.join(destination_folder, os.path.basename(file_path))\n",
    "        # Sao chép file\n",
    "        shutil.copy2(file_path, dest_path)\n",
    "    except Exception as e:\n",
    "        print(\"lỗi lòi le\")\n",
    "\n",
    "def convert_to_mono_and_resample(input_file, output_file, target_sample_rate=16000):\n",
    "    audio = AudioSegment.from_file(input_file)\n",
    "    info = mediainfo(input_file)\n",
    "    channels = int(info['channels'])\n",
    "    sample_rate = int(info['sample_rate'])\n",
    "    if channels != 1:\n",
    "        audio = audio.set_channels(1)\n",
    "    if sample_rate != target_sample_rate:\n",
    "        audio = audio.set_frame_rate(target_sample_rate)\n",
    "    audio.export(output_file, format=\"wav\")"
   ]
  },
  {
   "cell_type": "code",
   "execution_count": 11,
   "metadata": {},
   "outputs": [
    {
     "name": "stdout",
     "output_type": "stream",
     "text": [
      "(98, 1)\n"
     ]
    },
    {
     "name": "stderr",
     "output_type": "stream",
     "text": [
      "98it [00:06, 14.59it/s]\n"
     ]
    }
   ],
   "source": [
    "import pandas as pd\n",
    "from pathlib import Path\n",
    "import os\n",
    "import shutil\n",
    "from concurrent.futures import ThreadPoolExecutor\n",
    "import tqdm\n",
    "\n",
    "# Đọc file CSV\n",
    "data_move = pd.read_csv(\"/home/pdnguyen/fast_confomer_finetun/finetune-fast-conformer/check_to_remove/file_new_29.csv\")\n",
    "print(data_move.shape)\n",
    "\n",
    "# Đường dẫn tới thư mục đích\n",
    "out_put_dir = \"/mnt/driver/pdnguyen/studen_annoted/data_telesale_extract_29_dir\"\n",
    "for index,file in tqdm.tqdm(enumerate(data_move[\"file\"])):\n",
    "    if index % 6000 == 0:\n",
    "        out_folder = f\"{out_put_dir}/extra_{index}/wavs\"\n",
    "        if not os.path.exists(out_folder):\n",
    "            os.makedirs(out_folder)\n",
    "    path_wav_output = f\"{out_folder}/{index}.wav\"\n",
    "    convert_to_mono_and_resample(file,path_wav_output)\n"
   ]
  },
  {
   "cell_type": "code",
   "execution_count": 10,
   "metadata": {},
   "outputs": [
    {
     "name": "stdout",
     "output_type": "stream",
     "text": [
      "Kích thước ban đầu: (31147, 1)\n",
      "Kích thước sau khi lọc: (4403, 1)\n"
     ]
    },
    {
     "name": "stderr",
     "output_type": "stream",
     "text": [
      "4403it [04:23, 16.70it/s]\n"
     ]
    }
   ],
   "source": [
    "import pandas as pd\n",
    "from pathlib import Path\n",
    "import os\n",
    "import shutil\n",
    "from concurrent.futures import ThreadPoolExecutor\n",
    "import tqdm\n",
    "\n",
    "# Đọc file CSV\n",
    "data_move = pd.read_csv(\"/mnt/driver/pdnguyen/studen_annoted/csv/check_to_remove/file_new_20.csv\")\n",
    "print(f\"Kích thước ban đầu: {data_move.shape}\")\n",
    "\n",
    "# Lọc các hàng không chứa từ \"_split_\" trong cột \"file\"\n",
    "data_move_filtered = data_move[~data_move[\"file\"].str.contains(\"_split_\")]\n",
    "print(f\"Kích thước sau khi lọc: {data_move_filtered.shape}\")\n",
    "\n",
    "\n",
    "output_dir = \"/mnt/driver/pdnguyen/studen_annoted/data_telesale_extract_20_dir\"\n",
    "\n",
    "for index,file in tqdm.tqdm(enumerate(data_move_filtered[\"file\"])):\n",
    "    if index % 6000 == 0:\n",
    "        out_folder = f\"{output_dir}/extra_{index}/wavs\"\n",
    "        if not os.path.exists(out_folder):\n",
    "            os.makedirs(out_folder)\n",
    "    path_wav_output = f\"{out_folder}/{index}.wav\"\n",
    "    convert_to_mono_and_resample(file,path_wav_output)"
   ]
  },
  {
   "cell_type": "markdown",
   "metadata": {},
   "source": [
    "# Phan tich Duration data"
   ]
  },
  {
   "cell_type": "code",
   "execution_count": 1,
   "metadata": {},
   "outputs": [
    {
     "data": {
      "image/png": "[encoded data removed]",
      "text/plain": [
       "<Figure size 640x480 with 1 Axes>"
      ]
     },
     "metadata": {},
     "output_type": "display_data"
    }
   ],
   "source": [
    "import pandas as pd\n",
    "import matplotlib.pyplot as plt\n",
    "\n",
    "def plot_duration_distribution(csv_file):\n",
    "    # Bước 1: Đọc file CSV\n",
    "    df = pd.read_csv(csv_file)\n",
    "    \n",
    "    # Bước 2: Lấy cột `duration`\n",
    "    duration = df['duration']\n",
    "    \n",
    "    # Bước 3: Định nghĩa các bin (các khoảng thời gian) 0-1(s), 1-2(s),...\n",
    "    bins = [i for i in range(0, int(duration.max()) + 2)]  # Tạo các khoảng từ 0 đến max(duration) + 1\n",
    "    \n",
    "    # Bước 4: Vẽ biểu đồ phân phối\n",
    "    plt.hist(duration, bins=bins, edgecolor='black', alpha=0.7)\n",
    "    \n",
    "    # Bước 5: Thêm tiêu đề và nhãn\n",
    "    plt.title('Phân phối thời gian của cột duration')\n",
    "    plt.xlabel('Thời gian (giây)')\n",
    "    plt.ylabel('Số lần xuất hiện')\n",
    "    \n",
    "    # Bước 6: Hiển thị biểu đồ\n",
    "    plt.xticks(bins)  # Hiển thị các giá trị bin trên trục x\n",
    "    plt.grid(axis='y')  # Thêm grid cho trục y\n",
    "    plt.show()\n",
    "\n",
    "# Đường dẫn tới file CSV\n",
    "csv_file = '/home/pdnguyen/fast_confomer_finetun/finetune-fast-conformer/notebooks/results_csv/20_aug57_10aug_64_total_origin_data_concatSTT.csv'\n",
    "\n",
    "# Gọi hàm để vẽ biểu đồ phân phối thời gian của cột `duration`\n",
    "plot_duration_distribution(csv_file)\n"
   ]
  }
 ],
 "metadata": {
  "kernelspec": {
   "display_name": "fast_cfm",
   "language": "python",
   "name": "python3"
  },
  "language_info": {
   "codemirror_mode": {
    "name": "ipython",
    "version": 3
   },
   "file_extension": ".py",
   "mimetype": "text/x-python",
   "name": "python",
   "nbconvert_exporter": "python",
   "pygments_lexer": "ipython3",
   "version": "3.10.14"
  }
 },
 "nbformat": 4,
 "nbformat_minor": 2
}
