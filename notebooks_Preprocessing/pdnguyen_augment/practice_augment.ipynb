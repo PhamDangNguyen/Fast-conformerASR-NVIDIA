{
 "cells": [
  {
   "cell_type": "code",
   "execution_count": 20,
   "metadata": {},
   "outputs": [],
   "source": [
    "from audiomentations import AddBackgroundNoise, PolarityInversion, Compose,AddGaussianNoise, AddGaussianSNR, AddShortNoises, Mp3Compression, Compose\n",
    "import soundfile as sf\n",
    "import numpy as np\n",
    "import librosa\n",
    "import audiomentations\n",
    "import pandas as pd"
   ]
  },
  {
   "cell_type": "markdown",
   "metadata": {},
   "source": [
    "# Standard augment"
   ]
  },
  {
   "cell_type": "code",
   "execution_count": 21,
   "metadata": {},
   "outputs": [],
   "source": [
    "import librosa\n",
    "import soundfile as sf\n",
    "import os\n",
    "import ffmpeg\n",
    "\n",
    "def get_all_csv_files(root_dir):\n",
    "    \"\"\"\n",
    "    Lấy tất cả các tệp .csv từ thư mục cha và các thư mục con.\n",
    "    :input: Đường dẫn đến thư mục gốc\n",
    "    :return: Danh sách các tệp .csv nằm trong\n",
    "    \"\"\"\n",
    "    wav_files = []\n",
    "    # Duyệt qua tất cả các thư mục và tệp trong thư mục gốc\n",
    "    for dirpath, dirnames, filenames in os.walk(root_dir):\n",
    "        for filename in filenames:\n",
    "            if filename.endswith('.wav'):\n",
    "                # Thêm đường dẫn đầy đủ của tệp .csv vào danh sách\n",
    "                wav_files.append(os.path.join(dirpath, filename))\n",
    "    return wav_files\n",
    "\n",
    "def convert_audio(input_file,output_file):\n",
    "    ffmpeg.input(input_file).output(output_file, format='wav', acodec='pcm_s16le', ar='16000', ac=1).run()\n",
    "\n",
    "\n",
    "\n",
    "def augment_audio_standard(input_path, output_path, time_stretch_rate=1.2, pitch_shift_steps=1.3):\n",
    "    \"\"\"\n",
    "    Augment audio by time-stretching and pitch-shifting.\n",
    "\n",
    "    Parameters:\n",
    "    input_path (str): Path to the input audio file.\n",
    "    output_path (str): Path to save the augmented audio file.\n",
    "    time_stretch_rate (float): Rate to stretch the time (default is 1.2, i.e., 20% longer).\n",
    "    pitch_shift_steps (int): Number of half-steps to shift the pitch (default is 2 half-steps up).\n",
    "\n",
    "    Returns:\n",
    "    None\n",
    "    \"\"\"\n",
    "    # Load the audio file\n",
    "    y, sr = librosa.load(input_path, sr=None)\n",
    "\n",
    "    # Time-stretching\n",
    "    y_stretched = librosa.effects.time_stretch(y, time_stretch_rate)\n",
    "\n",
    "    # Pitch-shifting\n",
    "    y_shifted = librosa.effects.pitch_shift(y_stretched, sr, n_steps=pitch_shift_steps)\n",
    "\n",
    "    # Save the augmented audio to a new file\n",
    "    sf.write(output_path, y_shifted, sr)\n",
    "\n",
    "    print(f\"Augmented audio saved to {output_path}\")"
   ]
  },
  {
   "cell_type": "markdown",
   "metadata": {},
   "source": [
    "# add short noise"
   ]
  },
  {
   "cell_type": "code",
   "execution_count": 27,
   "metadata": {},
   "outputs": [],
   "source": [
    "from audiomentations import Compose, AddShortNoises, Gain\n",
    "def add_short_noise(audio_path_input,audio_path_output, noise_dir, noise_gain_db=15):\n",
    "    \"\"\"\n",
    "    Input: Path âm thanh gốc\n",
    "    Output: Âm thanh + các nhịp âm thanh short cách nhau một khoảng random\n",
    "    \"\"\"\n",
    "    # Load the audio file\n",
    "    audio, sr = librosa.load(audio_path_input, sr=None)\n",
    "    \n",
    "    # Create the AddShortNoises augmenter\n",
    "    augmenter = Compose([\n",
    "        AddShortNoises(\n",
    "            sounds_path=noise_dir,  # Pass the directory path directly\n",
    "            min_snr_in_db=10,\n",
    "            max_snr_in_db=30,\n",
    "            min_time_between_sounds=0.0005,  # tgian tạm dừng tối thiểu của noise\n",
    "            max_time_between_sounds=0.001,  # tgian tạm dừng tối đa của noise\n",
    "            p=1.0\n",
    "        ),\n",
    "        Gain(min_gain_in_db=noise_gain_db, max_gain_in_db=noise_gain_db, p=1.0)  # Tăng cường âm lượng của noise\n",
    "    ])\n",
    "    \n",
    "    # Apply the augmentation\n",
    "    augmented_audio = augmenter(samples=audio, sample_rate=sr)\n",
    "    sf.write(audio_path_output,augmented_audio, 16000)"
   ]
  },
  {
   "cell_type": "markdown",
   "metadata": {},
   "source": [
    "## add White noise"
   ]
  },
  {
   "cell_type": "code",
   "execution_count": 32,
   "metadata": {},
   "outputs": [],
   "source": [
    "def add_white_noise(path_input_audio, audio_path_output, noise_level=0.04):\n",
    "    \"\"\"\n",
    "    Input: Path âm thanh origin\n",
    "    Output: Âm thanh thêm nhiễu trắng (mô phỏng âm thanh nhiễu từ đài)\n",
    "    Tham khảo: https://cmtext.indiana.edu/acoustics/chapter1_waves3.php#:~:text=GAUSSIAN%20NOISE&text=Named%20after%20mathematician%2Fphysicist%20Carl,as%20lacking%20in%20bass%20frequencies.\n",
    "    \"\"\"\n",
    "    audio,_ = sf.read(path_input_audio)\n",
    "    audio_augment = audio + noise_level * np.random.randn(len(audio))\n",
    "    sf.write(audio_path_output,audio_augment,16000)"
   ]
  },
  {
   "cell_type": "code",
   "execution_count": 33,
   "metadata": {},
   "outputs": [],
   "source": [
    "# wav_lists = get_all_csv_files(\"/home/pdnguyen/Audio_Augmentation/fubon_tiktok\")\n",
    "csv = pd.read_csv(\"/home/pdnguyen/Audio_Augmentation/fubon_tiktok/final_label.csv\")\n",
    "with open('/home/pdnguyen/Audio_Augmentation/fubon_white_noise/metadata.csv', 'w', encoding='utf8') as fp:\n",
    "    print(f'file,text,duration', file=fp)\n",
    "    for index,row in csv.iterrows():\n",
    "        name_wav = row[\"file\"].split(\"/\")[-1].split(\".\")[0] + f\"{index}_white_noise.wav\"\n",
    "        audio_path = f\"/home/pdnguyen/Audio_Augmentation/fubon_white_noise/wavs/{name_wav}\"\n",
    "        add_white_noise(row[\"file\"],audio_path)\n",
    "        print(f'{audio_path},{str(row[\"text\"])},{row[\"duration\"]}', file=fp)"
   ]
  }
 ],
 "metadata": {
  "kernelspec": {
   "display_name": "audio_augment",
   "language": "python",
   "name": "python3"
  },
  "language_info": {
   "codemirror_mode": {
    "name": "ipython",
    "version": 3
   },
   "file_extension": ".py",
   "mimetype": "text/x-python",
   "name": "python",
   "nbconvert_exporter": "python",
   "pygments_lexer": "ipython3",
   "version": "3.10.14"
  }
 },
 "nbformat": 4,
 "nbformat_minor": 2
}
