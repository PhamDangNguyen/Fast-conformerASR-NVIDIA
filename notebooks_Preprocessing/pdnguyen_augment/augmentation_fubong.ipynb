{
 "cells": [
  {
   "cell_type": "code",
   "execution_count": 8,
   "metadata": {},
   "outputs": [],
   "source": [
    "import numpy as np\n",
    "import soundfile as sf  # Để đọc/ghi file audio\n",
    "from audiomentations import Compose, Aliasing\n",
    "\n",
    "# Tải đoạn audio\n",
    "my_waveform_ndarray, sample_rate = sf.read('/home/pdnguyen/Audio_Augmentation/0_1ch_na.wav')\n",
    "\n",
    "# Tạo biến đổi Aliasing\n",
    "transform = Aliasing(min_sample_rate=10, max_sample_rate=16000, p=0.8)\n",
    "\n",
    "# Áp dụng biến đổi\n",
    "augmented_sound = transform(my_waveform_ndarray, sample_rate=sample_rate)\n",
    "\n",
    "# Lưu âm thanh đã biến đổi\n",
    "sf.write('augmented_audio.wav', augmented_sound, sample_rate)\n"
   ]
  }
 ],
 "metadata": {
  "kernelspec": {
   "display_name": "RDC",
   "language": "python",
   "name": "python3"
  },
  "language_info": {
   "codemirror_mode": {
    "name": "ipython",
    "version": 3
   },
   "file_extension": ".py",
   "mimetype": "text/x-python",
   "name": "python",
   "nbconvert_exporter": "python",
   "pygments_lexer": "ipython3",
   "version": "3.10.14"
  }
 },
 "nbformat": 4,
 "nbformat_minor": 2
}
