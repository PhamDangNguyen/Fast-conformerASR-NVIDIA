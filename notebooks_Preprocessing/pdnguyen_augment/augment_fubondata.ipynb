{
 "cells": [
  {
   "cell_type": "code",
   "execution_count": 1,
   "metadata": {},
   "outputs": [],
   "source": [
    "from scipy.signal import butter, filtfilt\n",
    "import numpy as np\n",
    "from pydub import AudioSegment\n",
    "import pandas as pd\n",
    "import tqdm\n",
    "import os\n",
    "\n",
    "def low_pass_filter(data, cutoff_freq, sample_rate, order=10):\n",
    "    nyquist_rate = sample_rate / 2.0\n",
    "    normal_cutoff = cutoff_freq / nyquist_rate\n",
    "    \n",
    "    b, a = butter(order, normal_cutoff, btype='low', analog=False)\n",
    "    filtered_data = filtfilt(b, a, data)\n",
    "    return filtered_data\n"
   ]
  },
  {
   "cell_type": "code",
   "execution_count": 2,
   "metadata": {},
   "outputs": [
    {
     "name": "stderr",
     "output_type": "stream",
     "text": [
      "0it [00:00, ?it/s]"
     ]
    },
    {
     "name": "stderr",
     "output_type": "stream",
     "text": [
      "218it [00:00, 250.41it/s]\n"
     ]
    }
   ],
   "source": [
    "csv_file = \"/home/pdnguyen/Audio_Augmentation/fubon_11_10_2024/metadata.csv\"\n",
    "out_dir = \"/home/pdnguyen/Audio_Augmentation/fubon_bandpass_filter\"\n",
    "df_fubong = pd.read_csv(csv_file)\n",
    "with open(f'{out_dir}/metadata.csv', 'w', encoding='utf8') as fp:\n",
    "    print(f'file,text,duration', file=fp)\n",
    "    for index, row in tqdm.tqdm(df_fubong.iterrows()):\n",
    "        if not os.path.exists(f\"{out_dir}/wavs\"):\n",
    "            os.makedirs(f\"{out_dir}/wavs\")\n",
    "        new_path_wav = f\"{out_dir}/wavs/{index}.wav\"\n",
    "        audio = AudioSegment.from_file(row['file'])\n",
    "        sample_rate = audio.frame_rate\n",
    "        samples = np.array(audio.get_array_of_samples())\n",
    "        cutoff_frequency = np.random.choice([1200,1600,1800,2000,2500,3000,3200,3500])  # Tần số cắt được chọn random trong các mẫu\n",
    "        filtered_samples = low_pass_filter(samples, cutoff_frequency, sample_rate, order=10)\n",
    "        filtered_samples = np.clip(filtered_samples, -32768, 32767)\n",
    "        filtered_samples = filtered_samples.astype(np.int16)\n",
    "        output_audio = audio._spawn(filtered_samples.tobytes())\n",
    "        output_audio.export(new_path_wav, format=\"wav\")\n",
    "        text = row['text']\n",
    "        duration = row['duration']\n",
    "        print(f'{new_path_wav},{text},{duration}', file=fp)"
   ]
  },
  {
   "cell_type": "code",
   "execution_count": null,
   "metadata": {},
   "outputs": [],
   "source": [
    "\n",
    "def read_csv_and_extract_columns(csv_file):\n",
    "    df = pd.read_csv(csv_file)\n",
    "    if all(col in df.columns for col in ['file', 'text', 'duration']):\n",
    "        extracted_df = df[['file', 'text', 'duration']]\n",
    "        return extracted_df\n",
    "    else:\n",
    "        raise ValueError(\"File CSV không chứa đủ các cột 'file', 'text', 'duration'.\")\n",
    "\n",
    "csv_file = '/path/to/your/file.csv'\n",
    "extracted_data = read_csv_and_extract_columns(csv_file)\n",
    "\n",
    "print(extracted_data)\n"
   ]
  },
  {
   "cell_type": "markdown",
   "metadata": {},
   "source": [
    "# test"
   ]
  },
  {
   "cell_type": "code",
   "execution_count": 4,
   "metadata": {},
   "outputs": [
    {
     "name": "stderr",
     "output_type": "stream",
     "text": [
      "100%|██████████| 218/218 [00:00<00:00, 782.01it/s]\n"
     ]
    }
   ],
   "source": [
    "import pandas as pd\n",
    "import numpy as np\n",
    "from scipy.fft import fft, ifft\n",
    "from pydub import AudioSegment\n",
    "import random\n",
    "import tqdm\n",
    "import os\n",
    "\n",
    "# Hàm để cắt ngẫu nhiên các đoạn tần số khác nhau với các khoảng thời gian khác nhau\n",
    "def zero_out_random_frequencies_in_segments(audio_path, output_path, num_segments, max_duration, freq_ranges):\n",
    "    # Đọc file âm thanh\n",
    "    audio = AudioSegment.from_file(audio_path)\n",
    "    samples = np.array(audio.get_array_of_samples(), dtype=np.float32)\n",
    "    sample_rate = audio.frame_rate\n",
    "    n_samples = len(samples)\n",
    "\n",
    "    # Tạo danh sách các khoảng thời gian ngẫu nhiên\n",
    "    random_segments = []\n",
    "    for _ in range(num_segments):\n",
    "        # Chọn độ dài ngẫu nhiên cho khoảng thời gian\n",
    "        duration = random.randint(1, max_duration) * sample_rate  # Giây\n",
    "        if n_samples - duration <= 0:\n",
    "            # Nếu số mẫu còn lại không đủ, bỏ qua khoảng thời gian này\n",
    "            continue\n",
    "        start_time = random.randint(0, n_samples - duration)\n",
    "        end_time = start_time + duration\n",
    "        random_segments.append((start_time, end_time))\n",
    "\n",
    "    # Áp dụng cho từng khoảng thời gian ngẫu nhiên\n",
    "    for start_time, end_time in random_segments:\n",
    "        # Tách đoạn tín hiệu cần xử lý\n",
    "        segment_to_process = samples[start_time:end_time]\n",
    "\n",
    "        # Thực hiện biến đổi Fourier\n",
    "        fft_data = fft(segment_to_process)\n",
    "\n",
    "        # Chọn ngẫu nhiên dải tần số để làm biên độ bằng 0\n",
    "        low_freq, high_freq = random.choice(freq_ranges)\n",
    "\n",
    "        # Tính toán các chỉ số tương ứng với dải tần số\n",
    "        n = len(segment_to_process)\n",
    "        freqs = np.fft.fftfreq(n, d=1/sample_rate)\n",
    "        low_idx = np.abs(freqs - low_freq).argmin()\n",
    "        high_idx = np.abs(freqs - high_freq).argmin()\n",
    "\n",
    "        # Làm bằng 0 biên độ trong dải tần số mong muốn\n",
    "        fft_data[low_idx:high_idx] = 0\n",
    "        fft_data[-high_idx:-low_idx] = 0  # Đối xứng\n",
    "\n",
    "        # Chuyển đổi ngược sang miền thời gian\n",
    "        filtered_segment = np.real(ifft(fft_data))\n",
    "\n",
    "        # Đảm bảo giá trị của tín hiệu nằm trong khoảng int16\n",
    "        filtered_segment = np.clip(filtered_segment, -32768, 32767)\n",
    "\n",
    "        # Thay thế đoạn tín hiệu ban đầu bằng đoạn đã lọc\n",
    "        samples[start_time:end_time] = filtered_segment\n",
    "\n",
    "    # Chuyển đổi tín hiệu trở lại dạng int16\n",
    "    samples = samples.astype(np.int16)\n",
    "\n",
    "    # Ghi file âm thanh đã xử lý\n",
    "    output_audio = audio._spawn(samples.tobytes())\n",
    "    output_audio.export(output_path, format=\"wav\")\n",
    "\n",
    "# Đường dẫn tới file CSV và thư mục xuất kết quả\n",
    "csv_file = \"/home/pdnguyen/Audio_Augmentation/73.fubon_self_eval_14_10/fubon_11_10_2024/metadata.csv\"\n",
    "out_dir = \"/home/pdnguyen/Audio_Augmentation/73.fubon_self_eval_14_10/augmant_lost_signal_full\"\n",
    "\n",
    "# Đọc file CSV\n",
    "df_fubong = pd.read_csv(csv_file)\n",
    "\n",
    "# Tạo thư mục đầu ra nếu chưa tồn tại\n",
    "os.makedirs(f'{out_dir}/wavs', exist_ok=True)\n",
    "\n",
    "# Tạo file metadata mới và xử lý từng dòng trong CSV\n",
    "with open(f'{out_dir}/metadata.csv', 'w', encoding='utf8') as fp:\n",
    "    print(f'file,text,duration', file=fp)\n",
    "    \n",
    "    # Lặp qua từng hàng trong file CSV\n",
    "    for index, row in tqdm.tqdm(df_fubong.iterrows(), total=df_fubong.shape[0]):\n",
    "        new_path_wav = f\"{out_dir}/wavs/{index}.wav\"\n",
    "        num_segments = random.randint(3, 7)  # Số lượng khoảng thời gian ngẫu nhiên\n",
    "        max_duration = 2  # Độ dài tối đa mỗi khoảng thời gian (giây)\n",
    "        text = row['text']\n",
    "        duration = row['duration']\n",
    "        freq_ranges = [(2000, 3000), (800, 1600), (100,200), (400,600), (100,400), (200,800), (700,1500), (600,1000), (1000,1700), (1700,2300), (2300,2500), (2500,3000), (3000,3500)]  # Các dải tần số\n",
    "\n",
    "        # Gọi hàm để xử lý file âm thanh và lưu kết quả\n",
    "        zero_out_random_frequencies_in_segments(row['file'], new_path_wav, num_segments, max_duration, freq_ranges)\n",
    "\n",
    "        # Ghi vào file metadata mới\n",
    "        print(f'{new_path_wav},{text},{duration}', file=fp)\n"
   ]
  },
  {
   "cell_type": "code",
   "execution_count": 6,
   "metadata": {},
   "outputs": [
    {
     "name": "stdout",
     "output_type": "stream",
     "text": [
      "Đã đọc file: /home/pdnguyen/Audio_Augmentation/fubon_raw/fubon_11_10_2024/metadata.csv\n",
      "Đã đọc file: /home/pdnguyen/Audio_Augmentation/fubon_raw/augment_lost_signal/metadata.csv\n",
      "Đã đọc file: /home/pdnguyen/Audio_Augmentation/fubon_raw/augmant_lost_signal_full/metadata.csv\n",
      "Đã đọc file: /home/pdnguyen/Audio_Augmentation/fubon_raw/fubon_bandpass_filter/metadata.csv\n",
      "Tất cả các file CSV đã được nối, trộn đều và lưu vào: /home/pdnguyen/Audio_Augmentation/fubon_raw/metadata.csv\n"
     ]
    }
   ],
   "source": [
    "import os\n",
    "import pandas as pd\n",
    "\n",
    "csv_directory = \"/home/pdnguyen/Audio_Augmentation/fubon_raw\"\n",
    "\n",
    "all_data = pd.DataFrame()\n",
    "\n",
    "for root, dirs, files in os.walk(csv_directory):\n",
    "    for file in files:\n",
    "        if file.endswith(\".csv\"):\n",
    "            csv_file_path = os.path.join(root, file)\n",
    "            \n",
    "            try:\n",
    "                data = pd.read_csv(csv_file_path)\n",
    "                all_data = pd.concat([all_data, data], ignore_index=True)\n",
    "                print(f\"Đã đọc file: {csv_file_path}\")\n",
    "            except Exception as e:\n",
    "                print(f\"Không thể đọc file: {csv_file_path} do lỗi: {e}\")\n",
    "\n",
    "all_data = all_data.sample(frac=1).reset_index(drop=True)\n",
    "\n",
    "output_csv_path = \"/home/pdnguyen/Audio_Augmentation/fubon_raw/metadata.csv\"\n",
    "all_data.to_csv(output_csv_path, index=False, encoding='utf-8')\n",
    "print(f\"Tất cả các file CSV đã được nối, trộn đều và lưu vào: {output_csv_path}\")\n"
   ]
  },
  {
   "cell_type": "code",
   "execution_count": 1,
   "metadata": {},
   "outputs": [],
   "source": [
    "import pandas as pd\n",
    "\n",
    "def concatenate_and_shuffle_csv(csv_paths, output_csv_path):\n",
    "    # Đọc và ghép tất cả các file CSV lại với nhau\n",
    "    df_list = [pd.read_csv(csv_path) for csv_path in csv_paths]\n",
    "    combined_df = pd.concat(df_list, ignore_index=True)\n",
    "    \n",
    "    # Trộn đều DataFrame\n",
    "    shuffled_df = combined_df.sample(frac=1).reset_index(drop=True)\n",
    "    \n",
    "    # Lưu kết quả vào file CSV mới\n",
    "    shuffled_df.to_csv(output_csv_path, index=False)\n",
    "\n",
    "# Mảng chứa các đường dẫn tới file CSV\n",
    "csv_paths = [\n",
    "    '/home/pdnguyen/Audio_Augmentation/73.fubon_self_eval_14_10/fubon_raw/metadata.csv',\n",
    "    '/home/pdnguyen/Audio_Augmentation/73.fubon_self_eval_14_10/fubon_raw_v1/metadata.csv',\n",
    "    '/home/pdnguyen/Audio_Augmentation/73.fubon_self_eval_14_10/fubon_raw_v2/metadata.csv',\n",
    "    '/home/pdnguyen/Audio_Augmentation/73.fubon_self_eval_14_10/fubon_raw_v3/metadata.csv',\n",
    "    '/home/pdnguyen/Audio_Augmentation/73.fubon_self_eval_14_10/fubon_raw_v4/metadata.csv',\n",
    "    '/home/pdnguyen/Audio_Augmentation/73.fubon_self_eval_14_10/fubon_raw_v5/metadata.csv'\n",
    "]\n",
    "\n",
    "# Đường dẫn file CSV xuất ra sau khi ghép và trộn đều\n",
    "output_csv_path = '/home/pdnguyen/Audio_Augmentation/73.fubon_self_eval_14_10/73.metadatafubon_14_10.csv'\n",
    "\n",
    "# Gọi hàm để ghép và trộn đều file\n",
    "concatenate_and_shuffle_csv(csv_paths, output_csv_path)\n"
   ]
  },
  {
   "cell_type": "code",
   "execution_count": 14,
   "metadata": {},
   "outputs": [],
   "source": [
    "import pandas as pd\n",
    "from sklearn.utils import shuffle\n",
    "\n",
    "def shuffle_and_save_csv(input_csv_path, output_csv_path):\n",
    "    df = pd.read_csv(input_csv_path)\n",
    "    \n",
    "    df_shuffled = shuffle(df)\n",
    "    \n",
    "    df_shuffled.to_csv(output_csv_path, index=False)\n",
    "input_csv_path = '/mnt/driver/STT_data/STT_dataset/72.fubon_10_10_2024/metadata.csv'\n",
    "output_csv_path = '/mnt/driver/STT_data/STT_dataset/72.fubon_10_10_2024/metadata_real.csv'\n",
    "shuffle_and_save_csv(input_csv_path, output_csv_path)\n"
   ]
  }
 ],
 "metadata": {
  "kernelspec": {
   "display_name": "audio_augment",
   "language": "python",
   "name": "python3"
  },
  "language_info": {
   "codemirror_mode": {
    "name": "ipython",
    "version": 3
   },
   "file_extension": ".py",
   "mimetype": "text/x-python",
   "name": "python",
   "nbconvert_exporter": "python",
   "pygments_lexer": "ipython3",
   "version": "3.10.14"
  }
 },
 "nbformat": 4,
 "nbformat_minor": 2
}
