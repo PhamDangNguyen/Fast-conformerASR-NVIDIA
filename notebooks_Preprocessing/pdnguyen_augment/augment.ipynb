{
 "cells": [
  {
   "cell_type": "markdown",
   "metadata": {},
   "source": [
    "# Các cách làm giàu cho Audio"
   ]
  },
  {
   "cell_type": "code",
   "execution_count": 1,
   "metadata": {},
   "outputs": [],
   "source": [
    "from audiomentations import AddBackgroundNoise, PolarityInversion, Compose,AddGaussianNoise, AddGaussianSNR, AddShortNoises, Mp3Compression, Compose\n",
    "import soundfile as sf\n",
    "import numpy as np\n",
    "import librosa\n",
    "import audiomentations"
   ]
  },
  {
   "cell_type": "code",
   "execution_count": 5,
   "metadata": {},
   "outputs": [],
   "source": [
    "def add_backgroundNoise(path_input_audio,path_sound_noise_add = \"/home/pdnguyen/Audio_Augmentation/noise\"):\n",
    "    \"\"\"\n",
    "    Input: Path âm thanh gốc + path thư mục chứa noise muốn thêm vào\n",
    "    Output: Âm thanh làm giàu dưới dạng Array\n",
    "    \"\"\"\n",
    "    noise_transform = PolarityInversion()  # Define your noise transform here\n",
    "    augment = Compose([\n",
    "        AddBackgroundNoise(sounds_path=path_sound_noise_add, #path noise \n",
    "                            noise_rms=\"relative\",\n",
    "                            min_snr_in_db=3.0, # biên độ lọc dưới của noise\n",
    "                            max_snr_in_db=30.0, #biên độ lọc trên của nosie\n",
    "                            p=1.0),\n",
    "        noise_transform  # Apply the noise transform after AddBackgroundNoise\n",
    "    ])\n",
    "    audio_input,_ = sf.read(path_input_audio)\n",
    "    augmented_sound = augment(audio_input, sample_rate=16000)\n",
    "    return augmented_sound"
   ]
  },
  {
   "cell_type": "code",
   "execution_count": 15,
   "metadata": {},
   "outputs": [],
   "source": [
    "def add_gaussianNoise(path_input_audio):\n",
    "    \"\"\"\n",
    "    Input: Path âm thanh gốc\n",
    "    Output: Âm thanh làm giàu nhiễu + mức độ nhiễu kiểm soát theo độ lệch chuẩn (hình chuông) trả về dưới dạng Array => giống nghe đài\n",
    "    Tham khảo nhiễu color và Gauss: https://cmtext.indiana.edu/acoustics/chapter1_waves3.php#:~:text=GAUSSIAN%20NOISE&text=Named%20after%20mathematician%2Fphysicist%20Carl,as%20lacking%20in%20bass%20frequencies.\n",
    "    \"\"\"\n",
    "    transform = AddGaussianNoise(\n",
    "        min_amplitude=0.001,\n",
    "        max_amplitude=0.015,\n",
    "        p=1.0\n",
    "    )\n",
    "    audio_input,_ = sf.read(path_input_audio)\n",
    "    augmented_sound = transform(audio_input,sample_rate=16000)\n",
    "    return augmented_sound\n"
   ]
  },
  {
   "cell_type": "code",
   "execution_count": null,
   "metadata": {},
   "outputs": [],
   "source": [
    "def add_gaussianNoiseSNR(path_input_audio):\n",
    "    \"\"\"\n",
    "    Input: Path âm thanh gốc\n",
    "    Output: Âm thanh làm giàu nhiễu gauss SNR - mức độ nhiễu phụ thuộc vào tỷ lệ công suất signal và noise\n",
    "    \"\"\"\n",
    "    transform = AddGaussianSNR(\n",
    "    min_snr_db=5.0,\n",
    "    max_snr_db=40.0,\n",
    "    p=1.0\n",
    "    )\n",
    "    audio_input,_ = sf.read(path_input_audio)\n",
    "    augmented_sound = transform(audio_input,sample_rate=16000)\n",
    "    return augmented_sound"
   ]
  },
  {
   "cell_type": "code",
   "execution_count": 75,
   "metadata": {},
   "outputs": [],
   "source": [
    "def add_white_noise(path_input_audio, noise_level=0.01):\n",
    "    \"\"\"\n",
    "    Input: Path âm thanh origin\n",
    "    Output: Âm thanh thêm nhiễu trắng (mô phỏng âm thanh nhiễu từ đài)\n",
    "    Tham khảo: https://cmtext.indiana.edu/acoustics/chapter1_waves3.php#:~:text=GAUSSIAN%20NOISE&text=Named%20after%20mathematician%2Fphysicist%20Carl,as%20lacking%20in%20bass%20frequencies.\n",
    "    \"\"\"\n",
    "    audio,_ = sf.read(path_input_audio)\n",
    "    return audio + noise_level * np.random.randn(len(audio))\n",
    "\n",
    "\n",
    "def zip_mp3(path_input_audio):\n",
    "    \"\"\"\n",
    "    Input: Path âm thanh gốc\n",
    "    Output: Âm thanh được nén xuống mp3 => giảm chất lượng audio đi\n",
    "    \"\"\"\n",
    "    tran = Mp3Compression(min_bitrate=8, max_bitrate=10, p=1.0)\n",
    "    audio, sr = librosa.load(path_input_audio, sr=None)\n",
    "    audio_aug = tran(audio,sample_rate=16000)\n",
    "    return audio_aug \n"
   ]
  },
  {
   "cell_type": "code",
   "execution_count": 27,
   "metadata": {},
   "outputs": [],
   "source": [
    "def add_short_noise(audio_path, noise_dir):\n",
    "    \"\"\"\n",
    "    Input: Path âm thanh gốc\n",
    "    Output: Âm thanh + các nhịp âm thanh short cách nhau một khoảng random\n",
    "    \"\"\"\n",
    "    # Load the audio file\n",
    "    audio, sr = librosa.load(audio_path, sr=None)\n",
    "    \n",
    "    # Create the AddShortNoises augmenter\n",
    "    augmenter = Compose([\n",
    "        AddShortNoises(\n",
    "            sounds_path=noise_dir,  # Pass the directory path directly\n",
    "            min_snr_in_db=5,\n",
    "            max_snr_in_db=30,\n",
    "            min_time_between_sounds=0.0005,#tgian tạm dừng tối thiểu của noise\n",
    "            max_time_between_sounds=0.001,#tgian tạm dừng tối đa của noise\n",
    "            p=1.0\n",
    "        )\n",
    "    ])\n",
    "    \n",
    "    # Apply the augmentation\n",
    "    augmented_audio = augmenter(samples=audio, sample_rate=sr)\n",
    "    \n",
    "    return augmented_audio   "
   ]
  },
  {
   "cell_type": "code",
   "execution_count": 26,
   "metadata": {},
   "outputs": [],
   "source": [
    "import numpy\n",
    "path_input_audio = \"/home/pdnguyen/Audio_Augmentation/sounds_file/0_1ch_na.wav\"\n",
    "sf.write(\"check222.wav\",audio_aug, 16000)"
   ]
  }
 ],
 "metadata": {
  "kernelspec": {
   "display_name": "audio_augment",
   "language": "python",
   "name": "python3"
  },
  "language_info": {
   "codemirror_mode": {
    "name": "ipython",
    "version": 3
   },
   "file_extension": ".py",
   "mimetype": "text/x-python",
   "name": "python",
   "nbconvert_exporter": "python",
   "pygments_lexer": "ipython3",
   "version": "3.10.14"
  }
 },
 "nbformat": 4,
 "nbformat_minor": 2
}
