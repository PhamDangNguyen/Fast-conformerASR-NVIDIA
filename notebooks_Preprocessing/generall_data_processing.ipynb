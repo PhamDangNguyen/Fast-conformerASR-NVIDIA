{
 "cells": [
  {
   "cell_type": "code",
   "execution_count": 1,
   "metadata": {},
   "outputs": [],
   "source": [
    "import pandas as pd"
   ]
  },
  {
   "cell_type": "code",
   "execution_count": 3,
   "metadata": {},
   "outputs": [],
   "source": [
    "aug_1 = \"/home/pdnguyen/fast_confomer_finetun/finetune-fast-conformer/63.Augment_speed_lound/augment_increase_speed_reduce_lound.csv\"\n",
    "aug_2 = \"/home/pdnguyen/fast_confomer_finetun/finetune-fast-conformer/63.Augment_speed_lound/metadata__augment_increase_speed.csv\"\n",
    "aug_3 = \"/home/pdnguyen/fast_confomer_finetun/finetune-fast-conformer/63.Augment_speed_lound/metadata_change_speed_pitch_augment_reduce_lound.csv\"\n",
    "au_1_df = pd.read_csv(aug_1)\n",
    "au_2_df = pd.read_csv(aug_2)\n",
    "au_3_df = pd.read_csv(aug_3)\n",
    "df_aug = pd.concat([au_1_df,au_2_df,au_3_df])\n",
    "df_aug = df_aug.sample(frac=1).reset_index(drop=True)\n",
    "df_aug = df_aug.sample(frac=1).reset_index(drop=True)\n",
    "df_aug = df_aug.sample(frac=1).reset_index(drop=True)\n",
    "columns_to_save = [\"file\", \"text\", \"duration\"]\n",
    "df_aug.to_csv('/home/pdnguyen/fast_confomer_finetun/finetune-fast-conformer/63.Augment_speed_lound/metadata.csv', columns=columns_to_save, index=False, encoding='utf-8')"
   ]
  }
 ],
 "metadata": {
  "kernelspec": {
   "display_name": "fast_cfm",
   "language": "python",
   "name": "python3"
  },
  "language_info": {
   "codemirror_mode": {
    "name": "ipython",
    "version": 3
   },
   "file_extension": ".py",
   "mimetype": "text/x-python",
   "name": "python",
   "nbconvert_exporter": "python",
   "pygments_lexer": "ipython3",
   "version": "3.10.14"
  }
 },
 "nbformat": 4,
 "nbformat_minor": 2
}
