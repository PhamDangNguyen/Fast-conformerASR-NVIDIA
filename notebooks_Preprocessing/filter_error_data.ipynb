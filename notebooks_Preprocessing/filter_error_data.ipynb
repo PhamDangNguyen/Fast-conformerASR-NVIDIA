{
 "cells": [
  {
   "cell_type": "code",
   "execution_count": 84,
   "metadata": {},
   "outputs": [],
   "source": [
    "from tone_normalization import normalize_vn_tone\n",
    "\n",
    "df_train = df_train.with_columns(df_train[\"text\"].map_elements(function=normalize_vn_tone, return_dtype=pl.String))"
   ]
  },
  {
   "cell_type": "markdown",
   "metadata": {},
   "source": [
    "### Remove error files"
   ]
  },
  {
   "cell_type": "code",
   "execution_count": 85,
   "metadata": {},
   "outputs": [
    {
     "data": {
      "text/plain": [
       "9280"
      ]
     },
     "execution_count": 85,
     "metadata": {},
     "output_type": "execute_result"
    }
   ],
   "source": [
    "remove_lines = open(\"/home/lmnguyen/Projects/cmc_stt/finetune-fast-conformer/notebooks/resources/results/final_text_remove.txt\").read().split(\"\\n\")\n",
    "len(remove_lines)"
   ]
  },
  {
   "cell_type": "code",
   "execution_count": 86,
   "metadata": {},
   "outputs": [
    {
     "data": {
      "text/html": [
       "<div><style>\n",
       ".dataframe > thead > tr,\n",
       ".dataframe > tbody > tr {\n",
       "  text-align: right;\n",
       "  white-space: pre-wrap;\n",
       "}\n",
       "</style>\n",
       "<small>shape: (1_791_685, 3)</small><table border=\"1\" class=\"dataframe\"><thead><tr><th>file</th><th>text</th><th>duration</th></tr><tr><td>str</td><td>str</td><td>f64</td></tr></thead><tbody><tr><td>&quot;/home/ntdong/D…</td><td>&quot;nhưng đã không…</td><td>4.2873125</td></tr><tr><td>&quot;/home/ntdong/D…</td><td>&quot;anh sẽ giữ dùm…</td><td>1.8</td></tr><tr><td>&quot;/home/ntdong/D…</td><td>&quot;hai ca sĩ việt…</td><td>6.1300625</td></tr><tr><td>&quot;/home/ntdong/D…</td><td>&quot;hiện tình trạn…</td><td>3.34</td></tr><tr><td>&quot;/home/ntdong/D…</td><td>&quot;bà cấn thị thê…</td><td>10.83</td></tr><tr><td>&hellip;</td><td>&hellip;</td><td>&hellip;</td></tr><tr><td>&quot;/home/ntdong/D…</td><td>&quot;cậu ơi tắt máy…</td><td>2.28</td></tr><tr><td>&quot;/home/ntdong/D…</td><td>&quot;kiểm tra cho t…</td><td>2.2</td></tr><tr><td>&quot;/home/ntdong/D…</td><td>&quot;em ơi đóng giú…</td><td>3.51</td></tr><tr><td>&quot;/home/ntdong/D…</td><td>&quot;mở cho anh cái…</td><td>2.85</td></tr><tr><td>&quot;/home/ntdong/D…</td><td>&quot;mình tỉnh ngủ …</td><td>5.13</td></tr></tbody></table></div>"
      ],
      "text/plain": [
       "shape: (1_791_685, 3)\n",
       "┌───────────────────────────────────┬───────────────────────────────────┬───────────┐\n",
       "│ file                              ┆ text                              ┆ duration  │\n",
       "│ ---                               ┆ ---                               ┆ ---       │\n",
       "│ str                               ┆ str                               ┆ f64       │\n",
       "╞═══════════════════════════════════╪═══════════════════════════════════╪═══════════╡\n",
       "│ /home/ntdong/Data/STT_dataset/7.… ┆ nhưng đã không còn nhiều những c… ┆ 4.2873125 │\n",
       "│ /home/ntdong/Data/STT_dataset/1.… ┆ anh sẽ giữ dùm tôi chứ            ┆ 1.8       │\n",
       "│ /home/ntdong/Data/STT_dataset/2.… ┆ hai ca sĩ việt hàn bắt tay chúc … ┆ 6.1300625 │\n",
       "│ /home/ntdong/Data/STT_dataset/7.… ┆ hiện tình trạng giao thông tại v… ┆ 3.34      │\n",
       "│ /home/ntdong/Data/STT_dataset/7.… ┆ bà cấn thị thêu năm mươi tư tuổi… ┆ 10.83     │\n",
       "│ …                                 ┆ …                                 ┆ …         │\n",
       "│ /home/ntdong/Data/STT_dataset/du… ┆ cậu ơi tắt máy mát xa đi hộ mình… ┆ 2.28      │\n",
       "│ /home/ntdong/Data/STT_dataset/du… ┆ kiểm tra cho tôi cái mành cuốn    ┆ 2.2       │\n",
       "│ /home/ntdong/Data/STT_dataset/du… ┆ em ơi đóng giúp em cái rèm trong… ┆ 3.51      │\n",
       "│ /home/ntdong/Data/STT_dataset/du… ┆ mở cho anh cái loa em ơi          ┆ 2.85      │\n",
       "│ /home/ntdong/Data/STT_dataset/du… ┆ mình tỉnh ngủ rồi không muốn đi … ┆ 5.13      │\n",
       "└───────────────────────────────────┴───────────────────────────────────┴───────────┘"
      ]
     },
     "execution_count": 86,
     "metadata": {},
     "output_type": "execute_result"
    }
   ],
   "source": [
    "df_train = df_train.filter(~pl.col(\"file\").is_in(remove_lines))\n",
    "df_train"
   ]
  },
  {
   "cell_type": "code",
   "execution_count": 87,
   "metadata": {},
   "outputs": [
    {
     "data": {
      "text/plain": [
       "7998"
      ]
     },
     "execution_count": 87,
     "metadata": {},
     "output_type": "execute_result"
    }
   ],
   "source": [
    "1_799_683 - 1_791_685 "
   ]
  },
  {
   "cell_type": "markdown",
   "metadata": {},
   "source": [
    "### Replace wrong word in datasets"
   ]
  },
  {
   "cell_type": "code",
   "execution_count": 88,
   "metadata": {},
   "outputs": [
    {
     "data": {
      "text/plain": [
       "([('aastrazeneca', 'astrazeneca'),\n",
       "  ('abbank', 'true'),\n",
       "  ('abivin', 'true'),\n",
       "  ('ac', 'true'),\n",
       "  ('acb', 'true'),\n",
       "  ('acd', 'true'),\n",
       "  ('acls', 'true'),\n",
       "  ('acopan', 'false'),\n",
       "  ('acv', 'true'),\n",
       "  ('adarninnalyn', 'adrenalin')],\n",
       " 1668)"
      ]
     },
     "execution_count": 88,
     "metadata": {},
     "output_type": "execute_result"
    }
   ],
   "source": [
    "error_correct_dict = {}\n",
    "for line in open(\"/home/lmnguyen/Projects/cmc_stt/finetune-fast-conformer/notebooks/resources/results/final_filter_merge.txt\").read().split(\"\\n\"):\n",
    "    if line:\n",
    "        try:\n",
    "            error, correct = line.split(\"#\")\n",
    "        except:\n",
    "            print(line)\n",
    "        error_correct_dict[error.strip()] = correct.strip()\n",
    "\n",
    "# display some samples\n",
    "list(error_correct_dict.items())[:10], len(error_correct_dict)"
   ]
  },
  {
   "cell_type": "code",
   "execution_count": null,
   "metadata": {},
   "outputs": [],
   "source": [
    "error_correct_dict[\"c m c\"] = \"cmc\"\n"
   ]
  },
  {
   "cell_type": "code",
   "execution_count": 93,
   "metadata": {},
   "outputs": [],
   "source": [
    "# deep copy df_train\n",
    "df_train_copy = df_train.clone()"
   ]
  },
  {
   "cell_type": "code",
   "execution_count": 94,
   "metadata": {},
   "outputs": [
    {
     "name": "stderr",
     "output_type": "stream",
     "text": [
      "  8%|▊         | 140/1668 [00:00<00:02, 625.77it/s]"
     ]
    },
    {
     "name": "stdout",
     "output_type": "stream",
     "text": [
      "acopan 1791676\n",
      "agromet 1791668\n",
      "aj tôi không 1791666\n",
      "nó không có đủ ampe á em 1791663\n",
      "biê 1791656\n",
      "bn 1791651\n",
      "bă 1791649\n"
     ]
    },
    {
     "name": "stderr",
     "output_type": "stream",
     "text": [
      " 16%|█▋        | 275/1668 [00:00<00:03, 367.06it/s]"
     ]
    },
    {
     "name": "stdout",
     "output_type": "stream",
     "text": [
      "ch 1791630\n",
      "checkin 1791627\n",
      "chiê 1791626\n",
      "châ 1791623\n",
      "cuô 1791616\n"
     ]
    },
    {
     "name": "stderr",
     "output_type": "stream",
     "text": [
      " 19%|█▉        | 315/1668 [00:00<00:04, 308.18it/s]"
     ]
    },
    {
     "name": "stdout",
     "output_type": "stream",
     "text": [
      "câ 1791610\n",
      "cươ 1791603\n",
      "dancast 1791598\n",
      "dancember 1791593\n",
      "dasatcd 1791588\n"
     ]
    },
    {
     "name": "stderr",
     "output_type": "stream",
     "text": [
      " 24%|██▍       | 404/1668 [00:01<00:03, 346.92it/s]"
     ]
    },
    {
     "name": "stdout",
     "output_type": "stream",
     "text": [
      "diê 1791586\n",
      "dâ 1791581\n",
      "etl 1791558\n",
      "fb 1791554\n",
      "gafur 1791548\n"
     ]
    },
    {
     "name": "stderr",
     "output_type": "stream",
     "text": [
      " 40%|███▉      | 661/1668 [00:01<00:01, 661.35it/s]"
     ]
    },
    {
     "name": "stdout",
     "output_type": "stream",
     "text": [
      "gh 1791543\n",
      "hiê 1791538\n",
      "infernus 1791530\n",
      "janpiere 1791513\n",
      "karik 1791507\n"
     ]
    },
    {
     "name": "stderr",
     "output_type": "stream",
     "text": [
      " 44%|████▍     | 730/1668 [00:01<00:01, 557.62it/s]"
     ]
    },
    {
     "name": "stdout",
     "output_type": "stream",
     "text": [
      "kesennuma 1791499\n",
      "khiê 1791498\n",
      "kiê 1791493\n",
      "levante 1791489\n",
      "litva 1791476\n"
     ]
    },
    {
     "name": "stderr",
     "output_type": "stream",
     "text": [
      " 55%|█████▍    | 915/1668 [00:01<00:01, 611.91it/s]"
     ]
    },
    {
     "name": "stdout",
     "output_type": "stream",
     "text": [
      "lươ 1791474\n",
      "eric tên hard đã tung magui 1791473\n",
      "mochi 1791463\n",
      "mă 1791463\n",
      "natri 1791421\n",
      "những người như kiểu của natri kaihayvad 1791421\n",
      "nbsp 1791370\n",
      "ngươ 1791365\n"
     ]
    },
    {
     "name": "stderr",
     "output_type": "stream",
     "text": [
      " 59%|█████▊    | 979/1668 [00:02<00:02, 283.14it/s]"
     ]
    },
    {
     "name": "stdout",
     "output_type": "stream",
     "text": [
      "nh 1791332\n",
      "nhat 1791327\n",
      "nhiê 1791327\n",
      "nhâ 1791324\n"
     ]
    },
    {
     "name": "stderr",
     "output_type": "stream",
     "text": [
      " 62%|██████▏   | 1027/1668 [00:02<00:02, 288.21it/s]"
     ]
    },
    {
     "name": "stdout",
     "output_type": "stream",
     "text": [
      "ntt 1791293\n",
      "nă 1791291\n",
      "orck 1791286\n",
      "panchuki 1791281\n"
     ]
    },
    {
     "name": "stderr",
     "output_type": "stream",
     "text": [
      " 65%|██████▌   | 1088/1668 [00:02<00:01, 315.60it/s]"
     ]
    },
    {
     "name": "stdout",
     "output_type": "stream",
     "text": [
      "phâ 1791276\n",
      "pra 1791262\n",
      "quacuarabiang 1791256\n",
      "quyê 1791253\n",
      "quâ 1791246\n"
     ]
    },
    {
     "name": "stderr",
     "output_type": "stream",
     "text": [
      " 70%|███████   | 1168/1668 [00:03<00:01, 286.87it/s]"
     ]
    },
    {
     "name": "stdout",
     "output_type": "stream",
     "text": [
      "rakhimov 1791212\n",
      "regarry 1791207\n",
      "râ 1791204\n",
      "ră 1791204\n",
      "saikamoto 1791198\n"
     ]
    },
    {
     "name": "stderr",
     "output_type": "stream",
     "text": [
      " 80%|████████  | 1335/1668 [00:03<00:00, 451.53it/s]"
     ]
    },
    {
     "name": "stdout",
     "output_type": "stream",
     "text": [
      "saviora 1791198\n",
      "shisha 1791198\n",
      "silentine 1791192\n",
      "taisa 1791186\n",
      "thiê 1791183\n"
     ]
    },
    {
     "name": "stderr",
     "output_type": "stream",
     "text": [
      " 83%|████████▎ | 1386/1668 [00:03<00:00, 382.25it/s]"
     ]
    },
    {
     "name": "stdout",
     "output_type": "stream",
     "text": [
      "thâ 1791180\n",
      "thă 1791177\n",
      "tiê 1791175\n",
      "tnt 1791159\n",
      "trươ 1791159\n"
     ]
    },
    {
     "name": "stderr",
     "output_type": "stream",
     "text": [
      " 97%|█████████▋| 1618/1668 [00:03<00:00, 563.97it/s]"
     ]
    },
    {
     "name": "stdout",
     "output_type": "stream",
     "text": [
      "tâ 1791158\n",
      "viê 1791153\n",
      "vâ 1791147\n",
      "yoona 1791140\n",
      "yzfr 1791136\n"
     ]
    },
    {
     "name": "stderr",
     "output_type": "stream",
     "text": [
      "100%|██████████| 1668/1668 [00:04<00:00, 402.79it/s]\n"
     ]
    },
    {
     "name": "stdout",
     "output_type": "stream",
     "text": [
      "zanetti 1791131\n",
      "đax 1791124\n",
      "điê 1791124\n",
      "đâ 1791117\n",
      "đươ 1791105\n"
     ]
    },
    {
     "name": "stderr",
     "output_type": "stream",
     "text": [
      "  1%|          | 10/1668 [00:00<00:24, 67.35it/s]"
     ]
    },
    {
     "name": "stdout",
     "output_type": "stream",
     "text": [
      "aastrazeneca 1791105\n",
      "adarninnalyn 1791105\n",
      "adiđà 1791105\n"
     ]
    },
    {
     "name": "stderr",
     "output_type": "stream",
     "text": [
      "  2%|▏         | 29/1668 [00:00<00:25, 65.26it/s]"
     ]
    },
    {
     "name": "stdout",
     "output_type": "stream",
     "text": [
      "agentina 1791105\n",
      "airbnb 1791105\n",
      "airpod 1791105\n"
     ]
    },
    {
     "name": "stderr",
     "output_type": "stream",
     "text": [
      "  2%|▏         | 36/1668 [00:00<00:27, 59.22it/s]"
     ]
    },
    {
     "name": "stdout",
     "output_type": "stream",
     "text": [
      "albican 1791105\n",
      "alchemyvision 1791105\n",
      "algérie 1791105\n"
     ]
    },
    {
     "name": "stderr",
     "output_type": "stream",
     "text": [
      "  3%|▎         | 48/1668 [00:00<00:32, 49.62it/s]"
     ]
    },
    {
     "name": "stdout",
     "output_type": "stream",
     "text": [
      "aloo 1791105\n",
      "alpress 1791105\n",
      "alucobond 1791105\n"
     ]
    },
    {
     "name": "stderr",
     "output_type": "stream",
     "text": [
      "  3%|▎         | 56/1668 [00:00<00:30, 52.18it/s]"
     ]
    },
    {
     "name": "stdout",
     "output_type": "stream",
     "text": [
      "alô 1791105\n",
      "amidan 1791105\n",
      "ampli 1791105\n"
     ]
    },
    {
     "name": "stderr",
     "output_type": "stream",
     "text": [
      "  4%|▍         | 73/1668 [00:01<00:28, 56.10it/s]"
     ]
    },
    {
     "name": "stdout",
     "output_type": "stream",
     "text": [
      "ancovas 1791105\n",
      "anhchị 1791105\n",
      "anten 1791105\n"
     ]
    },
    {
     "name": "stderr",
     "output_type": "stream",
     "text": [
      "  5%|▍         | 79/1668 [00:01<00:30, 51.87it/s]"
     ]
    },
    {
     "name": "stdout",
     "output_type": "stream",
     "text": [
      "apirin 1791105\n",
      "aroenalin 1791105\n",
      "asinh 1791105\n"
     ]
    },
    {
     "name": "stderr",
     "output_type": "stream",
     "text": [
      "  6%|▌         | 102/1668 [00:01<00:23, 66.82it/s]"
     ]
    },
    {
     "name": "stdout",
     "output_type": "stream",
     "text": [
      "sàn atlat 1791105\n",
      "avarta 1791105\n",
      "axit 1791105\n"
     ]
    },
    {
     "name": "stderr",
     "output_type": "stream",
     "text": [
      "  7%|▋         | 109/1668 [00:01<00:28, 53.98it/s]"
     ]
    },
    {
     "name": "stdout",
     "output_type": "stream",
     "text": [
      "badboy 1791105\n",
      "badlike 1791105\n",
      "balo 1791105\n"
     ]
    },
    {
     "name": "stderr",
     "output_type": "stream",
     "text": [
      "  8%|▊         | 126/1668 [00:02<00:21, 72.01it/s]"
     ]
    },
    {
     "name": "stdout",
     "output_type": "stream",
     "text": [
      "balô 1791105\n",
      "betacarotene 1791105\n",
      "bgdđt 1791105\n"
     ]
    },
    {
     "name": "stderr",
     "output_type": "stream",
     "text": [
      "  8%|▊         | 134/1668 [00:02<00:25, 59.49it/s]"
     ]
    },
    {
     "name": "stdout",
     "output_type": "stream",
     "text": [
      "bhyt 1791105\n",
      "bigdata 1791105\n",
      "bisaolo 1791105\n"
     ]
    },
    {
     "name": "stderr",
     "output_type": "stream",
     "text": [
      "  8%|▊         | 141/1668 [00:02<00:26, 56.90it/s]"
     ]
    },
    {
     "name": "stdout",
     "output_type": "stream",
     "text": [
      "vau bjet hai 1791105\n",
      "blackpink 1791105\n",
      "blueber 1791105\n"
     ]
    },
    {
     "name": "stderr",
     "output_type": "stream",
     "text": [
      "  9%|▉         | 155/1668 [00:02<00:31, 48.28it/s]"
     ]
    },
    {
     "name": "stdout",
     "output_type": "stream",
     "text": [
      "bluezone 1791105\n",
      "bokers 1791105\n",
      "bootcamp 1791105\n"
     ]
    },
    {
     "name": "stderr",
     "output_type": "stream",
     "text": [
      " 10%|█         | 169/1668 [00:02<00:24, 61.11it/s]"
     ]
    },
    {
     "name": "stdout",
     "output_type": "stream",
     "text": [
      "boyzone 1791105\n",
      "brightskin 1791105\n",
      "bugati 1791105\n"
     ]
    },
    {
     "name": "stderr",
     "output_type": "stream",
     "text": [
      " 11%|█         | 186/1668 [00:03<00:24, 59.30it/s]"
     ]
    },
    {
     "name": "stdout",
     "output_type": "stream",
     "text": [
      "bugato 1791105\n",
      "bugatosaka 1791105\n",
      "bummy 1791105\n",
      "bêncmc 1791105\n",
      "bđang 1791105\n",
      "bưc 1791105\n"
     ]
    },
    {
     "name": "stderr",
     "output_type": "stream",
     "text": [
      " 12%|█▏        | 193/1668 [00:03<00:38, 38.46it/s]"
     ]
    },
    {
     "name": "stdout",
     "output_type": "stream",
     "text": [
      "bạcgồm 1791105\n",
      "bạncóthểdùngmọimón 1791105\n",
      "bảyhai 1791105\n"
     ]
    },
    {
     "name": "stderr",
     "output_type": "stream",
     "text": [
      " 12%|█▏        | 198/1668 [00:03<00:39, 37.48it/s]"
     ]
    },
    {
     "name": "stdout",
     "output_type": "stream",
     "text": [
      "caboolture 1791105\n",
      "cacbonhydrat 1791105\n",
      "cafein 1791105\n"
     ]
    },
    {
     "name": "stderr",
     "output_type": "stream",
     "text": [
      " 12%|█▏        | 203/1668 [00:04<00:49, 29.48it/s]"
     ]
    },
    {
     "name": "stdout",
     "output_type": "stream",
     "text": [
      "caffein 1791105\n",
      "café 1791105\n",
      "cais 1791105\n"
     ]
    },
    {
     "name": "stderr",
     "output_type": "stream",
     "text": [
      " 13%|█▎        | 212/1668 [00:04<00:48, 29.96it/s]"
     ]
    },
    {
     "name": "stdout",
     "output_type": "stream",
     "text": [
      "camiaso 1791105\n",
      "quyển caparo 1791105\n",
      "caphein 1791105\n"
     ]
    },
    {
     "name": "stderr",
     "output_type": "stream",
     "text": [
      " 13%|█▎        | 216/1668 [00:04<00:49, 29.12it/s]"
     ]
    },
    {
     "name": "stdout",
     "output_type": "stream",
     "text": [
      "capuchino 1791105\n",
      "carodin 1791105\n",
      "cata 1791105\n"
     ]
    },
    {
     "name": "stderr",
     "output_type": "stream",
     "text": [
      " 14%|█▍        | 232/1668 [00:04<00:34, 42.08it/s]"
     ]
    },
    {
     "name": "stdout",
     "output_type": "stream",
     "text": [
      "cathel 1791105\n",
      "ccovid 1791105\n",
      "chataway 1791105\n"
     ]
    },
    {
     "name": "stderr",
     "output_type": "stream",
     "text": [
      " 14%|█▍        | 240/1668 [00:04<00:31, 45.38it/s]"
     ]
    },
    {
     "name": "stdout",
     "output_type": "stream",
     "text": [
      "chatuchak 1791105\n",
      "chiẹm 1791105\n",
      "chocopie 1791105\n"
     ]
    },
    {
     "name": "stderr",
     "output_type": "stream",
     "text": [
      " 15%|█▍        | 245/1668 [00:05<00:39, 36.24it/s]"
     ]
    },
    {
     "name": "stdout",
     "output_type": "stream",
     "text": [
      "cholin 1791105\n",
      "choáh 1791105\n",
      "chromebook 1791105\n"
     ]
    },
    {
     "name": "stderr",
     "output_type": "stream",
     "text": [
      " 15%|█▌        | 253/1668 [00:05<00:43, 32.41it/s]"
     ]
    },
    {
     "name": "stdout",
     "output_type": "stream",
     "text": [
      "chàochị 1791105\n",
      "chítquả 1791105\n",
      "ciu 1791105\n"
     ]
    },
    {
     "name": "stderr",
     "output_type": "stream",
     "text": [
      " 15%|█▌        | 257/1668 [00:05<00:45, 30.73it/s]"
     ]
    },
    {
     "name": "stdout",
     "output_type": "stream",
     "text": [
      "clb 1791105\n",
      "mươi cm 1791105\n",
      "năm cm 1791105\n"
     ]
    },
    {
     "name": "stderr",
     "output_type": "stream",
     "text": [
      " 16%|█▌        | 264/1668 [00:05<00:52, 26.76it/s]"
     ]
    },
    {
     "name": "stdout",
     "output_type": "stream",
     "text": [
      "kg 1791105\n",
      "tình hình coban trong nước 1791105\n",
      "coindesk 1791105\n"
     ]
    },
    {
     "name": "stderr",
     "output_type": "stream",
     "text": [
      " 17%|█▋        | 281/1668 [00:06<00:26, 51.96it/s]"
     ]
    },
    {
     "name": "stdout",
     "output_type": "stream",
     "text": [
      "contener 1791105\n",
      "covit 1791105\n",
      "pha đá trực tiếp của crv 1791105\n"
     ]
    },
    {
     "name": "stderr",
     "output_type": "stream",
     "text": [
      " 19%|█▊        | 309/1668 [00:06<00:19, 68.86it/s]"
     ]
    },
    {
     "name": "stdout",
     "output_type": "stream",
     "text": [
      "cuíi 1791105\n",
      "câái 1791105\n",
      "côngthương 1791105\n"
     ]
    },
    {
     "name": "stderr",
     "output_type": "stream",
     "text": [
      " 19%|█▉        | 316/1668 [00:06<00:21, 61.53it/s]"
     ]
    },
    {
     "name": "stdout",
     "output_type": "stream",
     "text": [
      "cùngphụng 1791105\n",
      "cườichia 1791105\n",
      "daẹm 1791105\n"
     ]
    },
    {
     "name": "stderr",
     "output_type": "stream",
     "text": [
      " 20%|█▉        | 330/1668 [00:06<00:24, 53.66it/s]"
     ]
    },
    {
     "name": "stdout",
     "output_type": "stream",
     "text": [
      "dealta 1791105\n",
      "từ debay 1791105\n",
      "cũng có photo 1791105\n"
     ]
    },
    {
     "name": "stderr",
     "output_type": "stream",
     "text": [
      " 20%|██        | 339/1668 [00:06<00:23, 55.83it/s]"
     ]
    },
    {
     "name": "stdout",
     "output_type": "stream",
     "text": [
      "đai diện 1791105\n",
      "digial 1791105\n",
      "doker 1791105\n"
     ]
    },
    {
     "name": "stderr",
     "output_type": "stream",
     "text": [
      " 23%|██▎       | 380/1668 [00:07<00:13, 96.40it/s]"
     ]
    },
    {
     "name": "stdout",
     "output_type": "stream",
     "text": [
      "drukgyal 1791105\n",
      "dẫ 1791105\n",
      "efisio 1791105\n",
      "ceo amazon elipus 1791105\n",
      "ellanmark 1791105\n",
      "embape 1791105\n"
     ]
    },
    {
     "name": "stderr",
     "output_type": "stream",
     "text": [
      " 23%|██▎       | 390/1668 [00:07<00:18, 67.93it/s]"
     ]
    },
    {
     "name": "stdout",
     "output_type": "stream",
     "text": [
      "là số đầu tiên nên tôi có 1791105\n",
      "nhưng đối với thì empe 1791105\n",
      "empe 1791105\n"
     ]
    },
    {
     "name": "stderr",
     "output_type": "stream",
     "text": [
      " 24%|██▍       | 398/1668 [00:07<00:26, 47.13it/s]"
     ]
    },
    {
     "name": "stdout",
     "output_type": "stream",
     "text": [
      "trước equa đo 1791105\n",
      "equa 1791105\n",
      "equador 1791105\n"
     ]
    },
    {
     "name": "stderr",
     "output_type": "stream",
     "text": [
      " 25%|██▌       | 420/1668 [00:08<00:18, 68.67it/s]"
     ]
    },
    {
     "name": "stdout",
     "output_type": "stream",
     "text": [
      "esports 1791105\n",
      "kênh tài chính doanh nghiệp fami 1791105\n",
      "fansipan 1791105\n"
     ]
    },
    {
     "name": "stderr",
     "output_type": "stream",
     "text": [
      " 26%|██▋       | 440/1668 [00:08<00:17, 69.23it/s]"
     ]
    },
    {
     "name": "stdout",
     "output_type": "stream",
     "text": [
      "fearstreet 1791105\n",
      "fenty thế nhưng mà 1791105\n",
      "firetech 1791105\n"
     ]
    },
    {
     "name": "stderr",
     "output_type": "stream",
     "text": [
      " 27%|██▋       | 448/1668 [00:08<00:18, 65.97it/s]"
     ]
    },
    {
     "name": "stdout",
     "output_type": "stream",
     "text": [
      "phải flavodnoi 1791105\n",
      "folower 1791105\n",
      "fourhourworkweek 1791105\n"
     ]
    },
    {
     "name": "stderr",
     "output_type": "stream",
     "text": [
      " 27%|██▋       | 456/1668 [00:08<00:19, 63.57it/s]"
     ]
    },
    {
     "name": "stdout",
     "output_type": "stream",
     "text": [
      "headshot 1791105\n",
      "friendzone 1791105\n",
      "frontend 1791105\n"
     ]
    },
    {
     "name": "stderr",
     "output_type": "stream",
     "text": [
      " 28%|██▊       | 463/1668 [00:08<00:25, 46.75it/s]"
     ]
    },
    {
     "name": "stdout",
     "output_type": "stream",
     "text": [
      "fructozơ 1791105\n",
      "ftrong 1791105\n",
      "fullkovo 1791105\n"
     ]
    },
    {
     "name": "stderr",
     "output_type": "stream",
     "text": [
      " 29%|██▊       | 477/1668 [00:09<00:20, 59.20it/s]"
     ]
    },
    {
     "name": "stdout",
     "output_type": "stream",
     "text": [
      "huấn luyện ganna 1791105\n",
      "gardni 1791105\n",
      "gardnia 1791105\n"
     ]
    },
    {
     "name": "stderr",
     "output_type": "stream",
     "text": [
      " 29%|██▉       | 484/1668 [00:09<00:23, 50.51it/s]"
     ]
    },
    {
     "name": "stdout",
     "output_type": "stream",
     "text": [
      "garena 1791105\n",
      "gb 1791105\n",
      "gbt 1791105\n"
     ]
    },
    {
     "name": "stderr",
     "output_type": "stream",
     "text": [
      " 29%|██▉       | 490/1668 [00:09<00:30, 39.08it/s]"
     ]
    },
    {
     "name": "stdout",
     "output_type": "stream",
     "text": [
      "genji 1791105\n",
      "genève 1791105\n",
      "ghanh 1791105\n"
     ]
    },
    {
     "name": "stderr",
     "output_type": "stream",
     "text": [
      " 30%|██▉       | 499/1668 [00:09<00:26, 44.44it/s]"
     ]
    },
    {
     "name": "stdout",
     "output_type": "stream",
     "text": [
      "gioneve 1791105\n",
      "gionevo 1791105\n",
      "giăct 1791105\n"
     ]
    },
    {
     "name": "stderr",
     "output_type": "stream",
     "text": [
      " 31%|███       | 513/1668 [00:10<00:26, 42.95it/s]"
     ]
    },
    {
     "name": "stdout",
     "output_type": "stream",
     "text": [
      "giảmcholesterol 1791105\n",
      "glucozơ 1791105\n",
      "lộ goneve 1791105\n"
     ]
    },
    {
     "name": "stderr",
     "output_type": "stream",
     "text": [
      " 31%|███       | 518/1668 [00:10<00:31, 36.21it/s]"
     ]
    },
    {
     "name": "stdout",
     "output_type": "stream",
     "text": [
      "goneve 1791105\n",
      "googlemap 1791105\n",
      "goép 1791105\n"
     ]
    },
    {
     "name": "stderr",
     "output_type": "stream",
     "text": [
      " 31%|███▏      | 523/1668 [00:10<00:36, 31.58it/s]"
     ]
    },
    {
     "name": "stdout",
     "output_type": "stream",
     "text": [
      "grabbike 1791105\n",
      "grabtaxi 1791105\n",
      "cochamó 1791105\n"
     ]
    },
    {
     "name": "stderr",
     "output_type": "stream",
     "text": [
      " 32%|███▏      | 527/1668 [00:10<00:36, 30.89it/s]"
     ]
    },
    {
     "name": "stdout",
     "output_type": "stream",
     "text": [
      "grap 1791105\n",
      "grapbike 1791105\n",
      "gs 1791105\n"
     ]
    },
    {
     "name": "stderr",
     "output_type": "stream",
     "text": [
      " 32%|███▏      | 537/1668 [00:10<00:34, 32.75it/s]"
     ]
    },
    {
     "name": "stdout",
     "output_type": "stream",
     "text": [
      "sở giao thông vận tải gtvt 1791105\n",
      "guom 1791105\n",
      "gêm 1791105\n"
     ]
    },
    {
     "name": "stderr",
     "output_type": "stream",
     "text": [
      " 33%|███▎      | 545/1668 [00:11<00:28, 38.86it/s]"
     ]
    },
    {
     "name": "stdout",
     "output_type": "stream",
     "text": [
      "hakii 1791105\n",
      "hakimi 1791105\n",
      "hangseo 1791105\n"
     ]
    },
    {
     "name": "stderr",
     "output_type": "stream",
     "text": [
      " 34%|███▍      | 568/1668 [00:11<00:17, 62.29it/s]"
     ]
    },
    {
     "name": "stdout",
     "output_type": "stream",
     "text": [
      "hardilao 1791105\n",
      "highgarden 1791105\n",
      "highlighter 1791105\n"
     ]
    },
    {
     "name": "stderr",
     "output_type": "stream",
     "text": [
      " 35%|███▌      | 584/1668 [00:11<00:14, 76.61it/s]"
     ]
    },
    {
     "name": "stdout",
     "output_type": "stream",
     "text": [
      "hoocmon 1791105\n",
      "hoocmôn 1791105\n",
      "hotrecorder 1791105\n"
     ]
    },
    {
     "name": "stderr",
     "output_type": "stream",
     "text": [
      " 35%|███▌      | 592/1668 [00:11<00:15, 70.74it/s]"
     ]
    },
    {
     "name": "stdout",
     "output_type": "stream",
     "text": [
      "hottline 1791105\n",
      "htif 1791105\n",
      "huyes 1791105\n"
     ]
    },
    {
     "name": "stderr",
     "output_type": "stream",
     "text": [
      " 36%|███▌      | 600/1668 [00:11<00:20, 51.38it/s]"
     ]
    },
    {
     "name": "stdout",
     "output_type": "stream",
     "text": [
      "huyndai 1791105\n",
      "huyệnlà 1791105\n",
      "huếnhư 1791105\n"
     ]
    },
    {
     "name": "stderr",
     "output_type": "stream",
     "text": [
      " 36%|███▋      | 606/1668 [00:12<00:24, 42.59it/s]"
     ]
    },
    {
     "name": "stdout",
     "output_type": "stream",
     "text": [
      "hypebal 1791105\n",
      "hyperscale 1791105\n",
      "hécta 1791105\n"
     ]
    },
    {
     "name": "stderr",
     "output_type": "stream",
     "text": [
      " 37%|███▋      | 611/1668 [00:12<00:31, 33.20it/s]"
     ]
    },
    {
     "name": "stdout",
     "output_type": "stream",
     "text": [
      "hìnhđẹp 1791105\n",
      "hônbà 1791105\n",
      "hùngmát 1791105\n"
     ]
    },
    {
     "name": "stderr",
     "output_type": "stream",
     "text": [
      " 37%|███▋      | 615/1668 [00:12<00:36, 29.02it/s]"
     ]
    },
    {
     "name": "stdout",
     "output_type": "stream",
     "text": [
      "hơp 1791105\n",
      "họccặp 1791105\n",
      "trấn hồnm 1791105\n"
     ]
    },
    {
     "name": "stderr",
     "output_type": "stream",
     "text": [
      " 39%|███▊      | 643/1668 [00:12<00:15, 65.00it/s]"
     ]
    },
    {
     "name": "stdout",
     "output_type": "stream",
     "text": [
      "yuri ilyin 1791105\n",
      "insta 1791105\n",
      "joseph marie jacquard 1791105\n"
     ]
    },
    {
     "name": "stderr",
     "output_type": "stream",
     "text": [
      " 40%|███▉      | 663/1668 [00:12<00:12, 82.38it/s]"
     ]
    },
    {
     "name": "stdout",
     "output_type": "stream",
     "text": [
      "nay javel 1791105\n",
      "jbt 1791105\n",
      "sống só t 1791105\n"
     ]
    },
    {
     "name": "stderr",
     "output_type": "stream",
     "text": [
      " 41%|████      | 682/1668 [00:13<00:14, 68.08it/s]"
     ]
    },
    {
     "name": "stdout",
     "output_type": "stream",
     "text": [
      "jongkhôngok 1791105\n",
      "jungkhôngok 1791105\n",
      "kaabalà 1791105\n"
     ]
    },
    {
     "name": "stderr",
     "output_type": "stream",
     "text": [
      " 41%|████▏     | 690/1668 [00:13<00:16, 58.05it/s]"
     ]
    },
    {
     "name": "stdout",
     "output_type": "stream",
     "text": [
      "kaihayvad 1791105\n",
      "kaiwaker 1791105\n",
      "kanel 1791105\n"
     ]
    },
    {
     "name": "stderr",
     "output_type": "stream",
     "text": [
      " 42%|████▏     | 701/1668 [00:13<00:15, 62.70it/s]"
     ]
    },
    {
     "name": "stdout",
     "output_type": "stream",
     "text": [
      "kayde 1791105\n",
      "kevia 1791105\n",
      "khôngkhôngkhông 1791105\n"
     ]
    },
    {
     "name": "stderr",
     "output_type": "stream",
     "text": [
      " 42%|████▏     | 708/1668 [00:13<00:18, 51.57it/s]"
     ]
    },
    {
     "name": "stdout",
     "output_type": "stream",
     "text": [
      "khôngzoratima 1791105\n",
      "khăc 1791105\n",
      "kilogam 1791105\n"
     ]
    },
    {
     "name": "stderr",
     "output_type": "stream",
     "text": [
      " 43%|████▎     | 714/1668 [00:14<00:23, 39.81it/s]"
     ]
    },
    {
     "name": "stdout",
     "output_type": "stream",
     "text": [
      "kilôgam 1791105\n",
      "kilômét 1791105\n",
      "kimbap 1791105\n"
     ]
    },
    {
     "name": "stderr",
     "output_type": "stream",
     "text": [
      " 43%|████▎     | 719/1668 [00:14<00:24, 38.80it/s]"
     ]
    },
    {
     "name": "stdout",
     "output_type": "stream",
     "text": [
      "kiroto 1791105\n",
      "kitô 1791105\n",
      "kiệ 1791105\n"
     ]
    },
    {
     "name": "stderr",
     "output_type": "stream",
     "text": [
      " 43%|████▎     | 725/1668 [00:14<00:24, 39.21it/s]"
     ]
    },
    {
     "name": "stdout",
     "output_type": "stream",
     "text": [
      "sáu km 1791105\n",
      "một km 1791105\n",
      "từng km 1791105\n"
     ]
    },
    {
     "name": "stderr",
     "output_type": "stream",
     "text": [
      " 44%|████▍     | 730/1668 [00:14<00:34, 27.01it/s]"
     ]
    },
    {
     "name": "stdout",
     "output_type": "stream",
     "text": [
      "ngàn km 1791105\n",
      "mươi km 1791105\n",
      "chín km 1791105\n"
     ]
    },
    {
     "name": "stderr",
     "output_type": "stream",
     "text": [
      " 44%|████▍     | 734/1668 [00:15<00:38, 24.22it/s]"
     ]
    },
    {
     "name": "stdout",
     "output_type": "stream",
     "text": [
      "trăm km 1791105\n",
      "mười km 1791105\n",
      "lăm km 1791105\n"
     ]
    },
    {
     "name": "stderr",
     "output_type": "stream",
     "text": [
      " 45%|████▍     | 749/1668 [00:15<00:22, 40.41it/s]"
     ]
    },
    {
     "name": "stdout",
     "output_type": "stream",
     "text": [
      "koong 1791105\n",
      "kumanthông 1791105\n",
      "kw 1791105\n"
     ]
    },
    {
     "name": "stderr",
     "output_type": "stream",
     "text": [
      " 46%|████▌     | 770/1668 [00:15<00:16, 54.41it/s]"
     ]
    },
    {
     "name": "stdout",
     "output_type": "stream",
     "text": [
      "laij 1791105\n",
      "danielle lantagne 1791105\n",
      "learna 1791105\n"
     ]
    },
    {
     "name": "stderr",
     "output_type": "stream",
     "text": [
      " 47%|████▋     | 777/1668 [00:15<00:19, 46.39it/s]"
     ]
    },
    {
     "name": "stdout",
     "output_type": "stream",
     "text": [
      "levanoski 1791105\n",
      "levanusy 1791105\n",
      "leveloka 1791105\n"
     ]
    },
    {
     "name": "stderr",
     "output_type": "stream",
     "text": [
      " 47%|████▋     | 783/1668 [00:15<00:19, 44.70it/s]"
     ]
    },
    {
     "name": "stdout",
     "output_type": "stream",
     "text": [
      "libang 1791105\n",
      "licotin 1791105\n",
      "livestrem 1791105\n"
     ]
    },
    {
     "name": "stderr",
     "output_type": "stream",
     "text": [
      " 49%|████▊     | 812/1668 [00:16<00:12, 69.97it/s]"
     ]
    },
    {
     "name": "stdout",
     "output_type": "stream",
     "text": [
      "lliệt 1791105\n",
      "mà cs 1791105\n",
      "tngaf 1791105\n",
      "lybang 1791105\n",
      "làngtó 1791105\n",
      "làviệc 1791105\n"
     ]
    },
    {
     "name": "stderr",
     "output_type": "stream",
     "text": [
      " 49%|████▉     | 820/1668 [00:16<00:18, 46.52it/s]"
     ]
    },
    {
     "name": "stdout",
     "output_type": "stream",
     "text": [
      "lênsáungày 1791105\n",
      "lênxây 1791105\n",
      "lôgic 1791105\n"
     ]
    },
    {
     "name": "stderr",
     "output_type": "stream",
     "text": [
      " 50%|████▉     | 826/1668 [00:16<00:22, 37.47it/s]"
     ]
    },
    {
     "name": "stdout",
     "output_type": "stream",
     "text": [
      "lđã 1791105\n",
      "lưc 1791105\n",
      "lầ 1791105\n"
     ]
    },
    {
     "name": "stderr",
     "output_type": "stream",
     "text": [
      " 50%|████▉     | 832/1668 [00:16<00:21, 38.23it/s]"
     ]
    },
    {
     "name": "stdout",
     "output_type": "stream",
     "text": [
      "macos 1791105\n",
      "maguga 1791105\n",
      "magui 1791105\n"
     ]
    },
    {
     "name": "stderr",
     "output_type": "stream",
     "text": [
      " 50%|█████     | 842/1668 [00:17<00:22, 37.07it/s]"
     ]
    },
    {
     "name": "stdout",
     "output_type": "stream",
     "text": [
      "nhận sút của cuối cùng mahones 1791105\n",
      "mandrid 1791105\n",
      "maobatton 1791105\n"
     ]
    },
    {
     "name": "stderr",
     "output_type": "stream",
     "text": [
      " 51%|█████     | 850/1668 [00:17<00:19, 41.93it/s]"
     ]
    },
    {
     "name": "stdout",
     "output_type": "stream",
     "text": [
      "maratong 1791105\n",
      "maulife 1791105\n",
      "ntập 1791105\n"
     ]
    },
    {
     "name": "stderr",
     "output_type": "stream",
     "text": [
      " 52%|█████▏    | 860/1668 [00:17<00:20, 38.84it/s]"
     ]
    },
    {
     "name": "stdout",
     "output_type": "stream",
     "text": [
      "maxcovar 1791105\n",
      "mbappé 1791105\n",
      "megapixel 1791105\n"
     ]
    },
    {
     "name": "stderr",
     "output_type": "stream",
     "text": [
      " 52%|█████▏    | 865/1668 [00:17<00:24, 33.21it/s]"
     ]
    },
    {
     "name": "stdout",
     "output_type": "stream",
     "text": [
      "menche 1791105\n",
      "menulife 1791105\n",
      "mescedes 1791105\n"
     ]
    },
    {
     "name": "stderr",
     "output_type": "stream",
     "text": [
      " 53%|█████▎    | 876/1668 [00:18<00:17, 44.63it/s]"
     ]
    },
    {
     "name": "stdout",
     "output_type": "stream",
     "text": [
      "anh gary midea 1791105\n",
      "minimet 1791105\n",
      "colossus mk một 1791105\n"
     ]
    },
    {
     "name": "stderr",
     "output_type": "stream",
     "text": [
      " 54%|█████▎    | 893/1668 [00:18<00:14, 54.36it/s]"
     ]
    },
    {
     "name": "stdout",
     "output_type": "stream",
     "text": [
      "ml 1791105\n",
      "morina 1791105\n",
      "moveek 1791105\n"
     ]
    },
    {
     "name": "stderr",
     "output_type": "stream",
     "text": [
      " 54%|█████▍    | 905/1668 [00:18<00:12, 63.34it/s]"
     ]
    },
    {
     "name": "stdout",
     "output_type": "stream",
     "text": [
      "muoi 1791105\n",
      "muòi 1791105\n",
      "máclênin 1791105\n"
     ]
    },
    {
     "name": "stderr",
     "output_type": "stream",
     "text": [
      " 55%|█████▍    | 912/1668 [00:18<00:16, 46.38it/s]"
     ]
    },
    {
     "name": "stdout",
     "output_type": "stream",
     "text": [
      "méxico 1791105\n",
      "mìnhg 1791105\n",
      "mômen 1791105\n"
     ]
    },
    {
     "name": "stderr",
     "output_type": "stream",
     "text": [
      " 55%|█████▌    | 924/1668 [00:18<00:13, 55.38it/s]"
     ]
    },
    {
     "name": "stdout",
     "output_type": "stream",
     "text": [
      "môđun 1791105\n",
      "nên có nbsp nbsp 1791105\n",
      "ncov 1791105\n"
     ]
    },
    {
     "name": "stderr",
     "output_type": "stream",
     "text": [
      " 56%|█████▌    | 931/1668 [00:19<00:17, 43.01it/s]"
     ]
    },
    {
     "name": "stdout",
     "output_type": "stream",
     "text": [
      "ncovid 1791105\n",
      "ndn 1791105\n",
      "nha ta o 1791105\n"
     ]
    },
    {
     "name": "stderr",
     "output_type": "stream",
     "text": [
      " 56%|█████▌    | 937/1668 [00:19<00:17, 42.67it/s]"
     ]
    },
    {
     "name": "stdout",
     "output_type": "stream",
     "text": [
      "newstarland 1791105\n",
      "nghiêp 1791105\n",
      "nghoeo 1791105\n",
      "nghàn 1791105\n",
      "nghành 1791105\n",
      "nghêng 1791105\n"
     ]
    },
    {
     "name": "stderr",
     "output_type": "stream",
     "text": [
      " 56%|█████▋    | 942/1668 [00:19<00:24, 29.46it/s]"
     ]
    },
    {
     "name": "stdout",
     "output_type": "stream",
     "text": [
      "nghơi 1791105\n",
      "nghạch 1791105\n",
      "nghặt 1791105\n"
     ]
    },
    {
     "name": "stderr",
     "output_type": "stream",
     "text": [
      " 57%|█████▋    | 946/1668 [00:19<00:29, 24.16it/s]"
     ]
    },
    {
     "name": "stdout",
     "output_type": "stream",
     "text": [
      "nghềi 1791105\n",
      "ngoc han 1791105\n",
      "nguời 1791105\n"
     ]
    },
    {
     "name": "stderr",
     "output_type": "stream",
     "text": [
      " 57%|█████▋    | 950/1668 [00:20<00:31, 22.61it/s]"
     ]
    },
    {
     "name": "stdout",
     "output_type": "stream",
     "text": [
      "phải chờ mãi mọi ngưòi 1791105\n",
      "ngưòi 1791105\n",
      "nhatrang 1791105\n"
     ]
    },
    {
     "name": "stderr",
     "output_type": "stream",
     "text": [
      " 58%|█████▊    | 964/1668 [00:20<00:20, 33.55it/s]"
     ]
    },
    {
     "name": "stdout",
     "output_type": "stream",
     "text": [
      "nhiềurất 1791105\n",
      "nhât 1791105\n",
      "nissanro 1791105\n"
     ]
    },
    {
     "name": "stderr",
     "output_type": "stream",
     "text": [
      " 58%|█████▊    | 968/1668 [00:20<00:21, 32.33it/s]"
     ]
    },
    {
     "name": "stdout",
     "output_type": "stream",
     "text": [
      "nomico 1791105\n",
      "nono 1791105\n",
      "noono 1791105\n"
     ]
    },
    {
     "name": "stderr",
     "output_type": "stream",
     "text": [
      " 60%|█████▉    | 995/1668 [00:20<00:10, 62.40it/s]"
     ]
    },
    {
     "name": "stdout",
     "output_type": "stream",
     "text": [
      "nsưt 1791105\n",
      "sái n t n 1791105\n",
      "nđ cp 1791105\n"
     ]
    },
    {
     "name": "stderr",
     "output_type": "stream",
     "text": [
      " 60%|██████    | 1002/1668 [00:21<00:13, 51.19it/s]"
     ]
    },
    {
     "name": "stdout",
     "output_type": "stream",
     "text": [
      "nổcủa 1791105\n",
      "nộihoàng 1791105\n",
      "nộimua 1791105\n"
     ]
    },
    {
     "name": "stderr",
     "output_type": "stream",
     "text": [
      " 60%|██████    | 1008/1668 [00:21<00:13, 48.86it/s]"
     ]
    },
    {
     "name": "stdout",
     "output_type": "stream",
     "text": [
      "oeps 1791105\n",
      "okei 1791105\n",
      "otg 1791105\n"
     ]
    },
    {
     "name": "stderr",
     "output_type": "stream",
     "text": [
      " 62%|██████▏   | 1036/1668 [00:21<00:09, 68.16it/s]"
     ]
    },
    {
     "name": "stdout",
     "output_type": "stream",
     "text": [
      "oép 1791105\n",
      "pano áp huyết 1791105\n",
      "parkistan 1791105\n"
     ]
    },
    {
     "name": "stderr",
     "output_type": "stream",
     "text": [
      " 63%|██████▎   | 1047/1668 [00:21<00:08, 70.21it/s]"
     ]
    },
    {
     "name": "stdout",
     "output_type": "stream",
     "text": [
      "được không hay pci 1791105\n",
      "penso 1791105\n",
      "phablet 1791105\n"
     ]
    },
    {
     "name": "stderr",
     "output_type": "stream",
     "text": [
      " 64%|██████▎   | 1062/1668 [00:21<00:10, 59.33it/s]"
     ]
    },
    {
     "name": "stdout",
     "output_type": "stream",
     "text": [
      "phapluatplus 1791105\n",
      "philipin 1791105\n",
      "philippin 1791105\n"
     ]
    },
    {
     "name": "stderr",
     "output_type": "stream",
     "text": [
      " 65%|██████▍   | 1077/1668 [00:22<00:08, 71.92it/s]"
     ]
    },
    {
     "name": "stdout",
     "output_type": "stream",
     "text": [
      "phốtpho 1791105\n",
      "podenso 1791105\n",
      "portforio 1791105\n"
     ]
    },
    {
     "name": "stderr",
     "output_type": "stream",
     "text": [
      " 67%|██████▋   | 1117/1668 [00:22<00:05, 106.67it/s]"
     ]
    },
    {
     "name": "stdout",
     "output_type": "stream",
     "text": [
      "tông ps 1791105\n",
      "qisc 1791105\n",
      "qoán 1791105\n"
     ]
    },
    {
     "name": "stderr",
     "output_type": "stream",
     "text": [
      " 68%|██████▊   | 1128/1668 [00:22<00:05, 97.52it/s] "
     ]
    },
    {
     "name": "stdout",
     "output_type": "stream",
     "text": [
      "quatra 1791105\n",
      "phu quoc 1791105\n",
      "ib rahimovic 1791105\n",
      "ib ramovic 1791105\n",
      "mark rapford 1791105\n",
      "ratrầm 1791105\n"
     ]
    },
    {
     "name": "stderr",
     "output_type": "stream",
     "text": [
      " 68%|██████▊   | 1138/1668 [00:22<00:09, 56.17it/s]"
     ]
    },
    {
     "name": "stdout",
     "output_type": "stream",
     "text": [
      "rcó 1791105\n",
      "reckhôngner 1791105\n",
      "rieng 1791105\n"
     ]
    },
    {
     "name": "stderr",
     "output_type": "stream",
     "text": [
      " 69%|██████▊   | 1146/1668 [00:23<00:10, 50.95it/s]"
     ]
    },
    {
     "name": "stdout",
     "output_type": "stream",
     "text": [
      "về rimmel ấy có tác 1791105\n",
      "không làm tổ thương 1791105\n",
      "riverrun 1791105\n"
     ]
    },
    {
     "name": "stderr",
     "output_type": "stream",
     "text": [
      " 69%|██████▉   | 1153/1668 [00:23<00:11, 45.94it/s]"
     ]
    },
    {
     "name": "stdout",
     "output_type": "stream",
     "text": [
      "rm tương đương 1791105\n",
      "rodinger 1791105\n",
      "rât 1791105\n"
     ]
    },
    {
     "name": "stderr",
     "output_type": "stream",
     "text": [
      " 70%|██████▉   | 1165/1668 [00:23<00:09, 54.54it/s]"
     ]
    },
    {
     "name": "stdout",
     "output_type": "stream",
     "text": [
      "rơle 1791105\n",
      "rơnghen 1791105\n",
      "sông và rưat 1791105\n"
     ]
    },
    {
     "name": "stderr",
     "output_type": "stream",
     "text": [
      " 71%|███████   | 1179/1668 [00:23<00:10, 47.71it/s]"
     ]
    },
    {
     "name": "stdout",
     "output_type": "stream",
     "text": [
      "rẩt 1791105\n",
      "saostar 1791105\n",
      "saothì 1791105\n"
     ]
    },
    {
     "name": "stderr",
     "output_type": "stream",
     "text": [
      " 72%|███████▏  | 1196/1668 [00:24<00:08, 54.52it/s]"
     ]
    },
    {
     "name": "stdout",
     "output_type": "stream",
     "text": [
      "saou 1791105\n",
      "ông osama rabie người đứng đầu cơ quan quản lý kênh đào suez sca cho biết 1791105\n",
      "scorbut 1791105\n",
      "nhưng với sd ram có thể chạy đồng bộ với tốc độ xung nhịp của cpu 1791105\n",
      "cho em hỏi đây có phải sdt anh lưu thắng cảnh không ạ 1791105\n",
      "em xin phép sdt anh trinh đúng không ạ 1791105\n",
      "cho em hỏi đây có phải sdt anh cường không ạ 1791105\n"
     ]
    },
    {
     "name": "stderr",
     "output_type": "stream",
     "text": [
      " 72%|███████▏  | 1202/1668 [00:24<00:12, 36.71it/s]"
     ]
    },
    {
     "name": "stdout",
     "output_type": "stream",
     "text": [
      "dạ dạ em nhận được sdt từ marketing về 1791105\n",
      "sao em biết sdt anh vậy 1791105\n",
      "shadyside 1791105\n"
     ]
    },
    {
     "name": "stderr",
     "output_type": "stream",
     "text": [
      " 73%|███████▎  | 1217/1668 [00:24<00:08, 52.10it/s]"
     ]
    },
    {
     "name": "stdout",
     "output_type": "stream",
     "text": [
      "shophouse 1791105\n",
      "showrom 1791105\n",
      "shụt 1791105\n"
     ]
    },
    {
     "name": "stderr",
     "output_type": "stream",
     "text": [
      " 74%|███████▎  | 1230/1668 [00:25<00:09, 45.00it/s]"
     ]
    },
    {
     "name": "stdout",
     "output_type": "stream",
     "text": [
      "cô ấy chắc ngày mai 1791105\n",
      "singapo 1791105\n",
      "sinnova 1791105\n"
     ]
    },
    {
     "name": "stderr",
     "output_type": "stream",
     "text": [
      " 74%|███████▍  | 1236/1668 [00:25<00:09, 44.44it/s]"
     ]
    },
    {
     "name": "stdout",
     "output_type": "stream",
     "text": [
      "skincare 1791105\n",
      "skyteam 1791105\n",
      "slld 1791105\n"
     ]
    },
    {
     "name": "stderr",
     "output_type": "stream",
     "text": [
      " 75%|███████▍  | 1247/1668 [00:25<00:09, 42.49it/s]"
     ]
    },
    {
     "name": "stdout",
     "output_type": "stream",
     "text": [
      "smartbox 1791105\n",
      "solarin selfie đến với khoảnh khắc 1791105\n",
      "solomin 1791105\n"
     ]
    },
    {
     "name": "stderr",
     "output_type": "stream",
     "text": [
      " 75%|███████▌  | 1253/1668 [00:25<00:09, 42.69it/s]"
     ]
    },
    {
     "name": "stdout",
     "output_type": "stream",
     "text": [
      "sooc 1791105\n",
      "spaceing 1791105\n",
      "spr 1791105\n"
     ]
    },
    {
     "name": "stderr",
     "output_type": "stream",
     "text": [
      " 76%|███████▌  | 1266/1668 [00:25<00:09, 44.37it/s]"
     ]
    },
    {
     "name": "stdout",
     "output_type": "stream",
     "text": [
      "ssebunya 1791105\n",
      "starup 1791105\n",
      "subcribe 1791105\n",
      "subcriber 1791105\n",
      "subcrible 1791105\n",
      "subscrise 1791105\n"
     ]
    },
    {
     "name": "stderr",
     "output_type": "stream",
     "text": [
      " 76%|███████▌  | 1271/1668 [00:26<00:12, 32.32it/s]"
     ]
    },
    {
     "name": "stdout",
     "output_type": "stream",
     "text": [
      "sukio xe ô tô 1791105\n",
      "sukio ô tô 1791105\n",
      "sukuzi 1791105\n"
     ]
    },
    {
     "name": "stderr",
     "output_type": "stream",
     "text": [
      " 76%|███████▋  | 1275/1668 [00:26<00:15, 25.33it/s]"
     ]
    },
    {
     "name": "stdout",
     "output_type": "stream",
     "text": [
      "sumer 1791105\n",
      "sumhouse 1791105\n",
      "các đại của hai quyển caparo huyện superzoom spears vương quốc campuchia 1791105\n"
     ]
    },
    {
     "name": "stderr",
     "output_type": "stream",
     "text": [
      " 77%|███████▋  | 1289/1668 [00:26<00:10, 36.34it/s]"
     ]
    },
    {
     "name": "stdout",
     "output_type": "stream",
     "text": [
      "suzki 1791105\n",
      "vơi svij trí 1791105\n",
      "sôcôla 1791105\n"
     ]
    },
    {
     "name": "stderr",
     "output_type": "stream",
     "text": [
      " 78%|███████▊  | 1299/1668 [00:26<00:08, 45.38it/s]"
     ]
    },
    {
     "name": "stdout",
     "output_type": "stream",
     "text": [
      "sơri 1791105\n",
      "tamj 1791105\n",
      "tand tối cao 1791105\n"
     ]
    },
    {
     "name": "stderr",
     "output_type": "stream",
     "text": [
      " 79%|███████▊  | 1311/1668 [00:27<00:08, 42.42it/s]"
     ]
    },
    {
     "name": "stdout",
     "output_type": "stream",
     "text": [
      "tatto 1791105\n",
      "techerist 1791105\n",
      "si em si 1791105\n"
     ]
    },
    {
     "name": "stderr",
     "output_type": "stream",
     "text": [
      " 79%|███████▉  | 1318/1668 [00:27<00:08, 43.57it/s]"
     ]
    },
    {
     "name": "stdout",
     "output_type": "stream",
     "text": [
      "beauty blender và cái lược 1791105\n",
      "testla 1791105\n",
      "thanhbình 1791105\n"
     ]
    },
    {
     "name": "stderr",
     "output_type": "stream",
     "text": [
      " 79%|███████▉  | 1325/1668 [00:27<00:07, 44.39it/s]"
     ]
    },
    {
     "name": "stdout",
     "output_type": "stream",
     "text": [
      "thanhxuân 1791105\n",
      "theguardian 1791105\n",
      "thhể 1791105\n"
     ]
    },
    {
     "name": "stderr",
     "output_type": "stream",
     "text": [
      " 80%|███████▉  | 1330/1668 [00:27<00:09, 36.00it/s]"
     ]
    },
    {
     "name": "stdout",
     "output_type": "stream",
     "text": [
      "thianol 1791105\n",
      "phan thiet 1791105\n",
      "thile 1791105\n"
     ]
    },
    {
     "name": "stderr",
     "output_type": "stream",
     "text": [
      " 80%|███████▉  | 1334/1668 [00:27<00:12, 26.88it/s]"
     ]
    },
    {
     "name": "stdout",
     "output_type": "stream",
     "text": [
      "thilenol 1791105\n",
      "thitenol 1791105\n",
      "thiêt kế 1791105\n"
     ]
    },
    {
     "name": "stderr",
     "output_type": "stream",
     "text": [
      " 80%|████████  | 1338/1668 [00:28<00:12, 27.32it/s]"
     ]
    },
    {
     "name": "stdout",
     "output_type": "stream",
     "text": [
      "thiêt bị 1791105\n",
      "thnh phố 1791105\n",
      "tốt nghiệp thpt 1791105\n"
     ]
    },
    {
     "name": "stderr",
     "output_type": "stream",
     "text": [
      " 81%|████████  | 1346/1668 [00:28<00:12, 25.04it/s]"
     ]
    },
    {
     "name": "stdout",
     "output_type": "stream",
     "text": [
      "điểm thi thpt 1791105\n",
      "thyền 1791105\n",
      "công thưc 1791105\n"
     ]
    },
    {
     "name": "stderr",
     "output_type": "stream",
     "text": [
      " 81%|████████  | 1349/1668 [00:28<00:13, 23.19it/s]"
     ]
    },
    {
     "name": "stdout",
     "output_type": "stream",
     "text": [
      "thưc hiện 1791105\n",
      "tich 1791105\n",
      "tienduadual 1791105\n"
     ]
    },
    {
     "name": "stderr",
     "output_type": "stream",
     "text": [
      " 82%|████████▏ | 1360/1668 [00:28<00:10, 29.18it/s]"
     ]
    },
    {
     "name": "stdout",
     "output_type": "stream",
     "text": [
      "đọc là tion 1791105\n",
      "tiwter 1791105\n",
      "tk ngân hàng 1791105\n"
     ]
    },
    {
     "name": "stderr",
     "output_type": "stream",
     "text": [
      " 82%|████████▏ | 1364/1668 [00:29<00:10, 28.33it/s]"
     ]
    },
    {
     "name": "stdout",
     "output_type": "stream",
     "text": [
      "tkhai 1791105\n",
      "công ty ô tô tnhh 1791105\n",
      "tokhaiyte vn 1791105\n"
     ]
    },
    {
     "name": "stderr",
     "output_type": "stream",
     "text": [
      " 83%|████████▎ | 1381/1668 [00:29<00:06, 42.17it/s]"
     ]
    },
    {
     "name": "stdout",
     "output_type": "stream",
     "text": [
      "topfer 1791105\n",
      "torng 1791105\n",
      "tên tqh 1791105\n"
     ]
    },
    {
     "name": "stderr",
     "output_type": "stream",
     "text": [
      " 83%|████████▎ | 1387/1668 [00:29<00:06, 42.44it/s]"
     ]
    },
    {
     "name": "stdout",
     "output_type": "stream",
     "text": [
      "traford 1791105\n",
      "triinh 1791105\n",
      "tring 1791105\n",
      "trinhmở 1791105\n",
      "trirn 1791105\n",
      "trquân 1791105\n"
     ]
    },
    {
     "name": "stderr",
     "output_type": "stream",
     "text": [
      " 84%|████████▎ | 1396/1668 [00:29<00:09, 27.91it/s]"
     ]
    },
    {
     "name": "stdout",
     "output_type": "stream",
     "text": [
      "truơng 1791105\n",
      "trênbản 1791105\n",
      "trưam 1791105\n"
     ]
    },
    {
     "name": "stderr",
     "output_type": "stream",
     "text": [
      " 84%|████████▍ | 1400/1668 [00:30<00:09, 27.74it/s]"
     ]
    },
    {
     "name": "stdout",
     "output_type": "stream",
     "text": [
      "trấngia 1791105\n",
      "tsubasa một 1791105\n",
      "tthứ 1791105\n"
     ]
    },
    {
     "name": "stderr",
     "output_type": "stream",
     "text": [
      " 85%|████████▍ | 1410/1668 [00:30<00:06, 38.73it/s]"
     ]
    },
    {
     "name": "stdout",
     "output_type": "stream",
     "text": [
      "tuor 1791105\n",
      "tupngwr 1791105\n",
      "tutankhamun 1791105\n"
     ]
    },
    {
     "name": "stderr",
     "output_type": "stream",
     "text": [
      " 85%|████████▍ | 1415/1668 [00:30<00:08, 29.56it/s]"
     ]
    },
    {
     "name": "stdout",
     "output_type": "stream",
     "text": [
      "tuyder của gọi 1791105\n",
      "tuàn 1791105\n",
      "bà typn 1791105\n"
     ]
    },
    {
     "name": "stderr",
     "output_type": "stream",
     "text": [
      " 85%|████████▌ | 1419/1668 [00:30<00:08, 28.81it/s]"
     ]
    },
    {
     "name": "stdout",
     "output_type": "stream",
     "text": [
      "tácen 1791105\n",
      "tôiôi 1791105\n",
      "tùt 1791105\n"
     ]
    },
    {
     "name": "stderr",
     "output_type": "stream",
     "text": [
      " 85%|████████▌ | 1426/1668 [00:31<00:10, 23.63it/s]"
     ]
    },
    {
     "name": "stdout",
     "output_type": "stream",
     "text": [
      "tạocho 1791105\n",
      "tạohà 1791105\n",
      "từcmc 1791105\n"
     ]
    },
    {
     "name": "stderr",
     "output_type": "stream",
     "text": [
      " 87%|████████▋ | 1444/1668 [00:31<00:04, 48.66it/s]"
     ]
    },
    {
     "name": "stdout",
     "output_type": "stream",
     "text": [
      "unsang 1791105\n",
      "ustraylia 1791105\n",
      "vaccin 1791105\n"
     ]
    },
    {
     "name": "stderr",
     "output_type": "stream",
     "text": [
      " 87%|████████▋ | 1450/1668 [00:31<00:05, 37.45it/s]"
     ]
    },
    {
     "name": "stdout",
     "output_type": "stream",
     "text": [
      "vachet 1791105\n",
      "vacsava 1791105\n",
      "vacxin 1791105\n"
     ]
    },
    {
     "name": "stderr",
     "output_type": "stream",
     "text": [
      " 88%|████████▊ | 1462/1668 [00:31<00:04, 47.52it/s]"
     ]
    },
    {
     "name": "stdout",
     "output_type": "stream",
     "text": [
      "khu vc 1791105\n",
      "vedo 1791105\n",
      "vernandosure 1791105\n"
     ]
    },
    {
     "name": "stderr",
     "output_type": "stream",
     "text": [
      " 89%|████████▉ | 1485/1668 [00:31<00:02, 63.18it/s]"
     ]
    },
    {
     "name": "stdout",
     "output_type": "stream",
     "text": [
      "vfac 1791105\n",
      "vietgap 1791105\n",
      "vietsense 1791105\n",
      "vietstock 1791105\n",
      "viettinbank 1791105\n",
      "viii 1791105\n"
     ]
    },
    {
     "name": "stderr",
     "output_type": "stream",
     "text": [
      " 89%|████████▉ | 1492/1668 [00:32<00:03, 45.89it/s]"
     ]
    },
    {
     "name": "stdout",
     "output_type": "stream",
     "text": [
      "villam 1791105\n",
      "vinacapital 1791105\n",
      "vinalines 1791105\n"
     ]
    },
    {
     "name": "stderr",
     "output_type": "stream",
     "text": [
      " 90%|█████████ | 1506/1668 [00:32<00:03, 42.93it/s]"
     ]
    },
    {
     "name": "stdout",
     "output_type": "stream",
     "text": [
      "vinasin 1791105\n",
      "vinhomes 1791105\n",
      "vinicunca peru 1791105\n"
     ]
    },
    {
     "name": "stderr",
     "output_type": "stream",
     "text": [
      " 91%|█████████ | 1512/1668 [00:32<00:03, 42.33it/s]"
     ]
    },
    {
     "name": "stdout",
     "output_type": "stream",
     "text": [
      "vinicunca 1791105\n",
      "vinuni 1791105\n",
      "virut 1791105\n"
     ]
    },
    {
     "name": "stderr",
     "output_type": "stream",
     "text": [
      " 92%|█████████▏| 1529/1668 [00:33<00:02, 51.60it/s]"
     ]
    },
    {
     "name": "stdout",
     "output_type": "stream",
     "text": [
      "dịch vitmin 1791105\n",
      "viêt 1791105\n",
      "vlogs 1791105\n"
     ]
    },
    {
     "name": "stderr",
     "output_type": "stream",
     "text": [
      " 92%|█████████▏| 1538/1668 [00:33<00:02, 54.29it/s]"
     ]
    },
    {
     "name": "stdout",
     "output_type": "stream",
     "text": [
      "vnagf 1791105\n",
      "vnisa 1791105\n",
      "voso 1791105\n"
     ]
    },
    {
     "name": "stderr",
     "output_type": "stream",
     "text": [
      " 93%|█████████▎| 1558/1668 [00:33<00:01, 76.04it/s]"
     ]
    },
    {
     "name": "stdout",
     "output_type": "stream",
     "text": [
      "vàotrong 1791105\n",
      "vônfram 1791105\n",
      "văcxin 1791105\n",
      "vđv 1791105\n",
      "vầ 1791105\n",
      "vắcxin 1791105\n"
     ]
    },
    {
     "name": "stderr",
     "output_type": "stream",
     "text": [
      " 94%|█████████▍| 1566/1668 [00:33<00:02, 40.94it/s]"
     ]
    },
    {
     "name": "stdout",
     "output_type": "stream",
     "text": [
      "vềtrinh 1791105\n",
      "vềtung 1791105\n",
      "vớinguyên 1791105\n"
     ]
    },
    {
     "name": "stderr",
     "output_type": "stream",
     "text": [
      " 94%|█████████▍| 1572/1668 [00:34<00:02, 40.97it/s]"
     ]
    },
    {
     "name": "stdout",
     "output_type": "stream",
     "text": [
      "vựcc 1791105\n",
      "whatcha 1791105\n",
      "winterfell 1791105\n"
     ]
    },
    {
     "name": "stderr",
     "output_type": "stream",
     "text": [
      " 95%|█████████▌| 1589/1668 [00:34<00:01, 44.69it/s]"
     ]
    },
    {
     "name": "stdout",
     "output_type": "stream",
     "text": [
      "wsneri 1791105\n",
      "xiii 1791105\n",
      "xilanh 1791105\n"
     ]
    },
    {
     "name": "stderr",
     "output_type": "stream",
     "text": [
      " 96%|█████████▌| 1603/1668 [00:34<00:01, 56.89it/s]"
     ]
    },
    {
     "name": "stdout",
     "output_type": "stream",
     "text": [
      "xácđể 1791105\n",
      "xăngtimét 1791105\n",
      "xếut 1791105\n"
     ]
    },
    {
     "name": "stderr",
     "output_type": "stream",
     "text": [
      " 97%|█████████▋| 1610/1668 [00:34<00:01, 54.53it/s]"
     ]
    },
    {
     "name": "stdout",
     "output_type": "stream",
     "text": [
      "ycj 1791105\n",
      "youtobe 1791105\n",
      "yururimai 1791105\n"
     ]
    },
    {
     "name": "stderr",
     "output_type": "stream",
     "text": [
      " 98%|█████████▊| 1630/1668 [00:35<00:00, 57.49it/s]"
     ]
    },
    {
     "name": "stdout",
     "output_type": "stream",
     "text": [
      "yuy 1791105\n",
      "zhifei 1791105\n",
      "zmapp 1791105\n"
     ]
    },
    {
     "name": "stderr",
     "output_type": "stream",
     "text": [
      " 98%|█████████▊| 1637/1668 [00:35<00:00, 55.01it/s]"
     ]
    },
    {
     "name": "stdout",
     "output_type": "stream",
     "text": [
      "zte 1791105\n",
      "zwift 1791105\n",
      "ânh 1791105\n",
      "ôk 1791105\n",
      "ôliu 1791105\n",
      "ôtô 1791105\n"
     ]
    },
    {
     "name": "stderr",
     "output_type": "stream",
     "text": [
      " 99%|█████████▊| 1643/1668 [00:35<00:00, 35.74it/s]"
     ]
    },
    {
     "name": "stdout",
     "output_type": "stream",
     "text": [
      "ăngghen 1791105\n",
      "ăngten 1791105\n",
      "đangcách 1791105\n"
     ]
    },
    {
     "name": "stderr",
     "output_type": "stream",
     "text": [
      " 99%|█████████▉| 1648/1668 [00:35<00:00, 32.18it/s]"
     ]
    },
    {
     "name": "stdout",
     "output_type": "stream",
     "text": [
      "đc 1791105\n",
      "điẹn 1791105\n",
      "đnag 1791105\n"
     ]
    },
    {
     "name": "stderr",
     "output_type": "stream",
     "text": [
      " 99%|█████████▉| 1652/1668 [00:36<00:00, 28.35it/s]"
     ]
    },
    {
     "name": "stdout",
     "output_type": "stream",
     "text": [
      "đoánn 1791105\n",
      "đt việt nam 1791105\n",
      "số đt 1791105\n"
     ]
    },
    {
     "name": "stderr",
     "output_type": "stream",
     "text": [
      " 99%|█████████▉| 1656/1668 [00:36<00:00, 25.34it/s]"
     ]
    },
    {
     "name": "stdout",
     "output_type": "stream",
     "text": [
      "đôgn 1791105\n",
      "đôla 1791105\n",
      "đăt 1791105\n"
     ]
    },
    {
     "name": "stderr",
     "output_type": "stream",
     "text": [
      " 99%|█████████▉| 1659/1668 [00:36<00:00, 22.13it/s]"
     ]
    },
    {
     "name": "stdout",
     "output_type": "stream",
     "text": [
      "đđến 1791105\n",
      "đĩđể 1791105\n",
      "đơnchắc 1791105\n"
     ]
    },
    {
     "name": "stderr",
     "output_type": "stream",
     "text": [
      "100%|█████████▉| 1665/1668 [00:36<00:00, 20.16it/s]"
     ]
    },
    {
     "name": "stdout",
     "output_type": "stream",
     "text": [
      "đưacon 1791105\n",
      "đươc 1791105\n",
      "đưọc 1791105\n"
     ]
    },
    {
     "name": "stderr",
     "output_type": "stream",
     "text": [
      "100%|██████████| 1668/1668 [00:37<00:00, 45.08it/s]"
     ]
    },
    {
     "name": "stdout",
     "output_type": "stream",
     "text": [
      "đẹpmỗi 1791105\n",
      "ảrập 1791105\n",
      "ấylắc 1791105\n"
     ]
    },
    {
     "name": "stderr",
     "output_type": "stream",
     "text": [
      "\n"
     ]
    }
   ],
   "source": [
    "# there are 3 cases:\n",
    "# 1. value is 'true' --> we don't need to do anything\n",
    "# 2. value is 'false' --> we need to remove all the rows in dataframe that text contain the key\n",
    "# 3. value is a string --> we need to replace all the text in dataframe that contain the key by the value\n",
    "from tqdm import tqdm\n",
    "for wrong, correct in tqdm(error_correct_dict.items()):\n",
    "    if correct == \"false\":\n",
    "        df_train_copy = df_train_copy.filter(~pl.col(\"text\").str.contains(rf'\\b{wrong}\\b'))\n",
    "        print(wrong, len(df_train_copy))\n",
    "\n",
    "wrong_files = []\n",
    "for wrong, correct in tqdm(error_correct_dict.items()):\n",
    "    if correct in [\"true\", \"false\"]:\n",
    "        continue\n",
    "    \n",
    "    wrong_files.extend(df_train_copy.filter(df_train_copy[\"text\"].str.contains(rf'\\b{wrong}\\b'))[\"file\"].to_list())\n",
    "    df_train_copy = df_train_copy.with_columns(df_train_copy[\"text\"].replace(rf'\\b{wrong}\\b', correct))\n",
    "    print(wrong, len(df_train_copy))\n"
   ]
  },
  {
   "cell_type": "code",
   "execution_count": 96,
   "metadata": {},
   "outputs": [
    {
     "data": {
      "text/plain": [
       "7758"
      ]
     },
     "execution_count": 96,
     "metadata": {},
     "output_type": "execute_result"
    }
   ],
   "source": [
    "len(set(wrong_files))"
   ]
  },
  {
   "cell_type": "code",
   "execution_count": 97,
   "metadata": {},
   "outputs": [
    {
     "data": {
      "text/plain": [
       "17588"
      ]
     },
     "execution_count": 97,
     "metadata": {},
     "output_type": "execute_result"
    }
   ],
   "source": [
    "7758 + 9280 + 550"
   ]
  },
  {
   "cell_type": "code",
   "execution_count": 81,
   "metadata": {},
   "outputs": [
    {
     "data": {
      "text/html": [
       "<div><style>\n",
       ".dataframe > thead > tr,\n",
       ".dataframe > tbody > tr {\n",
       "  text-align: right;\n",
       "  white-space: pre-wrap;\n",
       "}\n",
       "</style>\n",
       "<small>shape: (1_804_372, 3)</small><table border=\"1\" class=\"dataframe\"><thead><tr><th>file</th><th>text</th><th>duration</th></tr><tr><td>str</td><td>str</td><td>f64</td></tr></thead><tbody><tr><td>&quot;/home/ntdong/D…</td><td>&quot;nhưng đã không…</td><td>4.2873125</td></tr><tr><td>&quot;/home/ntdong/D…</td><td>&quot;anh sẽ giữ dùm…</td><td>1.8</td></tr><tr><td>&quot;/home/ntdong/D…</td><td>&quot;hai ca sĩ việt…</td><td>6.1300625</td></tr><tr><td>&quot;/home/ntdong/D…</td><td>&quot;hiện tình trạn…</td><td>3.34</td></tr><tr><td>&quot;/home/ntdong/D…</td><td>&quot;bà cấn thị thê…</td><td>10.83</td></tr><tr><td>&hellip;</td><td>&hellip;</td><td>&hellip;</td></tr><tr><td>&quot;/home/ntdong/D…</td><td>&quot;cậu ơi tắt máy…</td><td>2.28</td></tr><tr><td>&quot;/home/ntdong/D…</td><td>&quot;kiểm tra cho t…</td><td>2.2</td></tr><tr><td>&quot;/home/ntdong/D…</td><td>&quot;em ơi đóng giú…</td><td>3.51</td></tr><tr><td>&quot;/home/ntdong/D…</td><td>&quot;mở cho anh cái…</td><td>2.85</td></tr><tr><td>&quot;/home/ntdong/D…</td><td>&quot;mình tỉnh ngủ …</td><td>5.13</td></tr></tbody></table></div>"
      ],
      "text/plain": [
       "shape: (1_804_372, 3)\n",
       "┌───────────────────────────────────┬───────────────────────────────────┬───────────┐\n",
       "│ file                              ┆ text                              ┆ duration  │\n",
       "│ ---                               ┆ ---                               ┆ ---       │\n",
       "│ str                               ┆ str                               ┆ f64       │\n",
       "╞═══════════════════════════════════╪═══════════════════════════════════╪═══════════╡\n",
       "│ /home/ntdong/Data/STT_dataset/7.… ┆ nhưng đã không còn nhiều những c… ┆ 4.2873125 │\n",
       "│ /home/ntdong/Data/STT_dataset/1.… ┆ anh sẽ giữ dùm tôi chứ            ┆ 1.8       │\n",
       "│ /home/ntdong/Data/STT_dataset/2.… ┆ hai ca sĩ việt hàn bắt tay chúc … ┆ 6.1300625 │\n",
       "│ /home/ntdong/Data/STT_dataset/7.… ┆ hiện tình trạng giao thông tại v… ┆ 3.34      │\n",
       "│ /home/ntdong/Data/STT_dataset/7.… ┆ bà cấn thị thêu năm mươi tư tuổi… ┆ 10.83     │\n",
       "│ …                                 ┆ …                                 ┆ …         │\n",
       "│ /home/ntdong/Data/STT_dataset/du… ┆ cậu ơi tắt máy mát xa đi hộ mình… ┆ 2.28      │\n",
       "│ /home/ntdong/Data/STT_dataset/du… ┆ kiểm tra cho tôi cái mành cuốn    ┆ 2.2       │\n",
       "│ /home/ntdong/Data/STT_dataset/du… ┆ em ơi đóng giúp em cái rèm trong… ┆ 3.51      │\n",
       "│ /home/ntdong/Data/STT_dataset/du… ┆ mở cho anh cái loa em ơi          ┆ 2.85      │\n",
       "│ /home/ntdong/Data/STT_dataset/du… ┆ mình tỉnh ngủ rồi không muốn đi … ┆ 5.13      │\n",
       "└───────────────────────────────────┴───────────────────────────────────┴───────────┘"
      ]
     },
     "execution_count": 81,
     "metadata": {},
     "output_type": "execute_result"
    }
   ],
   "source": [
    "df_train"
   ]
  },
  {
   "cell_type": "code",
   "execution_count": 101,
   "metadata": {},
   "outputs": [],
   "source": [
    "df_train_copy.write_csv(\"/home/lmnguyen/Projects/cmc_stt/finetune-fast-conformer/notebooks/resources/results/final_correct_dataset_cmc_filter.csv\")"
   ]
  },
  {
   "cell_type": "code",
   "execution_count": null,
   "metadata": {},
   "outputs": [],
   "source": []
  }
 ],
 "metadata": {
  "kernelspec": {
   "display_name": "stt",
   "language": "python",
   "name": "python3"
  },
  "language_info": {
   "codemirror_mode": {
    "name": "ipython",
    "version": 3
   },
   "file_extension": ".py",
   "mimetype": "text/x-python",
   "name": "python",
   "nbconvert_exporter": "python",
   "pygments_lexer": "ipython3",
   "version": "3.9.18"
  }
 },
 "nbformat": 4,
 "nbformat_minor": 2
}
