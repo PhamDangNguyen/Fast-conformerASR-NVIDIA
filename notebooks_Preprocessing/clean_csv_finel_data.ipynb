{
 "cells": [
  {
   "cell_type": "markdown",
   "metadata": {},
   "source": [
    "# Norm bot ký tự, khoảng trắng, convert low() words"
   ]
  },
  {
   "cell_type": "code",
   "execution_count": 4,
   "metadata": {},
   "outputs": [],
   "source": [
    "import csv\n",
    "import json\n",
    "import pandas as pd\n",
    "import re\n",
    "import os\n",
    "\n",
    "#Tách tên .wav + duration từu .csv gốc tạo thành 1 tuple\n",
    "def extract_file_info(csv_path):\n",
    "    \"\"\"\n",
    "    Input: File .csv có các trường như file,text,duration\n",
    "    Output: List tuple (file_name, duration)\n",
    "    \"\"\"\n",
    "    file_info_list = []\n",
    "    with open(csv_path, newline='', encoding='utf-8') as csvfile:\n",
    "        reader = csv.DictReader(csvfile)\n",
    "        for row in reader:\n",
    "            file_path = row['file']\n",
    "            duration = float(row['duration'])\n",
    "            file_name = file_path.split('/')[-1]\n",
    "            file_info_list.append((file_name, duration))\n",
    "\n",
    "    return file_info_list\n",
    "\n",
    "def get_duration(file_name, file_info_list):\n",
    "    \"\"\"\n",
    "    Trả về duration của file_name từ file_info_list.\n",
    "    \n",
    "    Parameters:\n",
    "    file_name (str): Tên file cần tìm (vd: '542.wav').\n",
    "    file_info_list (list): Danh sách các tuple chứa tên file và duration.\n",
    "    Returns:\n",
    "    float: Thời lượng của file nếu tìm thấy, None nếu không tìm thấy.\n",
    "    \"\"\"\n",
    "    for file, duration in file_info_list:\n",
    "        if file == file_name:\n",
    "            return duration\n",
    "    return None\n",
    "\n",
    "def extract_and_save_csv(input_csv_path, output_csv_path):\n",
    "    \"\"\"\n",
    "    Trích xuất các trường cần thiết từ file CSV ban đầu và lưu vào file CSV mới.\n",
    "\n",
    "    Parameters:\n",
    "    input_csv_path (str): Đường dẫn tới file CSV ban đầu.\n",
    "    output_csv_path (str): Đường dẫn tới file CSV mới sẽ lưu.\n",
    "\n",
    "    Returns:\n",
    "    None\n",
    "    \"\"\"\n",
    "    with open(input_csv_path, newline='', encoding='utf-8') as infile, open(output_csv_path, mode='w', newline='', encoding='utf-8') as outfile:\n",
    "        reader = csv.DictReader(infile)\n",
    "        fieldnames = ['file', 'text', 'duration']\n",
    "        writer = csv.DictWriter(outfile, fieldnames=fieldnames)\n",
    "\n",
    "        writer.writeheader()\n",
    "        for row in reader:\n",
    "            name_wav = f\"replace/{extract_filename(row['file'])}\"\n",
    "            new_row = {\n",
    "                'file': name_wav,\n",
    "                'text': row['text_bartpho'],\n",
    "                'duration': row['duration']\n",
    "            }\n",
    "            writer.writerow(new_row)\n",
    "\n",
    "def remove_punctuation(text):\n",
    "    return re.sub(r'[^\\w\\s]',' ', text)\n",
    "\n",
    "def clean_text(text):\n",
    "    \"\"\" Chuẩn hóa từ bằng cách chuyển về viết thường và xóa bỏ dấu cách (space) dư thừa\n",
    "\n",
    "    Args:\n",
    "        text(str): Câu đầu vào\n",
    "    Returns:\n",
    "        (str): Câu sau khi được chuẩn hóa\n",
    "    \"\"\"\n",
    "    text = text.lower()\n",
    "    text = remove_punctuation(text)\n",
    "    text = ' '.join(text.split())\n",
    "    return text \n",
    "\n",
    "def extract_filename(file_path):\n",
    "    \"\"\"\n",
    "    Input:\n",
    "        /mnt/driver/pdnguyen/studen_annoted/data_telesale_extract_10_dir/extra_0/wavs/1620.wav\n",
    "    Output:\n",
    "        1620.wav\n",
    "    \"\"\"\n",
    "    return os.path.basename(file_path)"
   ]
  },
  {
   "cell_type": "markdown",
   "metadata": {},
   "source": [
    "## Check exist file"
   ]
  },
  {
   "cell_type": "code",
   "execution_count": 4,
   "metadata": {},
   "outputs": [
    {
     "name": "stderr",
     "output_type": "stream",
     "text": [
      "2410111it [00:35, 68362.73it/s] \n"
     ]
    }
   ],
   "source": [
    "import os\n",
    "import csv\n",
    "import tqdm\n",
    "\n",
    "def check_file_existence(csv_file):\n",
    "    with open(csv_file, mode='r', encoding='utf-8') as infile:\n",
    "        reader = csv.DictReader(infile)\n",
    "        \n",
    "        for row in tqdm.tqdm(reader):\n",
    "            file_path = row['file']\n",
    "            if os.path.exists(file_path):\n",
    "                continue\n",
    "            else:\n",
    "                print(f\"File does NOT exist: {file_path}\")\n",
    "\n",
    "# Đường dẫn tới file CSV của bạn\n",
    "csv_file = \"/home/pdnguyen/fast_confomer_finetun/finetune-fast-conformer/notebooks/results_csv/20_aug57_10aug_64_total_origin_data.csv\"\n",
    "check_file_existence(csv_file)"
   ]
  },
  {
   "cell_type": "markdown",
   "metadata": {},
   "source": [
    "## Check colums data type"
   ]
  },
  {
   "cell_type": "code",
   "execution_count": 5,
   "metadata": {},
   "outputs": [],
   "source": [
    "import pandas as pd\n",
    "def check_data_types(csv_file):\n",
    "    # Đọc dữ liệu từ file CSV\n",
    "    df = pd.read_csv(csv_file, dtype=str)  # Đọc toàn bộ dữ liệu dưới dạng chuỗi để xử lý sau\n",
    "\n",
    "    # Kiểm tra từng dòng\n",
    "    for index, row in df.iterrows():\n",
    "        file_value = row['file']\n",
    "        text_value = row['text']\n",
    "        duration_value = row['duration']\n",
    "        \n",
    "        # Kiểm tra kiểu dữ liệu của cột 'file'\n",
    "        if not isinstance(file_value, str):\n",
    "            print(f\"Invalid 'file' at row {index + 1}: {file_value}\")\n",
    "\n",
    "        # Kiểm tra kiểu dữ liệu của cột 'text'\n",
    "        if not isinstance(text_value, str):\n",
    "            print(f\"Invalid 'text' at row {index + 1}: {text_value}\")\n",
    "\n",
    "        # Kiểm tra kiểu dữ liệu của cột 'duration'\n",
    "        try:\n",
    "            # Cố gắng chuyển đổi giá trị thành float\n",
    "            float(duration_value)\n",
    "        except ValueError:\n",
    "            print(f\"Invalid 'duration' at row {index + 1}: {duration_value}\")\n",
    "\n",
    "# Đường dẫn tới file CSV\n",
    "check_time = \"/home/pdnguyen/fast_confomer_finetun/finetune-fast-conformer/notebooks/results_csv/20_aug57_10aug_64_total_origin_data.csv\"\n",
    "check_data_types(check_time)"
   ]
  },
  {
   "cell_type": "markdown",
   "metadata": {},
   "source": [
    "## Creat new CSV norm text"
   ]
  },
  {
   "cell_type": "code",
   "execution_count": 5,
   "metadata": {},
   "outputs": [
    {
     "name": "stderr",
     "output_type": "stream",
     "text": [
      "2414921it [00:14, 164123.64it/s]\n"
     ]
    }
   ],
   "source": [
    "import csv\n",
    "from tqdm import tqdm\n",
    "def filter_and_clean_csv(input_file, output_file):\n",
    "    with open(input_file, mode='r', encoding='utf-8') as infile, open(output_file, mode='w', newline='', encoding='utf-8') as outfile:\n",
    "        reader = csv.DictReader(infile)\n",
    "        fieldnames = ['file', 'text', 'duration']\n",
    "        writer = csv.DictWriter(outfile, fieldnames=fieldnames)\n",
    "        # Ghi dòng tiêu đề vào file đầu ra\n",
    "        writer.writeheader()\n",
    "        for row in tqdm(reader):\n",
    "            # Lấy các giá trị cần thiết và làm sạch cột 'text_bartpho'\n",
    "            file_value = row['file']\n",
    "            text_value = clean_text(row['text'])\n",
    "            if text_value == None or text_value == '' or text_value == 'none':\n",
    "                continue\n",
    "            duration_value = row['duration']\n",
    "            # Ghi vào file CSV mới\n",
    "            writer.writerow({'file': file_value, 'text': text_value, 'duration': duration_value})\n",
    "input_CSV = \"/home/pdnguyen/fast_confomer_finetun/finetune-fast-conformer/notebooks/results_csv/train_v2.csv\"\n",
    "output_CSV = '/home/pdnguyen/fast_confomer_finetun/finetune-fast-conformer/notebooks/results_csv/train_v2_v2.csv'\n",
    "filter_and_clean_csv(input_CSV, output_CSV)"
   ]
  }
 ],
 "metadata": {
  "kernelspec": {
   "display_name": "fast_cfm",
   "language": "python",
   "name": "python3"
  },
  "language_info": {
   "codemirror_mode": {
    "name": "ipython",
    "version": 3
   },
   "file_extension": ".py",
   "mimetype": "text/x-python",
   "name": "python",
   "nbconvert_exporter": "python",
   "pygments_lexer": "ipython3",
   "version": "3.10.14"
  }
 },
 "nbformat": 4,
 "nbformat_minor": 2
}
