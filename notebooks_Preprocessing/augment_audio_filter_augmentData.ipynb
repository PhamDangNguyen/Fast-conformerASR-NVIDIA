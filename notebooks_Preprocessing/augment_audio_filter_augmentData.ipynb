{
 "cells": [
  {
   "cell_type": "code",
   "execution_count": 1,
   "metadata": {},
   "outputs": [
    {
     "ename": "LibsndfileError",
     "evalue": "Error opening '/home/pdnguyen/fast_confomer_finetun/finetune-fast-conformer/notebooks/audio_demo.wav': System error.",
     "output_type": "error",
     "traceback": [
      "\u001b[0;31m---------------------------------------------------------------------------\u001b[0m",
      "\u001b[0;31mLibsndfileError\u001b[0m                           Traceback (most recent call last)",
      "Cell \u001b[0;32mIn[1], line 81\u001b[0m\n\u001b[1;32m     78\u001b[0m     \u001b[38;5;66;03m# Save the processed audio\u001b[39;00m\n\u001b[1;32m     79\u001b[0m     sf\u001b[38;5;241m.\u001b[39mwrite(path_save_audio, audio_data, \u001b[38;5;241m16000\u001b[39m)\n\u001b[0;32m---> 81\u001b[0m \u001b[43maugment_audio\u001b[49m\u001b[43m(\u001b[49m\u001b[38;5;124;43m\"\u001b[39;49m\u001b[38;5;124;43m/home/pdnguyen/fast_confomer_finetun/finetune-fast-conformer/notebooks/audio_demo.wav\u001b[39;49m\u001b[38;5;124;43m\"\u001b[39;49m\u001b[43m,\u001b[49m\u001b[38;5;124;43m\"\u001b[39;49m\u001b[38;5;124;43m/home/pdnguyen/fast_confomer_finetun/finetune-fast-conformer/notebooks/audio_demo_real_1.wav\u001b[39;49m\u001b[38;5;124;43m\"\u001b[39;49m\u001b[43m)\u001b[49m\n",
      "Cell \u001b[0;32mIn[1], line 58\u001b[0m, in \u001b[0;36maugment_audio\u001b[0;34m(path_input_audio, path_save_audio)\u001b[0m\n\u001b[1;32m     56\u001b[0m \u001b[38;5;28;01mdef\u001b[39;00m \u001b[38;5;21maugment_audio\u001b[39m(path_input_audio,path_save_audio):\n\u001b[1;32m     57\u001b[0m     \u001b[38;5;66;03m# Load the audio file\u001b[39;00m\n\u001b[0;32m---> 58\u001b[0m     audio_data, sample_rate \u001b[38;5;241m=\u001b[39m \u001b[43msf\u001b[49m\u001b[38;5;241;43m.\u001b[39;49m\u001b[43mread\u001b[49m\u001b[43m(\u001b[49m\u001b[43mpath_input_audio\u001b[49m\u001b[43m)\u001b[49m\n\u001b[1;32m     59\u001b[0m     \u001b[38;5;66;03m# Assuming the audio is mono for simplicity\u001b[39;00m\n\u001b[1;32m     60\u001b[0m     \u001b[38;5;28;01mif\u001b[39;00m \u001b[38;5;28mlen\u001b[39m(audio_data\u001b[38;5;241m.\u001b[39mshape) \u001b[38;5;241m==\u001b[39m \u001b[38;5;241m2\u001b[39m:\n",
      "File \u001b[0;32m~/miniconda3/envs/fast_cfm/lib/python3.10/site-packages/soundfile.py:285\u001b[0m, in \u001b[0;36mread\u001b[0;34m(file, frames, start, stop, dtype, always_2d, fill_value, out, samplerate, channels, format, subtype, endian, closefd)\u001b[0m\n\u001b[1;32m    199\u001b[0m \u001b[38;5;28;01mdef\u001b[39;00m \u001b[38;5;21mread\u001b[39m(file, frames\u001b[38;5;241m=\u001b[39m\u001b[38;5;241m-\u001b[39m\u001b[38;5;241m1\u001b[39m, start\u001b[38;5;241m=\u001b[39m\u001b[38;5;241m0\u001b[39m, stop\u001b[38;5;241m=\u001b[39m\u001b[38;5;28;01mNone\u001b[39;00m, dtype\u001b[38;5;241m=\u001b[39m\u001b[38;5;124m'\u001b[39m\u001b[38;5;124mfloat64\u001b[39m\u001b[38;5;124m'\u001b[39m, always_2d\u001b[38;5;241m=\u001b[39m\u001b[38;5;28;01mFalse\u001b[39;00m,\n\u001b[1;32m    200\u001b[0m          fill_value\u001b[38;5;241m=\u001b[39m\u001b[38;5;28;01mNone\u001b[39;00m, out\u001b[38;5;241m=\u001b[39m\u001b[38;5;28;01mNone\u001b[39;00m, samplerate\u001b[38;5;241m=\u001b[39m\u001b[38;5;28;01mNone\u001b[39;00m, channels\u001b[38;5;241m=\u001b[39m\u001b[38;5;28;01mNone\u001b[39;00m,\n\u001b[1;32m    201\u001b[0m          \u001b[38;5;28mformat\u001b[39m\u001b[38;5;241m=\u001b[39m\u001b[38;5;28;01mNone\u001b[39;00m, subtype\u001b[38;5;241m=\u001b[39m\u001b[38;5;28;01mNone\u001b[39;00m, endian\u001b[38;5;241m=\u001b[39m\u001b[38;5;28;01mNone\u001b[39;00m, closefd\u001b[38;5;241m=\u001b[39m\u001b[38;5;28;01mTrue\u001b[39;00m):\n\u001b[1;32m    202\u001b[0m \u001b[38;5;250m    \u001b[39m\u001b[38;5;124;03m\"\"\"Provide audio data from a sound file as NumPy array.\u001b[39;00m\n\u001b[1;32m    203\u001b[0m \n\u001b[1;32m    204\u001b[0m \u001b[38;5;124;03m    By default, the whole file is read from the beginning, but the\u001b[39;00m\n\u001b[0;32m   (...)\u001b[0m\n\u001b[1;32m    283\u001b[0m \n\u001b[1;32m    284\u001b[0m \u001b[38;5;124;03m    \"\"\"\u001b[39;00m\n\u001b[0;32m--> 285\u001b[0m     \u001b[38;5;28;01mwith\u001b[39;00m \u001b[43mSoundFile\u001b[49m\u001b[43m(\u001b[49m\u001b[43mfile\u001b[49m\u001b[43m,\u001b[49m\u001b[43m \u001b[49m\u001b[38;5;124;43m'\u001b[39;49m\u001b[38;5;124;43mr\u001b[39;49m\u001b[38;5;124;43m'\u001b[39;49m\u001b[43m,\u001b[49m\u001b[43m \u001b[49m\u001b[43msamplerate\u001b[49m\u001b[43m,\u001b[49m\u001b[43m \u001b[49m\u001b[43mchannels\u001b[49m\u001b[43m,\u001b[49m\n\u001b[1;32m    286\u001b[0m \u001b[43m                   \u001b[49m\u001b[43msubtype\u001b[49m\u001b[43m,\u001b[49m\u001b[43m \u001b[49m\u001b[43mendian\u001b[49m\u001b[43m,\u001b[49m\u001b[43m \u001b[49m\u001b[38;5;28;43mformat\u001b[39;49m\u001b[43m,\u001b[49m\u001b[43m \u001b[49m\u001b[43mclosefd\u001b[49m\u001b[43m)\u001b[49m \u001b[38;5;28;01mas\u001b[39;00m f:\n\u001b[1;32m    287\u001b[0m         frames \u001b[38;5;241m=\u001b[39m f\u001b[38;5;241m.\u001b[39m_prepare_read(start, stop, frames)\n\u001b[1;32m    288\u001b[0m         data \u001b[38;5;241m=\u001b[39m f\u001b[38;5;241m.\u001b[39mread(frames, dtype, always_2d, fill_value, out)\n",
      "File \u001b[0;32m~/miniconda3/envs/fast_cfm/lib/python3.10/site-packages/soundfile.py:658\u001b[0m, in \u001b[0;36mSoundFile.__init__\u001b[0;34m(self, file, mode, samplerate, channels, subtype, endian, format, closefd)\u001b[0m\n\u001b[1;32m    655\u001b[0m \u001b[38;5;28mself\u001b[39m\u001b[38;5;241m.\u001b[39m_mode \u001b[38;5;241m=\u001b[39m mode\n\u001b[1;32m    656\u001b[0m \u001b[38;5;28mself\u001b[39m\u001b[38;5;241m.\u001b[39m_info \u001b[38;5;241m=\u001b[39m _create_info_struct(file, mode, samplerate, channels,\n\u001b[1;32m    657\u001b[0m                                  \u001b[38;5;28mformat\u001b[39m, subtype, endian)\n\u001b[0;32m--> 658\u001b[0m \u001b[38;5;28mself\u001b[39m\u001b[38;5;241m.\u001b[39m_file \u001b[38;5;241m=\u001b[39m \u001b[38;5;28;43mself\u001b[39;49m\u001b[38;5;241;43m.\u001b[39;49m\u001b[43m_open\u001b[49m\u001b[43m(\u001b[49m\u001b[43mfile\u001b[49m\u001b[43m,\u001b[49m\u001b[43m \u001b[49m\u001b[43mmode_int\u001b[49m\u001b[43m,\u001b[49m\u001b[43m \u001b[49m\u001b[43mclosefd\u001b[49m\u001b[43m)\u001b[49m\n\u001b[1;32m    659\u001b[0m \u001b[38;5;28;01mif\u001b[39;00m \u001b[38;5;28mset\u001b[39m(mode)\u001b[38;5;241m.\u001b[39missuperset(\u001b[38;5;124m'\u001b[39m\u001b[38;5;124mr+\u001b[39m\u001b[38;5;124m'\u001b[39m) \u001b[38;5;129;01mand\u001b[39;00m \u001b[38;5;28mself\u001b[39m\u001b[38;5;241m.\u001b[39mseekable():\n\u001b[1;32m    660\u001b[0m     \u001b[38;5;66;03m# Move write position to 0 (like in Python file objects)\u001b[39;00m\n\u001b[1;32m    661\u001b[0m     \u001b[38;5;28mself\u001b[39m\u001b[38;5;241m.\u001b[39mseek(\u001b[38;5;241m0\u001b[39m)\n",
      "File \u001b[0;32m~/miniconda3/envs/fast_cfm/lib/python3.10/site-packages/soundfile.py:1216\u001b[0m, in \u001b[0;36mSoundFile._open\u001b[0;34m(self, file, mode_int, closefd)\u001b[0m\n\u001b[1;32m   1213\u001b[0m \u001b[38;5;28;01mif\u001b[39;00m file_ptr \u001b[38;5;241m==\u001b[39m _ffi\u001b[38;5;241m.\u001b[39mNULL:\n\u001b[1;32m   1214\u001b[0m     \u001b[38;5;66;03m# get the actual error code\u001b[39;00m\n\u001b[1;32m   1215\u001b[0m     err \u001b[38;5;241m=\u001b[39m _snd\u001b[38;5;241m.\u001b[39msf_error(file_ptr)\n\u001b[0;32m-> 1216\u001b[0m     \u001b[38;5;28;01mraise\u001b[39;00m LibsndfileError(err, prefix\u001b[38;5;241m=\u001b[39m\u001b[38;5;124m\"\u001b[39m\u001b[38;5;124mError opening \u001b[39m\u001b[38;5;132;01m{0!r}\u001b[39;00m\u001b[38;5;124m: \u001b[39m\u001b[38;5;124m\"\u001b[39m\u001b[38;5;241m.\u001b[39mformat(\u001b[38;5;28mself\u001b[39m\u001b[38;5;241m.\u001b[39mname))\n\u001b[1;32m   1217\u001b[0m \u001b[38;5;28;01mif\u001b[39;00m mode_int \u001b[38;5;241m==\u001b[39m _snd\u001b[38;5;241m.\u001b[39mSFM_WRITE:\n\u001b[1;32m   1218\u001b[0m     \u001b[38;5;66;03m# Due to a bug in libsndfile version <= 1.0.25, frames != 0\u001b[39;00m\n\u001b[1;32m   1219\u001b[0m     \u001b[38;5;66;03m# when opening a named pipe in SFM_WRITE mode.\u001b[39;00m\n\u001b[1;32m   1220\u001b[0m     \u001b[38;5;66;03m# See http://github.com/erikd/libsndfile/issues/77.\u001b[39;00m\n\u001b[1;32m   1221\u001b[0m     \u001b[38;5;28mself\u001b[39m\u001b[38;5;241m.\u001b[39m_info\u001b[38;5;241m.\u001b[39mframes \u001b[38;5;241m=\u001b[39m \u001b[38;5;241m0\u001b[39m\n",
      "\u001b[0;31mLibsndfileError\u001b[0m: Error opening '/home/pdnguyen/fast_confomer_finetun/finetune-fast-conformer/notebooks/audio_demo.wav': System error."
     ]
    }
   ],
   "source": [
    "import numpy as np\n",
    "import scipy.signal as signal\n",
    "import soundfile as sf\n",
    "import librosa\n",
    "import random\n",
    "from scipy.signal import butter, lfilter\n",
    "from audiomentations import BandPassFilter\n",
    "\n",
    "\n",
    "def downsample_and_normalize(audio, target_rate, original_rate):\n",
    "    # Downsample audio to target_rate and normalize\n",
    "    number_of_samples = round(len(audio) * float(target_rate) / original_rate)\n",
    "    downsampled_audio = librosa.resample(audio, orig_sr=original_rate, target_sr=target_rate)\n",
    "    normalized_signal = downsampled_audio / np.max(np.abs(downsampled_audio))\n",
    "    return normalized_signal\n",
    "\n",
    "def irs_filter(audio):\n",
    "    # Apply a simple filter to simulate IRS filtering\n",
    "    b, a = signal.butter(4, 0.2)\n",
    "    return signal.lfilter(b, a, audio)\n",
    "\n",
    "def line_filter(audio):\n",
    "    # Simulate line filter effect\n",
    "    b, a = signal.butter(4, 0.3, 'high')\n",
    "    return signal.lfilter(b, a, audio)\n",
    "\n",
    "def pcm_encode_decode(audio):\n",
    "    # Simple PCM encode-decode process\n",
    "    quantized = np.round(audio * 255).astype(int)  # 8-bit quantization\n",
    "    decoded = quantized.astype(float) / 255\n",
    "    return decoded\n",
    "\n",
    "def add_echo(audio, delay_samples, attenuation):\n",
    "    # Basic echo effect simulation\n",
    "    echo = np.zeros_like(audio)\n",
    "    echo[delay_samples:] = audio[:-delay_samples] * attenuation\n",
    "    return audio + echo\n",
    "\n",
    "def add_noise(audio, noise_type='white'):\n",
    "    # Add simulated noise to the signal\n",
    "    if noise_type == 'white':\n",
    "        noise = np.random.normal(0, 0.1, len(audio))\n",
    "        return audio + noise\n",
    "    return audio\n",
    "\n",
    "def add_white_noise(audio, noise_level=0.001):\n",
    "    return audio + noise_level * np.random.randn(len(audio))\n",
    "\n",
    "def add_impulse_noise(audio, probability=0.001, intensity=0.5):\n",
    "    # Add impulse noise by setting a random set of samples to max amplitude\n",
    "    impulse_indices = np.random.uniform(size=len(audio)) < probability\n",
    "    audio[impulse_indices] = intensity * np.sign(audio[impulse_indices])\n",
    "    return audio\n",
    "\n",
    "\n",
    "def augment_audio(path_input_audio,path_save_audio):\n",
    "    # Load the audio file\n",
    "    audio_data, sample_rate = sf.read(path_input_audio)\n",
    "    # Assuming the audio is mono for simplicity\n",
    "    if len(audio_data.shape) == 2:\n",
    "        audio_data = audio_data[:,0]\n",
    "\n",
    "    # transform = BandPassFilter(min_center_freq=100.0, max_center_freq=6000, p=1.0)\n",
    "    transform = BandPassFilter(min_center_freq=1000, max_center_freq=6000, p=1.0)\n",
    "    audio_data = transform(audio_data, sample_rate=16000)\n",
    "\n",
    "    delay_seconds = random.choice([0.03,0.04,0.05])  # Thời gian trễ của echo tính bằng giây\n",
    "    attenuation = 0.6\n",
    "    delay_samples = int(delay_seconds * sample_rate)\n",
    "    audio_data = add_echo(audio_data, delay_samples, attenuation)\n",
    "    # Apply the simulation methods\n",
    "    audio_data = downsample_and_normalize(audio_data, 16000, sample_rate)\n",
    "    # audio_data = add_white_noise(audio_data)\n",
    "    # audio_data = add_impulse_noise(audio_data, probability=0.001, intensity=random.choice([0.1,0.2,0.3]))\n",
    "\n",
    "    noise_amp = 0.005*np.random.uniform()*np.amax(audio_data)\n",
    "    audio_data = audio_data + noise_amp * np.random.normal(size=audio_data.shape[0])\n",
    "    # Save the processed audio\n",
    "    sf.write(path_save_audio, audio_data, 16000)\n",
    "\n",
    "augment_audio(\"/home/pdnguyen/fast_confomer_finetun/finetune-fast-conformer/notebooks/audio_demo.wav\",\"/home/pdnguyen/fast_confomer_finetun/finetune-fast-conformer/notebooks/audio_demo_real_1.wav\")"
   ]
  },
  {
   "cell_type": "markdown",
   "metadata": {},
   "source": [
    "# Purpose method Augment  "
   ]
  },
  {
   "cell_type": "code",
   "execution_count": 2,
   "metadata": {},
   "outputs": [
    {
     "ename": "LibsndfileError",
     "evalue": "Error opening '/home/pdnguyen/fast_confomer_finetun/finetune-fast-conformer/notebooks/audio_demo_real_1.wav': System error.",
     "output_type": "error",
     "traceback": [
      "\u001b[0;31m---------------------------------------------------------------------------\u001b[0m",
      "\u001b[0;31mLibsndfileError\u001b[0m                           Traceback (most recent call last)",
      "Cell \u001b[0;32mIn[2], line 19\u001b[0m\n\u001b[1;32m      8\u001b[0m transform \u001b[38;5;241m=\u001b[39m AddShortNoises(\n\u001b[1;32m      9\u001b[0m     sounds_path\u001b[38;5;241m=\u001b[39m\u001b[38;5;124m\"\u001b[39m\u001b[38;5;124m/home/pdnguyen/fast_confomer_finetun/finetune-fast-conformer/notebooks/03_tieng-on_noise_16k-2.wav\u001b[39m\u001b[38;5;124m\"\u001b[39m,\n\u001b[1;32m     10\u001b[0m     min_snr_in_db\u001b[38;5;241m=\u001b[39m\u001b[38;5;241m50.0\u001b[39m,\n\u001b[0;32m   (...)\u001b[0m\n\u001b[1;32m     16\u001b[0m     p\u001b[38;5;241m=\u001b[39m\u001b[38;5;241m1.0\u001b[39m\n\u001b[1;32m     17\u001b[0m )\n\u001b[1;32m     18\u001b[0m path_input_audio \u001b[38;5;241m=\u001b[39m \u001b[38;5;124m\"\u001b[39m\u001b[38;5;124m/home/pdnguyen/fast_confomer_finetun/finetune-fast-conformer/notebooks/audio_demo_real_1.wav\u001b[39m\u001b[38;5;124m\"\u001b[39m\n\u001b[0;32m---> 19\u001b[0m my_waveform_ndarray, sample_rate \u001b[38;5;241m=\u001b[39m \u001b[43msf\u001b[49m\u001b[38;5;241;43m.\u001b[39;49m\u001b[43mread\u001b[49m\u001b[43m(\u001b[49m\u001b[43mpath_input_audio\u001b[49m\u001b[43m)\u001b[49m\n\u001b[1;32m     20\u001b[0m augmented_sound \u001b[38;5;241m=\u001b[39m transform(my_waveform_ndarray, sample_rate\u001b[38;5;241m=\u001b[39m\u001b[38;5;241m16000\u001b[39m) \n\u001b[1;32m     21\u001b[0m output_path \u001b[38;5;241m=\u001b[39m \u001b[38;5;124m\"\u001b[39m\u001b[38;5;124m/home/pdnguyen/fast_confomer_finetun/finetune-fast-conformer/notebooks/augment_2.wav\u001b[39m\u001b[38;5;124m\"\u001b[39m\n",
      "File \u001b[0;32m~/miniconda3/envs/fast_cfm/lib/python3.10/site-packages/soundfile.py:285\u001b[0m, in \u001b[0;36mread\u001b[0;34m(file, frames, start, stop, dtype, always_2d, fill_value, out, samplerate, channels, format, subtype, endian, closefd)\u001b[0m\n\u001b[1;32m    199\u001b[0m \u001b[38;5;28;01mdef\u001b[39;00m \u001b[38;5;21mread\u001b[39m(file, frames\u001b[38;5;241m=\u001b[39m\u001b[38;5;241m-\u001b[39m\u001b[38;5;241m1\u001b[39m, start\u001b[38;5;241m=\u001b[39m\u001b[38;5;241m0\u001b[39m, stop\u001b[38;5;241m=\u001b[39m\u001b[38;5;28;01mNone\u001b[39;00m, dtype\u001b[38;5;241m=\u001b[39m\u001b[38;5;124m'\u001b[39m\u001b[38;5;124mfloat64\u001b[39m\u001b[38;5;124m'\u001b[39m, always_2d\u001b[38;5;241m=\u001b[39m\u001b[38;5;28;01mFalse\u001b[39;00m,\n\u001b[1;32m    200\u001b[0m          fill_value\u001b[38;5;241m=\u001b[39m\u001b[38;5;28;01mNone\u001b[39;00m, out\u001b[38;5;241m=\u001b[39m\u001b[38;5;28;01mNone\u001b[39;00m, samplerate\u001b[38;5;241m=\u001b[39m\u001b[38;5;28;01mNone\u001b[39;00m, channels\u001b[38;5;241m=\u001b[39m\u001b[38;5;28;01mNone\u001b[39;00m,\n\u001b[1;32m    201\u001b[0m          \u001b[38;5;28mformat\u001b[39m\u001b[38;5;241m=\u001b[39m\u001b[38;5;28;01mNone\u001b[39;00m, subtype\u001b[38;5;241m=\u001b[39m\u001b[38;5;28;01mNone\u001b[39;00m, endian\u001b[38;5;241m=\u001b[39m\u001b[38;5;28;01mNone\u001b[39;00m, closefd\u001b[38;5;241m=\u001b[39m\u001b[38;5;28;01mTrue\u001b[39;00m):\n\u001b[1;32m    202\u001b[0m \u001b[38;5;250m    \u001b[39m\u001b[38;5;124;03m\"\"\"Provide audio data from a sound file as NumPy array.\u001b[39;00m\n\u001b[1;32m    203\u001b[0m \n\u001b[1;32m    204\u001b[0m \u001b[38;5;124;03m    By default, the whole file is read from the beginning, but the\u001b[39;00m\n\u001b[0;32m   (...)\u001b[0m\n\u001b[1;32m    283\u001b[0m \n\u001b[1;32m    284\u001b[0m \u001b[38;5;124;03m    \"\"\"\u001b[39;00m\n\u001b[0;32m--> 285\u001b[0m     \u001b[38;5;28;01mwith\u001b[39;00m \u001b[43mSoundFile\u001b[49m\u001b[43m(\u001b[49m\u001b[43mfile\u001b[49m\u001b[43m,\u001b[49m\u001b[43m \u001b[49m\u001b[38;5;124;43m'\u001b[39;49m\u001b[38;5;124;43mr\u001b[39;49m\u001b[38;5;124;43m'\u001b[39;49m\u001b[43m,\u001b[49m\u001b[43m \u001b[49m\u001b[43msamplerate\u001b[49m\u001b[43m,\u001b[49m\u001b[43m \u001b[49m\u001b[43mchannels\u001b[49m\u001b[43m,\u001b[49m\n\u001b[1;32m    286\u001b[0m \u001b[43m                   \u001b[49m\u001b[43msubtype\u001b[49m\u001b[43m,\u001b[49m\u001b[43m \u001b[49m\u001b[43mendian\u001b[49m\u001b[43m,\u001b[49m\u001b[43m \u001b[49m\u001b[38;5;28;43mformat\u001b[39;49m\u001b[43m,\u001b[49m\u001b[43m \u001b[49m\u001b[43mclosefd\u001b[49m\u001b[43m)\u001b[49m \u001b[38;5;28;01mas\u001b[39;00m f:\n\u001b[1;32m    287\u001b[0m         frames \u001b[38;5;241m=\u001b[39m f\u001b[38;5;241m.\u001b[39m_prepare_read(start, stop, frames)\n\u001b[1;32m    288\u001b[0m         data \u001b[38;5;241m=\u001b[39m f\u001b[38;5;241m.\u001b[39mread(frames, dtype, always_2d, fill_value, out)\n",
      "File \u001b[0;32m~/miniconda3/envs/fast_cfm/lib/python3.10/site-packages/soundfile.py:658\u001b[0m, in \u001b[0;36mSoundFile.__init__\u001b[0;34m(self, file, mode, samplerate, channels, subtype, endian, format, closefd)\u001b[0m\n\u001b[1;32m    655\u001b[0m \u001b[38;5;28mself\u001b[39m\u001b[38;5;241m.\u001b[39m_mode \u001b[38;5;241m=\u001b[39m mode\n\u001b[1;32m    656\u001b[0m \u001b[38;5;28mself\u001b[39m\u001b[38;5;241m.\u001b[39m_info \u001b[38;5;241m=\u001b[39m _create_info_struct(file, mode, samplerate, channels,\n\u001b[1;32m    657\u001b[0m                                  \u001b[38;5;28mformat\u001b[39m, subtype, endian)\n\u001b[0;32m--> 658\u001b[0m \u001b[38;5;28mself\u001b[39m\u001b[38;5;241m.\u001b[39m_file \u001b[38;5;241m=\u001b[39m \u001b[38;5;28;43mself\u001b[39;49m\u001b[38;5;241;43m.\u001b[39;49m\u001b[43m_open\u001b[49m\u001b[43m(\u001b[49m\u001b[43mfile\u001b[49m\u001b[43m,\u001b[49m\u001b[43m \u001b[49m\u001b[43mmode_int\u001b[49m\u001b[43m,\u001b[49m\u001b[43m \u001b[49m\u001b[43mclosefd\u001b[49m\u001b[43m)\u001b[49m\n\u001b[1;32m    659\u001b[0m \u001b[38;5;28;01mif\u001b[39;00m \u001b[38;5;28mset\u001b[39m(mode)\u001b[38;5;241m.\u001b[39missuperset(\u001b[38;5;124m'\u001b[39m\u001b[38;5;124mr+\u001b[39m\u001b[38;5;124m'\u001b[39m) \u001b[38;5;129;01mand\u001b[39;00m \u001b[38;5;28mself\u001b[39m\u001b[38;5;241m.\u001b[39mseekable():\n\u001b[1;32m    660\u001b[0m     \u001b[38;5;66;03m# Move write position to 0 (like in Python file objects)\u001b[39;00m\n\u001b[1;32m    661\u001b[0m     \u001b[38;5;28mself\u001b[39m\u001b[38;5;241m.\u001b[39mseek(\u001b[38;5;241m0\u001b[39m)\n",
      "File \u001b[0;32m~/miniconda3/envs/fast_cfm/lib/python3.10/site-packages/soundfile.py:1216\u001b[0m, in \u001b[0;36mSoundFile._open\u001b[0;34m(self, file, mode_int, closefd)\u001b[0m\n\u001b[1;32m   1213\u001b[0m \u001b[38;5;28;01mif\u001b[39;00m file_ptr \u001b[38;5;241m==\u001b[39m _ffi\u001b[38;5;241m.\u001b[39mNULL:\n\u001b[1;32m   1214\u001b[0m     \u001b[38;5;66;03m# get the actual error code\u001b[39;00m\n\u001b[1;32m   1215\u001b[0m     err \u001b[38;5;241m=\u001b[39m _snd\u001b[38;5;241m.\u001b[39msf_error(file_ptr)\n\u001b[0;32m-> 1216\u001b[0m     \u001b[38;5;28;01mraise\u001b[39;00m LibsndfileError(err, prefix\u001b[38;5;241m=\u001b[39m\u001b[38;5;124m\"\u001b[39m\u001b[38;5;124mError opening \u001b[39m\u001b[38;5;132;01m{0!r}\u001b[39;00m\u001b[38;5;124m: \u001b[39m\u001b[38;5;124m\"\u001b[39m\u001b[38;5;241m.\u001b[39mformat(\u001b[38;5;28mself\u001b[39m\u001b[38;5;241m.\u001b[39mname))\n\u001b[1;32m   1217\u001b[0m \u001b[38;5;28;01mif\u001b[39;00m mode_int \u001b[38;5;241m==\u001b[39m _snd\u001b[38;5;241m.\u001b[39mSFM_WRITE:\n\u001b[1;32m   1218\u001b[0m     \u001b[38;5;66;03m# Due to a bug in libsndfile version <= 1.0.25, frames != 0\u001b[39;00m\n\u001b[1;32m   1219\u001b[0m     \u001b[38;5;66;03m# when opening a named pipe in SFM_WRITE mode.\u001b[39;00m\n\u001b[1;32m   1220\u001b[0m     \u001b[38;5;66;03m# See http://github.com/erikd/libsndfile/issues/77.\u001b[39;00m\n\u001b[1;32m   1221\u001b[0m     \u001b[38;5;28mself\u001b[39m\u001b[38;5;241m.\u001b[39m_info\u001b[38;5;241m.\u001b[39mframes \u001b[38;5;241m=\u001b[39m \u001b[38;5;241m0\u001b[39m\n",
      "\u001b[0;31mLibsndfileError\u001b[0m: Error opening '/home/pdnguyen/fast_confomer_finetun/finetune-fast-conformer/notebooks/audio_demo_real_1.wav': System error."
     ]
    }
   ],
   "source": [
    "from audiomentations import AddShortNoises, PolarityInversion\n",
    "import scipy.signal as signal\n",
    "import soundfile as sf\n",
    "import librosa\n",
    "import random\n",
    "from scipy.signal import butter, lfilter\n",
    "\n",
    "transform = AddShortNoises(\n",
    "    sounds_path=\"/home/pdnguyen/fast_confomer_finetun/finetune-fast-conformer/notebooks/03_tieng-on_noise_16k-2.wav\",\n",
    "    min_snr_in_db=50.0,\n",
    "    max_snr_in_db=70.0,\n",
    "    noise_rms=\"absolute\",\n",
    "    min_time_between_sounds=0.1,\n",
    "    max_time_between_sounds=0.5,\n",
    "    noise_transform=PolarityInversion(),\n",
    "    p=1.0\n",
    ")\n",
    "path_input_audio = \"/home/pdnguyen/fast_confomer_finetun/finetune-fast-conformer/notebooks/audio_demo_real_1.wav\"\n",
    "my_waveform_ndarray, sample_rate = sf.read(path_input_audio)\n",
    "augmented_sound = transform(my_waveform_ndarray, sample_rate=16000) \n",
    "output_path = \"/home/pdnguyen/fast_confomer_finetun/finetune-fast-conformer/notebooks/augment_2.wav\"\n",
    "sf.write(output_path, augmented_sound, sample_rate)"
   ]
  },
  {
   "cell_type": "code",
   "execution_count": 10,
   "metadata": {},
   "outputs": [
    {
     "name": "stderr",
     "output_type": "stream",
     "text": [
      "ffmpeg version 4.2.7-0ubuntu0.1 Copyright (c) 2000-2022 the FFmpeg developers\n",
      "  built with gcc 9 (Ubuntu 9.4.0-1ubuntu1~20.04.1)\n",
      "  configuration: --prefix=/usr --extra-version=0ubuntu0.1 --toolchain=hardened --libdir=/usr/lib/x86_64-linux-gnu --incdir=/usr/include/x86_64-linux-gnu --arch=amd64 --enable-gpl --disable-stripping --enable-avresample --disable-filter=resample --enable-avisynth --enable-gnutls --enable-ladspa --enable-libaom --enable-libass --enable-libbluray --enable-libbs2b --enable-libcaca --enable-libcdio --enable-libcodec2 --enable-libflite --enable-libfontconfig --enable-libfreetype --enable-libfribidi --enable-libgme --enable-libgsm --enable-libjack --enable-libmp3lame --enable-libmysofa --enable-libopenjpeg --enable-libopenmpt --enable-libopus --enable-libpulse --enable-librsvg --enable-librubberband --enable-libshine --enable-libsnappy --enable-libsoxr --enable-libspeex --enable-libssh --enable-libtheora --enable-libtwolame --enable-libvidstab --enable-libvorbis --enable-libvpx --enable-libwavpack --enable-libwebp --enable-libx265 --enable-libxml2 --enable-libxvid --enable-libzmq --enable-libzvbi --enable-lv2 --enable-omx --enable-openal --enable-opencl --enable-opengl --enable-sdl2 --enable-libdc1394 --enable-libdrm --enable-libiec61883 --enable-nvenc --enable-chromaprint --enable-frei0r --enable-libx264 --enable-shared\n",
      "  libavutil      56. 31.100 / 56. 31.100\n",
      "  libavcodec     58. 54.100 / 58. 54.100\n",
      "  libavformat    58. 29.100 / 58. 29.100\n",
      "  libavdevice    58.  8.100 / 58.  8.100\n",
      "  libavfilter     7. 57.100 /  7. 57.100\n",
      "  libavresample   4.  0.  0 /  4.  0.  0\n",
      "  libswscale      5.  5.100 /  5.  5.100\n",
      "  libswresample   3.  5.100 /  3.  5.100\n",
      "  libpostproc    55.  5.100 / 55.  5.100\n",
      "Input #0, flac, from '/home/pdnguyen/fast_confomer_finetun/finetune-fast-conformer/notebooks/AddShortNoises_transformed.flac':\n",
      "  Duration: 00:00:04.60, start: 0.000000, bitrate: 196 kb/s\n",
      "    Stream #0:0: Audio: flac, 22050 Hz, mono, s16\n",
      "Stream mapping:\n",
      "  Stream #0:0 -> #0:0 (flac (native) -> pcm_s16le (native))\n",
      "Press [q] to stop, [?] for help\n",
      "Output #0, wav, to '/home/pdnguyen/fast_confomer_finetun/finetune-fast-conformer/notebooks/noise.wav':\n",
      "  Metadata:\n",
      "    ISFT            : Lavf58.29.100\n",
      "    Stream #0:0: Audio: pcm_s16le ([1][0][0][0] / 0x0001), 16000 Hz, mono, s16, 256 kb/s\n",
      "    Metadata:\n",
      "      encoder         : Lavc58.54.100 pcm_s16le\n",
      "size=     144kB time=00:00:04.60 bitrate= 256.1kbits/s speed=3.29e+03x    \n",
      "video:0kB audio:144kB subtitle:0kB other streams:0kB global headers:0kB muxing overhead: 0.052989%\n"
     ]
    }
   ],
   "source": [
    "import subprocess\n",
    "\n",
    "def convert_m4a_to_wav(input_file, output_file):\n",
    "    command = [\n",
    "        'ffmpeg',\n",
    "        '-i', input_file,\n",
    "        '-ar', '16000',\n",
    "        '-ac', '1',\n",
    "        output_file\n",
    "    ]\n",
    "    \n",
    "    subprocess.run(command, check=True)\n",
    "\n",
    "# Sử dụng hàm để chuyển đổi tệp\n",
    "input_file = '/home/pdnguyen/fast_confomer_finetun/finetune-fast-conformer/notebooks/AddShortNoises_transformed.flac'\n",
    "output_file = '/home/pdnguyen/fast_confomer_finetun/finetune-fast-conformer/notebooks/noise.wav'\n",
    "convert_m4a_to_wav(input_file, output_file)"
   ]
  },
  {
   "cell_type": "code",
   "execution_count": 2,
   "metadata": {},
   "outputs": [
    {
     "name": "stdout",
     "output_type": "stream",
     "text": [
      "(2467111, 3)\n"
     ]
    }
   ],
   "source": [
    "import pandas as pd\n",
    "metadata_train = \"/home/lmnguyen/Projects/cmc_stt/finetune-fast-conformer/notebooks/results_csv/total_data_rms_filter_train.csv\"\n",
    "train_df = pd.read_csv(metadata_train)\n",
    "train_df = train_df.sample(frac=1).reset_index(drop=True)\n",
    "print(train_df.shape)"
   ]
  },
  {
   "cell_type": "code",
   "execution_count": 3,
   "metadata": {},
   "outputs": [
    {
     "name": "stdout",
     "output_type": "stream",
     "text": [
      "(246454, 3)\n",
      "(558502, 3)\n",
      "(168536, 3)\n",
      "(167519, 3)\n",
      "(205047, 3)\n",
      "(1121053, 3)\n",
      "2467111\n"
     ]
    }
   ],
   "source": [
    "search_augment = \"augment\"\n",
    "search_bud500 = \"BUD500\"\n",
    "search_trung = \"trung\"\n",
    "search_bac = \"bac\"\n",
    "search_nam = \"nam\"\n",
    "train_augment = train_df[train_df[\"file\"].str.contains(rf'{search_augment}')]\n",
    "print(train_augment.shape)\n",
    "train_filter_augment = train_df[~train_df[\"file\"].isin(train_augment[\"file\"])]\n",
    "bud_500_data = train_filter_augment[train_filter_augment[\"file\"].str.contains(rf'{search_bud500}')]\n",
    "train_filter_bud500_augment = train_filter_augment[~train_filter_augment[\"file\"].isin(bud_500_data[\"file\"])]\n",
    "print(bud_500_data.shape)\n",
    "# print(train_filter_bud500_augment.shape)\n",
    "search_trung_filter = train_filter_bud500_augment[train_filter_bud500_augment[\"file\"].str.contains(rf'{search_trung}')]\n",
    "print(search_trung_filter.shape)\n",
    "train_filter_bud500_augment_trung = train_filter_bud500_augment[~train_filter_bud500_augment[\"file\"].isin(search_trung_filter[\"file\"])]\n",
    "# print(train_filter_bud500_augment_trung.shape)\n",
    "search_bac_filter = train_filter_bud500_augment_trung[train_filter_bud500_augment_trung[\"file\"].str.contains(rf'{search_bac}')]\n",
    "train_filter_bud500_augment_trung_bac = train_filter_bud500_augment_trung[~train_filter_bud500_augment_trung[\"file\"].isin(search_bac_filter[\"file\"])]\n",
    "print(search_bac_filter.shape)\n",
    "# print(train_filter_bud500_augment_trung_bac.shape)\n",
    "search_nam_filter = train_filter_bud500_augment_trung_bac[train_filter_bud500_augment_trung_bac[\"file\"].str.contains(rf'{search_nam}')]\n",
    "train_filter_bud500_augment_trung_bac_nam = train_filter_bud500_augment_trung_bac[~train_filter_bud500_augment_trung_bac[\"file\"].isin(search_nam_filter[\"file\"])]\n",
    "print(search_nam_filter.shape)\n",
    "print(train_filter_bud500_augment_trung_bac_nam.shape)\n",
    "print(int(train_augment.shape[0])+int(bud_500_data.shape[0])+int(search_trung_filter.shape[0])+int(search_bac_filter.shape[0])+int(search_nam_filter.shape[0])+int(train_filter_bud500_augment_trung_bac_nam.shape[0]))"
   ]
  },
  {
   "cell_type": "code",
   "execution_count": 4,
   "metadata": {},
   "outputs": [
    {
     "name": "stdout",
     "output_type": "stream",
     "text": [
      "158566\n"
     ]
    }
   ],
   "source": [
    "df_bac = search_bac_filter.sample(frac=0.2, random_state=1)\n",
    "df_trung = search_trung_filter.sample(frac=0.2, random_state=1)\n",
    "df_nam = search_nam_filter.sample(frac=0.2, random_state=1)\n",
    "df_bud500 = bud_500_data.sample(frac=0.05, random_state=1)\n",
    "random_data = train_filter_bud500_augment_trung_bac_nam.sample(frac=0.02, random_state=1)\n",
    "print(len(df_bac) + len(df_trung) + len(df_nam) + len(df_bud500) + len(random_data))"
   ]
  },
  {
   "cell_type": "code",
   "execution_count": 5,
   "metadata": {},
   "outputs": [
    {
     "data": {
      "text/plain": [
       "(158566, 3)"
      ]
     },
     "execution_count": 5,
     "metadata": {},
     "output_type": "execute_result"
    }
   ],
   "source": [
    "df_augment = pd.concat([df_bac,df_trung,df_nam,df_bud500,random_data]).sample(frac=1, random_state=1)\n",
    "df_augment.shape"
   ]
  },
  {
   "cell_type": "code",
   "execution_count": 55,
   "metadata": {},
   "outputs": [
    {
     "name": "stderr",
     "output_type": "stream",
     "text": [
      "/home/lmnguyen/miniconda3/envs/stt/lib/python3.9/site-packages/audiomentations/core/transforms_interface.py:62: UserWarning: Warning: input samples dtype is np.float64. Converting to np.float32\n",
      "  warnings.warn(\n"
     ]
    }
   ],
   "source": [
    "path_test = \"/home/ntdong/Data/STT_dataset/Tiktok_20_12_2023/Tiktok/giong_nam/2023/12/20/audio/7016160944707390747/34_1ch.wav\"\n",
    "path_save = \"/home/lmnguyen/Projects/cmc_stt/finetune-fast-conformer/check_augment/aaaaa.wav\"\n",
    "augment_audio(path_input_audio=path_test,path_save_audio=path_save)"
   ]
  },
  {
   "cell_type": "code",
   "execution_count": null,
   "metadata": {},
   "outputs": [],
   "source": [
    "import tqdm\n",
    "dir_save_audio = \"/home/ntdong/Data/STT_dataset/61.Augment2same_telesales/wavs\"\n",
    "path_save_csv = \"/home/ntdong/Data/STT_dataset/61.Augment2same_telesales/metadata.csv\"\n",
    "i = 0\n",
    "with open(path_save_csv, 'w', encoding='utf8') as fp:\n",
    "    print(f'file,text,duration', file=fp)\n",
    "    for index, row in tqdm.tqdm(df_augment.iterrows()):\n",
    "        # print(row[0])\n",
    "        path_save_wav = f\"{dir_save_audio}/{index}.wav\"\n",
    "        augment_audio(row[0],path_save_wav)\n",
    "        print(f'{path_save_wav},{row[1]},{row[2]}', file=fp)"
   ]
  },
  {
   "cell_type": "markdown",
   "metadata": {},
   "source": [
    "# Purpose an method data augmentation which to the same the bug in recurrent model  "
   ]
  },
  {
   "cell_type": "markdown",
   "metadata": {},
   "source": [
    "## Filter data augmentation in clear data"
   ]
  },
  {
   "cell_type": "code",
   "execution_count": 1,
   "metadata": {},
   "outputs": [
    {
     "name": "stdout",
     "output_type": "stream",
     "text": [
      "(2742568, 3)\n"
     ]
    }
   ],
   "source": [
    "# import pandas as pd\n",
    "# metadata_train = \"/home/pdnguyen/fast_confomer_finetun/finetune-fast-conformer/notebooks/results_csv/train_2023_2024.csv\"\n",
    "# train_df = pd.read_csv(metadata_train)\n",
    "# train_df = train_df.sample(frac=1).reset_index(drop=True)\n",
    "# print(train_df.shape)"
   ]
  },
  {
   "cell_type": "code",
   "execution_count": 78,
   "metadata": {},
   "outputs": [],
   "source": [
    "# non_augment_df = train_df[~train_df['file'].str.contains('augment')] #data origin\n",
    "# non_augment_df = non_augment_df[~non_augment_df['file'].str.contains('_bg_noise')] #data origin\n",
    "# non_augment_df = non_augment_df[~non_augment_df['file'].str.contains('short_noise')] #data origin\n",
    "# non_augment_df = non_augment_df[~non_augment_df['file'].str.contains('denoise_dns48')]\n",
    "# non_augment_df = non_augment_df[~non_augment_df['file'].str.contains('compresison_aac')]#new_bg\n",
    "# non_augment_df = non_augment_df[~non_augment_df['file'].str.contains('new_bg')]\n",
    "# # non_augment_df = non_augment_df.sample(frac=1).reset_index(drop=True)\n",
    "# # denoise_dns48\n",
    "# #60.BUD500_15_05_2024\n",
    "\n",
    "# augment_df = train_df[~train_df.index.isin(non_augment_df.index)]\n",
    "# augment_df = augment_df[~augment_df['file'].str.contains('60.BUD500_15_05_2024')]\n",
    "# print(len(augment_df),len(non_augment_df))\n",
    "# columns_to_save = [\"file\", \"text\", \"duration\"]\n",
    "# non_augment_df.to_csv('/home/pdnguyen/fast_confomer_finetun/finetune-fast-conformer/notebooks/results_csv/2023_2024_origin_data_clean.csv', columns=columns_to_save, index=False, encoding='utf-8')\n",
    "# augment_df.to_csv('/home/pdnguyen/fast_confomer_finetun/finetune-fast-conformer/notebooks/results_csv/2023_2024_augment_data_clean.csv', columns=columns_to_save, index=False, encoding='utf-8')"
   ]
  },
  {
   "cell_type": "code",
   "execution_count": 76,
   "metadata": {},
   "outputs": [
    {
     "data": {
      "text/plain": [
       "2472619"
      ]
     },
     "execution_count": 76,
     "metadata": {},
     "output_type": "execute_result"
    }
   ],
   "source": [
    "1549074 + 923545"
   ]
  },
  {
   "cell_type": "code",
   "execution_count": 64,
   "metadata": {},
   "outputs": [
    {
     "name": "stdout",
     "output_type": "stream",
     "text": [
      "1765558\n"
     ]
    }
   ],
   "source": [
    "# ket hop 10% augment trước với data origin\n",
    "# augment_sample_size = int(len(augment_df) * 0.4)\n",
    "# augment_sample_df = augment_df.sample(n=augment_sample_size, random_state=42)\n",
    "# combined_train_df = pd.concat([non_augment_df, augment_sample_df])\n",
    "# print(len(combined_train_df))"
   ]
  },
  {
   "cell_type": "markdown",
   "metadata": {},
   "source": [
    "## Function increase audio speed "
   ]
  },
  {
   "cell_type": "code",
   "execution_count": 3,
   "metadata": {},
   "outputs": [
    {
     "name": "stdout",
     "output_type": "stream",
     "text": [
      "(1549074, 3)\n",
      "(1193494, 3)\n"
     ]
    },
    {
     "data": {
      "text/plain": [
       "2742568"
      ]
     },
     "execution_count": 3,
     "metadata": {},
     "output_type": "execute_result"
    }
   ],
   "source": [
    "import pandas as pd\n",
    "metadata_origindata = \"/home/pdnguyen/fast_confomer_finetun/finetune-fast-conformer/notebooks/results_csv/2023_2024_origin_data_clean.csv\"\n",
    "metadata_augment = \"/home/pdnguyen/fast_confomer_finetun/finetune-fast-conformer/notebooks/results_csv/2023_2024_augment_data_clean.csv\"\n",
    "original_df = pd.read_csv(metadata_origindata)\n",
    "augment_df = pd.read_csv(metadata_augment)\n",
    "original_df = original_df.sample(frac=1).reset_index(drop=True)\n",
    "augment_df = augment_df.sample(frac=1).reset_index(drop=True)\n",
    "print(original_df.shape)\n",
    "print(augment_df.shape)\n",
    "original_df.shape[0] + augment_df.shape[0]"
   ]
  },
  {
   "cell_type": "code",
   "execution_count": 4,
   "metadata": {},
   "outputs": [],
   "source": [
    "from pydub import AudioSegment\n",
    "import os\n",
    "import soundfile as sf\n",
    "import random\n",
    "import librosa\n",
    "\n",
    "def change_speed(audio_path,output_path,speed=1.2):\n",
    "    \"\"\"\n",
    "    Tăng tốc độ của audio và thay đổi chất giọng:\n",
    "\n",
    "    :param audio_path: Đường dẫn tới file audio gốc\n",
    "    :param speed: Hệ số tăng tốc (1.3 có nghĩa là nhanh hơn 30%)\n",
    "    :return: Đối tượng AudioSegment đã được tăng tốc\n",
    "    \"\"\"\n",
    "    speed = random.choice([1.3,1.4,1.5])\n",
    "    audio = AudioSegment.from_file(audio_path)\n",
    "    # Tăng tốc độ audio\n",
    "    new_audio = audio._spawn(audio.raw_data, overrides={\n",
    "        \"frame_rate\": int(audio.frame_rate * speed)\n",
    "    }).set_frame_rate(audio.frame_rate)\n",
    "    new_audio.export(output_path, format=\"wav\")\n",
    "\n",
    "# input_path = '/home/pdnguyen/fast_confomer_finetun/finetune-fast-conformer/infer_N/chunk_5_normalized.wav'\n",
    "# output_path = '/home/pdnguyen/fast_confomer_finetun/finetune-fast-conformer/infer_N/cut_audio_to_check/faster_5.wav'\n",
    "\n",
    "# faster_audio = change_speed(input_path)\n",
    "# faster_audio.export(output_path, format=\"wav\")\n"
   ]
  },
  {
   "cell_type": "code",
   "execution_count": 6,
   "metadata": {},
   "outputs": [],
   "source": [
    "def change_speed_without_pitch(audio_path, output_path, speed=1.3):\n",
    "    \"\"\"\n",
    "    Tăng tốc độ của audio mà không thay đổi chất giọng.\n",
    "\n",
    "    :param audio_path: Đường dẫn tới file audio gốc\n",
    "    :param output_path: Đường dẫn để lưu file audio mới\n",
    "    :param speed: Hệ số tăng tốc (1.3 có nghĩa là nhanh hơn 30%)\n",
    "    \"\"\"\n",
    "    speed = random.choice([1.3,1.4,1.5])\n",
    "    # Đọc file audio\n",
    "    y, sr = librosa.load(audio_path, sr=None)\n",
    "    \n",
    "    # Tăng tốc độ mà không thay đổi chất giọng\n",
    "    y_fast = librosa.effects.time_stretch(y,rate=speed)\n",
    "    \n",
    "    # Lưu file audio mới\n",
    "    sf.write(output_path, y_fast, sr)\n",
    "\n",
    "# input_path = '/home/pdnguyen/fast_confomer_finetun/finetune-fast-conformer/infer_N/chunk_5_normalized.wav'\n",
    "# output_path = '/home/pdnguyen/fast_confomer_finetun/finetune-fast-conformer/infer_N/cut_audio_to_check/faster_5_1.wav'\n",
    "# change_speed_without_pitch(input_path, output_path, speed=1.3)\n",
    "# print(f\"Audio đã được tăng tốc và lưu tại {output_path}\")"
   ]
  },
  {
   "cell_type": "code",
   "execution_count": 7,
   "metadata": {},
   "outputs": [],
   "source": [
    "# input_audio_path = \"/home/pdnguyen/fast_confomer_finetun/finetune-fast-conformer/infer_N/0_1ch.wav\"  # Replace with your actual path\n",
    "# output_audio_path = \"/home/pdnguyen/fast_confomer_finetun/finetune-fast-conformer/infer_N/cut_audio_to_check/file_check.wav\"  # Replace with your desired path\n",
    "\n",
    "def increase_lound(input_path,output_path):\n",
    "    ratio_augment_audio = [0.05,0.1,0.15,0.2,0.25]\n",
    "    audio_data, sample_rate = sf.read(input_path)\n",
    "    gain_factor = random.choice(ratio_augment_audio)\n",
    "    augmented_audio_data = audio_data * gain_factor\n",
    "    sf.write(output_path, augmented_audio_data, sample_rate)"
   ]
  },
  {
   "cell_type": "code",
   "execution_count": 8,
   "metadata": {},
   "outputs": [],
   "source": [
    "def change_speed_increase_lound(audio_path, output_path):\n",
    "    speed = random.choice([1.3,1.4,1.5])\n",
    "    gain_factor = random.choice([0.05,0.1,0.15,0.2,0.25])\n",
    "    y, sr = librosa.load(audio_path, sr=None)\n",
    "    y_fast = librosa.effects.time_stretch(y,rate=speed)\n",
    "    augmented_audio_data = y_fast * gain_factor\n",
    "    sf.write(output_path, augmented_audio_data, sr)\n",
    "\n",
    "# input_audio_path = \"/home/pdnguyen/fast_confomer_finetun/finetune-fast-conformer/infer_N/0_1ch.wav\"  # Replace with your actual path\n",
    "# output_audio_path = \"/home/pdnguyen/fast_confomer_finetun/finetune-fast-conformer/infer_N/cut_audio_to_check/file_check_222.wav\"  # Replace with your desired path\n",
    "\n",
    "# change_speed_increase_lound(input_audio_path,output_audio_path)\n"
   ]
  },
  {
   "cell_type": "markdown",
   "metadata": {},
   "source": [
    "## Data Augment processing "
   ]
  },
  {
   "cell_type": "code",
   "execution_count": 9,
   "metadata": {},
   "outputs": [
    {
     "name": "stdout",
     "output_type": "stream",
     "text": [
      "/mnt/driver/STT_data/STT_dataset/13.VLSP-ASR-2021/labeled_trainingset/wav/269-00011981-00012321.wav\n",
      "/mnt/driver/STT_data/STT_dataset/10.telesale/audio_telesale/tmduy/1578277341.201708_16k.wav/split_1/split_1.wav\n",
      "/mnt/driver/STT_data/STT_dataset/2.tts_big_vinno/wav/06834_new.wav\n"
     ]
    }
   ],
   "source": [
    "sample_size = int(len(original_df) * 0.10)\n",
    "\n",
    "augment_increase_speed = original_df.sample(n=sample_size, random_state=42)\n",
    "change_speed_pitch = original_df.sample(n=int(len(original_df) * 0.05), random_state=42)\n",
    "\n",
    "original_df = original_df.sample(frac=1).reset_index(drop=True)\n",
    "for i in augment_increase_speed[\"file\"]:\n",
    "    print(i)\n",
    "    break\n",
    "\n",
    "augment_reduce_lound = original_df.sample(n=sample_size, random_state=15)\n",
    "\n",
    "for i in augment_reduce_lound[\"file\"]:\n",
    "    print(i)\n",
    "    break\n",
    "original_df = original_df.sample(frac=1).reset_index(drop=True)\n",
    "\n",
    "augment_increase_speed_reduce_lound = original_df.sample(n=sample_size, random_state=30)\n",
    "\n",
    "for i in augment_increase_speed_reduce_lound[\"file\"]:\n",
    "    print(i)\n",
    "    break"
   ]
  },
  {
   "cell_type": "code",
   "execution_count": 10,
   "metadata": {},
   "outputs": [
    {
     "name": "stdout",
     "output_type": "stream",
     "text": [
      "(154907, 3)\n",
      "(154907, 3)\n",
      "(154907, 3)\n"
     ]
    }
   ],
   "source": [
    "print(augment_increase_speed.shape)\n",
    "print(augment_reduce_lound.shape)\n",
    "print(augment_increase_speed_reduce_lound.shape)"
   ]
  },
  {
   "cell_type": "code",
   "execution_count": 14,
   "metadata": {},
   "outputs": [
    {
     "name": "stderr",
     "output_type": "stream",
     "text": [
      "16980it [2:02:25,  2.23it/s]"
     ]
    }
   ],
   "source": [
    "import tqdm\n",
    "out_put_wav = \"/home/pdnguyen/fast_confomer_finetun/finetune-fast-conformer/63.Augment_speed_lound/wavs\"\n",
    "with open('/home/pdnguyen/fast_confomer_finetun/finetune-fast-conformer/63.Augment_speed_lound/augment_increase_speed_reduce_lound.csv', 'w', encoding='utf8') as fp:\n",
    "    print(f'file,text,duration', file=fp)\n",
    "    # for index,row in tqdm.tqdm(augment_increase_speed.iterrows()):\n",
    "    #     input_file = row[\"file\"]\n",
    "    #     text = row[\"text\"]\n",
    "    #     duration = row[\"duration\"]\n",
    "    #     output_file = f'{out_put_wav}/{index}_augment_increase_speed.wav'\n",
    "    #     change_speed_without_pitch(input_file,output_file)\n",
    "    #     print(f'{output_file},{text},{duration}', file=fp)\n",
    "    # for index,row in tqdm.tqdm(change_speed_pitch.iterrows()):\n",
    "    #     input_file = row[\"file\"]\n",
    "    #     text = row[\"text\"]\n",
    "    #     duration = row[\"duration\"]\n",
    "    #     output_file = f'{out_put_wav}/{index}_change_speed_pitch.wav'\n",
    "    #     change_speed(input_file,output_file)\n",
    "    #     print(f'{output_file},{text},{duration}', file=fp)\n",
    "    # for index,row in tqdm.tqdm(augment_reduce_lound.iterrows()):\n",
    "    #     input_file = row[\"file\"]\n",
    "    #     text = row[\"text\"]\n",
    "    #     duration = row[\"duration\"]\n",
    "    #     output_file = f'{out_put_wav}/{index}_augment_reduce_lound.wav'\n",
    "    #     increase_lound(input_file,output_file)\n",
    "    #     print(f'{output_file},{text},{duration}', file=fp)\n",
    "    for index,row in tqdm.tqdm(augment_increase_speed_reduce_lound.iterrows()):\n",
    "        input_file = row[\"file\"]\n",
    "        text = row[\"text\"]\n",
    "        duration = row[\"duration\"]\n",
    "        output_file = f'{out_put_wav}/{index}_augment_increase_speed_reduce_lound.wav'\n",
    "        change_speed_increase_lound(input_file,output_file)\n",
    "        print(f'{output_file},{text},{duration}', file=fp)"
   ]
  }
 ],
 "metadata": {
  "kernelspec": {
   "display_name": "stt",
   "language": "python",
   "name": "python3"
  },
  "language_info": {
   "codemirror_mode": {
    "name": "ipython",
    "version": 3
   },
   "file_extension": ".py",
   "mimetype": "text/x-python",
   "name": "python",
   "nbconvert_exporter": "python",
   "pygments_lexer": "ipython3",
   "version": "3.10.14"
  }
 },
 "nbformat": 4,
 "nbformat_minor": 2
}
