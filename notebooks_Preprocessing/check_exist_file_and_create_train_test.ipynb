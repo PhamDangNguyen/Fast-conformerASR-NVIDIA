{
 "cells": [
  {
   "cell_type": "code",
   "execution_count": 1,
   "metadata": {},
   "outputs": [],
   "source": [
    "import pandas as pd\n",
    "from pathlib import Path\n",
    "import os\n",
    "\n",
    "# train_df_add = pd.read_csv(\"/home/lmnguyen/Projects/cmc_stt/finetune-fast-conformer/notebooks/results_csv/add_data_cls03_1_train.csv\")\n",
    "# train_df_cmc = pd.read_csv(\"/home/lmnguyen/Projects/cmc_stt/finetune-fast-conformer/notebooks/results_csv/data_train_filter_error.csv\")\n",
    "# valid_df_add = pd.read_csv(\"/home/lmnguyen/Projects/cmc_stt/finetune-fast-conformer/notebooks/results_csv/add_data_cls03_1_valid.csv\")\n",
    "# valid_df_cmc = pd.read_csv(\"/home/lmnguyen/Projects/cmc_stt/finetune-fast-conformer/notebooks/results_csv/data_valid_filter_error.csv\")\n",
    "# train_df = pd.concat([train_df_add,train_df_cmc])\n",
    "# valid_df = pd.concat([valid_df_add,valid_df_cmc])\n",
    "\n",
    "train_df = pd.read_csv(\"/home/pdnguyen/fast_confomer_finetun/finetune-fast-conformer/notebooks/results_csv/20_aug57_10aug_64_total_origin_data_concatSTT.csv\")"
   ]
  },
  {
   "cell_type": "code",
   "execution_count": 2,
   "metadata": {},
   "outputs": [],
   "source": [
    "import json\n",
    "train_df.columns = [\"audio_filepath\", \"text\", \"duration\"]\n",
    "with open(\"/home/pdnguyen/fast_confomer_finetun/finetune-fast-conformer/metadata_train/fubon_project_deploy_t8.json\", \"w\", encoding=\"utf-8\") as f:\n",
    "    for row in train_df.to_dict(orient=\"records\"):\n",
    "        f.write(json.dumps(row, ensure_ascii=False) + \"\\n\")"
   ]
  },
  {
   "cell_type": "code",
   "execution_count": null,
   "metadata": {},
   "outputs": [],
   "source": [
    "def check_file_exists(file_path):\n",
    "    return os.path.exists(file_path)"
   ]
  },
  {
   "cell_type": "code",
   "execution_count": null,
   "metadata": {},
   "outputs": [],
   "source": [
    "import pandas as pd\n",
    "import os\n",
    "from concurrent.futures import ThreadPoolExecutor\n",
    "\n",
    "# Đọc dữ liệu từ các file CSV\n",
    "train_df = pd.read_csv(\"/home/pdnguyen/fast_confomer_finetun/finetune-fast-conformer/notebooks/results_csv/2023_2024_origin_data_clean.csv\")\n",
    "valid_df = pd.read_csv(\"/home/pdnguyen/fast_confomer_finetun/finetune-fast-conformer/notebooks/results_csv/2023_2024_augment_data_clean.csv\")\n",
    "\n",
    "# Shuffle the data\n",
    "train_df = train_df.sample(frac=1).reset_index(drop=True)\n",
    "valid_df = valid_df.sample(frac=1).reset_index(drop=True)\n",
    "\n",
    "# Function to check if a file exists\n",
    "def file_exists(filepath):\n",
    "    return os.path.exists(filepath)\n",
    "\n",
    "# Function to check files in a DataFrame using multithreading\n",
    "def check_file_paths(df, num_threads=10):\n",
    "    with ThreadPoolExecutor(max_workers=num_threads) as executor:\n",
    "        file_paths = df[\"file\"].tolist()\n",
    "        results = list(executor.map(file_exists, file_paths))\n",
    "    df[\"file_exists\"] = results\n",
    "    return df\n",
    "\n",
    "# Check file paths in train_df and valid_df\n",
    "train_df = check_file_paths(train_df)\n",
    "valid_df = check_file_paths(valid_df)\n",
    "\n",
    "# Print paths of files that do not exist in train_df\n",
    "print(\"Non-existing files in train_df:\")\n",
    "print(train_df[train_df[\"file_exists\"] == False][\"file\"])\n",
    "\n",
    "# Print paths of files that do not exist in valid_df\n",
    "print(\"Non-existing files in valid_df:\")\n",
    "print(valid_df[valid_df[\"file_exists\"] == False][\"file\"])\n"
   ]
  },
  {
   "cell_type": "code",
   "execution_count": null,
   "metadata": {},
   "outputs": [],
   "source": [
    "import tqdm\n",
    "rows_to_delete_train = []\n",
    "rows_to_delete_valid = []\n",
    "for index_train, row_train in tqdm.tqdm(train_df.iterrows()):\n",
    "    if not check_file_exists(row_train[\"file\"]):\n",
    "        print(row_train[\"file\"])\n",
    "        rows_to_delete_train.append(index_train)\n",
    "train_df.drop(rows_to_delete_train, inplace=True)\n",
    "\n",
    "for index_valid, row_valid in tqdm.tqdm(valid_df.iterrows()):\n",
    "    if not check_file_exists(row_valid[\"file\"]):\n",
    "        print(row_valid[\"file\"])\n",
    "        rows_to_delete_valid.append(index_valid)\n",
    "valid_df.drop(rows_to_delete_valid, inplace=True)"
   ]
  },
  {
   "cell_type": "code",
   "execution_count": null,
   "metadata": {},
   "outputs": [],
   "source": [
    "# valid_df.columns = [\"audio_filepath\", \"text\", \"duration\"]\n",
    "train_df.columns = [\"audio_filepath\", \"text\", \"duration\"]"
   ]
  },
  {
   "cell_type": "code",
   "execution_count": null,
   "metadata": {},
   "outputs": [],
   "source": [
    "import json\n",
    "train_df = pd.read_csv(\"/home/pdnguyen/fast_confomer_finetun/finetune-fast-conformer/notebooks/results_csv/data_all_train_to_demo7_6_2024.csv\")\n",
    "train_df.columns = [\"audio_filepath\", \"text\", \"duration\"]\n",
    "with open(\"/home/pdnguyen/fast_confomer_finetun/finetune-fast-conformer/metadata_train/total_data_train_to_demo_7_6_2024.json\", \"w\", encoding=\"utf-8\") as f:\n",
    "    for row in train_df.to_dict(orient=\"records\"):\n",
    "        f.write(json.dumps(row, ensure_ascii=False) + \"\\n\")\n",
    "\n",
    "# with open(\"/home/pdnguyen/fast_confomer_finetun/finetune-fast-conformer/metadata_train/total_data_2023_2024_val.json\", \"w\", encoding=\"utf-8\") as f:\n",
    "#     for row in valid_df.to_dict(orient=\"records\"):\n",
    "#         f.write(json.dumps(row, ensure_ascii=False) + \"\\n\")"
   ]
  },
  {
   "cell_type": "code",
   "execution_count": 1,
   "metadata": {},
   "outputs": [
    {
     "name": "stdout",
     "output_type": "stream",
     "text": [
      "Dữ liệu đã được ghi vào /home/pdnguyen/fast_confomer_finetun/finetune-fast-conformer/metadata_train/demo_roi_xoa_2.json\n"
     ]
    }
   ],
   "source": [
    "import pandas as pd\n",
    "import json\n",
    "# Đọc tệp CSV\n",
    "train_df = pd.read_csv(\"/home/pdnguyen/fast_confomer_finetun/finetune-fast-conformer/notebooks/results_csv/demo_xong_xoa_2.csv\")\n",
    "\n",
    "# Đặt lại tên các cột\n",
    "train_df.columns = [\"audio_filepath\", \"text\", \"duration\"]\n",
    "\n",
    "# Đảm bảo cột \"text\" là chuỗi ký tự\n",
    "train_df[\"text\"] = train_df[\"text\"].astype(str)\n",
    "\n",
    "# Ghi DataFrame vào tệp JSON với từng dòng\n",
    "output_path = \"/home/pdnguyen/fast_confomer_finetun/finetune-fast-conformer/metadata_train/demo_roi_xoa_2.json\"\n",
    "with open(output_path, \"w\", encoding=\"utf-8\") as f:\n",
    "    for row in train_df.to_dict(orient=\"records\"):\n",
    "        row[\"text\"] = str(row[\"text\"])  # Đảm bảo \"text\" là chuỗi ký tự\n",
    "        f.write(json.dumps(row, ensure_ascii=False) + \"\\n\")\n",
    "\n",
    "print(f\"Dữ liệu đã được ghi vào {output_path}\")"
   ]
  }
 ],
 "metadata": {
  "kernelspec": {
   "display_name": "stt",
   "language": "python",
   "name": "python3"
  },
  "language_info": {
   "codemirror_mode": {
    "name": "ipython",
    "version": 3
   },
   "file_extension": ".py",
   "mimetype": "text/x-python",
   "name": "python",
   "nbconvert_exporter": "python",
   "pygments_lexer": "ipython3",
   "version": "3.10.14"
  }
 },
 "nbformat": 4,
 "nbformat_minor": 2
}
