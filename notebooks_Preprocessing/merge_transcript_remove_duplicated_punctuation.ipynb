{
 "cells": [
  {
   "cell_type": "code",
   "execution_count": 8,
   "metadata": {},
   "outputs": [
    {
     "name": "stdout",
     "output_type": "stream",
     "text": [
      "Đã lưu cột 'transcript' vào file văn bản mới.\n"
     ]
    }
   ],
   "source": [
    "import pandas as pd\n",
    "import re\n",
    "\n",
    "def remove_punctuation(text):\n",
    "    return re.sub(r'[^\\w\\s]', '', text)\n",
    "\n",
    "df_1 = pd.read_csv('/home/pdnguyen/fast_confomer_finetun/train_kenLM/decoders/metadata_train/telesale_2.csv', usecols=['transcript'])\n",
    "df_2 = pd.read_csv('/home/pdnguyen/fast_confomer_finetun/train_kenLM/decoders/metadata_train/telesale_3.csv', usecols=['transcript'])\n",
    "\n",
    "df_1['transcript'] = df_1['transcript'].apply(remove_punctuation)\n",
    "df_2['transcript'] = df_2['transcript'].apply(remove_punctuation)\n",
    "\n",
    "address_df = pd.concat([df_1, df_2], axis=1)\n",
    "\n",
    "address_df.to_csv('/home/pdnguyen/fast_confomer_finetun/finetune-fast-conformer/dict_N/text_address.txt', index=False, header=None)\n",
    "\n",
    "print(\"Đã lưu cột 'transcript' vào file văn bản mới.\")"
   ]
  },
  {
   "cell_type": "code",
   "execution_count": 9,
   "metadata": {},
   "outputs": [
    {
     "name": "stdout",
     "output_type": "stream",
     "text": [
      "Các dòng trùng lặp đã được loại bỏ và kết quả được lưu vào file mới.\n"
     ]
    }
   ],
   "source": [
    "def remove_duplicates(input_file, output_file):\n",
    "    with open(input_file, 'r') as f:\n",
    "        lines = f.readlines()\n",
    "    \n",
    "    unique_lines = list(set(lines))\n",
    "    \n",
    "    with open(output_file, 'w') as f:\n",
    "        f.writelines(unique_lines)\n",
    "\n",
    "input_file = '/home/pdnguyen/fast_confomer_finetun/finetune-fast-conformer/dict_N/text_corpus/2023_2024_add_address_telesale.txt'\n",
    "output_file = '/home/pdnguyen/fast_confomer_finetun/finetune-fast-conformer/dict_N/text_corpus/2023_2024_add_address_telesale_final.txt'\n",
    "\n",
    "remove_duplicates(input_file, output_file)\n",
    "\n",
    "print(\"Save done\")"
   ]
  }
 ],
 "metadata": {
  "kernelspec": {
   "display_name": "fast_cfm",
   "language": "python",
   "name": "python3"
  },
  "language_info": {
   "codemirror_mode": {
    "name": "ipython",
    "version": 3
   },
   "file_extension": ".py",
   "mimetype": "text/x-python",
   "name": "python",
   "nbconvert_exporter": "python",
   "pygments_lexer": "ipython3",
   "version": "3.1.undefined"
  }
 },
 "nbformat": 4,
 "nbformat_minor": 2
}
