{
 "cells": [
  {
   "cell_type": "code",
   "execution_count": 1,
   "metadata": {},
   "outputs": [],
   "source": [
    "import pandas as pd\n",
    "from pathlib import Path\n",
    "import os\n",
    "\n",
    "\n",
    "train_df = pd.read_csv(\"/home/pdnguyen/fast_confomer_finetun/finetune-fast-conformer/notebooks/results_csv/50_aug_57_and_64_all_t7_t8.csv\")\n",
    "# valid_df = pd.read_csv(\"/home/pdnguyen/fast_confomer_finetun/finetune-fast-conformer/notebooks/results_csv/val_test.csv\")\n",
    "train_df = train_df.sample(frac=1,random_state=1).reset_index(drop=True)\n",
    "# valid_df = valid_df.sample(frac=1).reset_index(drop=True)"
   ]
  },
  {
   "cell_type": "code",
   "execution_count": 2,
   "metadata": {},
   "outputs": [],
   "source": [
    "# valid_df.columns = [\"audio_filepath\", \"text\", \"duration\"]\n",
    "train_df.columns = [\"audio_filepath\", \"text\", \"duration\"]"
   ]
  },
  {
   "cell_type": "code",
   "execution_count": 3,
   "metadata": {},
   "outputs": [],
   "source": [
    "import json\n",
    "\n",
    "with open(\"/home/pdnguyen/fast_confomer_finetun/finetune-fast-conformer/metadata_train/fubon_t8.json\", \"w\", encoding=\"utf-8\") as f:\n",
    "    for row in train_df.to_dict(orient=\"records\"):\n",
    "        f.write(json.dumps(row, ensure_ascii=False) + \"\\n\")\n",
    "\n",
    "# with open(\"/home/pdnguyen/fast_confomer_finetun/finetune-fast-conformer/metadata_train/val_test.json\", \"w\", encoding=\"utf-8\") as f:\n",
    "#     for row in valid_df.to_dict(orient=\"records\"):\n",
    "#         f.write(json.dumps(row, ensure_ascii=False) + \"\\n\")"
   ]
  }
 ],
 "metadata": {
  "kernelspec": {
   "display_name": "stt",
   "language": "python",
   "name": "python3"
  },
  "language_info": {
   "codemirror_mode": {
    "name": "ipython",
    "version": 3
   },
   "file_extension": ".py",
   "mimetype": "text/x-python",
   "name": "python",
   "nbconvert_exporter": "python",
   "pygments_lexer": "ipython3",
   "version": "3.10.14"
  }
 },
 "nbformat": 4,
 "nbformat_minor": 2
}
